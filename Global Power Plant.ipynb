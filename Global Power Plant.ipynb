{
 "cells": [
  {
   "cell_type": "code",
   "execution_count": 1,
   "id": "7f06f3a7",
   "metadata": {},
   "outputs": [],
   "source": [
    "import pandas as pd\n",
    "import numpy as np\n",
    "import seaborn as sns\n",
    "from sklearn.preprocessing import StandardScaler\n",
    "import matplotlib.pyplot as plt\n",
    "import warnings\n",
    "warnings.filterwarnings('ignore')\n",
    "%matplotlib inline"
   ]
  },
  {
   "cell_type": "code",
   "execution_count": 2,
   "id": "f32748ac",
   "metadata": {},
   "outputs": [
    {
     "data": {
      "text/html": [
       "<div>\n",
       "<style scoped>\n",
       "    .dataframe tbody tr th:only-of-type {\n",
       "        vertical-align: middle;\n",
       "    }\n",
       "\n",
       "    .dataframe tbody tr th {\n",
       "        vertical-align: top;\n",
       "    }\n",
       "\n",
       "    .dataframe thead th {\n",
       "        text-align: right;\n",
       "    }\n",
       "</style>\n",
       "<table border=\"1\" class=\"dataframe\">\n",
       "  <thead>\n",
       "    <tr style=\"text-align: right;\">\n",
       "      <th></th>\n",
       "      <th>country</th>\n",
       "      <th>country_long</th>\n",
       "      <th>name</th>\n",
       "      <th>gppd_idnr</th>\n",
       "      <th>capacity_mw</th>\n",
       "      <th>latitude</th>\n",
       "      <th>longitude</th>\n",
       "      <th>primary_fuel</th>\n",
       "      <th>other_fuel1</th>\n",
       "      <th>other_fuel2</th>\n",
       "      <th>...</th>\n",
       "      <th>geolocation_source</th>\n",
       "      <th>wepp_id</th>\n",
       "      <th>year_of_capacity_data</th>\n",
       "      <th>generation_gwh_2013</th>\n",
       "      <th>generation_gwh_2014</th>\n",
       "      <th>generation_gwh_2015</th>\n",
       "      <th>generation_gwh_2016</th>\n",
       "      <th>generation_gwh_2017</th>\n",
       "      <th>generation_data_source</th>\n",
       "      <th>estimated_generation_gwh</th>\n",
       "    </tr>\n",
       "  </thead>\n",
       "  <tbody>\n",
       "    <tr>\n",
       "      <th>0</th>\n",
       "      <td>IND</td>\n",
       "      <td>India</td>\n",
       "      <td>ACME Solar Tower</td>\n",
       "      <td>WRI1020239</td>\n",
       "      <td>2.5</td>\n",
       "      <td>28.1839</td>\n",
       "      <td>73.2407</td>\n",
       "      <td>Solar</td>\n",
       "      <td>NaN</td>\n",
       "      <td>NaN</td>\n",
       "      <td>...</td>\n",
       "      <td>National Renewable Energy Laboratory</td>\n",
       "      <td>NaN</td>\n",
       "      <td>NaN</td>\n",
       "      <td>NaN</td>\n",
       "      <td>NaN</td>\n",
       "      <td>NaN</td>\n",
       "      <td>NaN</td>\n",
       "      <td>NaN</td>\n",
       "      <td>NaN</td>\n",
       "      <td>NaN</td>\n",
       "    </tr>\n",
       "    <tr>\n",
       "      <th>1</th>\n",
       "      <td>IND</td>\n",
       "      <td>India</td>\n",
       "      <td>ADITYA CEMENT WORKS</td>\n",
       "      <td>WRI1019881</td>\n",
       "      <td>98.0</td>\n",
       "      <td>24.7663</td>\n",
       "      <td>74.6090</td>\n",
       "      <td>Coal</td>\n",
       "      <td>NaN</td>\n",
       "      <td>NaN</td>\n",
       "      <td>...</td>\n",
       "      <td>WRI</td>\n",
       "      <td>NaN</td>\n",
       "      <td>NaN</td>\n",
       "      <td>NaN</td>\n",
       "      <td>NaN</td>\n",
       "      <td>NaN</td>\n",
       "      <td>NaN</td>\n",
       "      <td>NaN</td>\n",
       "      <td>NaN</td>\n",
       "      <td>NaN</td>\n",
       "    </tr>\n",
       "    <tr>\n",
       "      <th>2</th>\n",
       "      <td>IND</td>\n",
       "      <td>India</td>\n",
       "      <td>AES Saurashtra Windfarms</td>\n",
       "      <td>WRI1026669</td>\n",
       "      <td>39.2</td>\n",
       "      <td>21.9038</td>\n",
       "      <td>69.3732</td>\n",
       "      <td>Wind</td>\n",
       "      <td>NaN</td>\n",
       "      <td>NaN</td>\n",
       "      <td>...</td>\n",
       "      <td>WRI</td>\n",
       "      <td>NaN</td>\n",
       "      <td>NaN</td>\n",
       "      <td>NaN</td>\n",
       "      <td>NaN</td>\n",
       "      <td>NaN</td>\n",
       "      <td>NaN</td>\n",
       "      <td>NaN</td>\n",
       "      <td>NaN</td>\n",
       "      <td>NaN</td>\n",
       "    </tr>\n",
       "    <tr>\n",
       "      <th>3</th>\n",
       "      <td>IND</td>\n",
       "      <td>India</td>\n",
       "      <td>AGARTALA GT</td>\n",
       "      <td>IND0000001</td>\n",
       "      <td>135.0</td>\n",
       "      <td>23.8712</td>\n",
       "      <td>91.3602</td>\n",
       "      <td>Gas</td>\n",
       "      <td>NaN</td>\n",
       "      <td>NaN</td>\n",
       "      <td>...</td>\n",
       "      <td>WRI</td>\n",
       "      <td>NaN</td>\n",
       "      <td>2018.0</td>\n",
       "      <td>631.777928</td>\n",
       "      <td>617.789264</td>\n",
       "      <td>843.747</td>\n",
       "      <td>886.004428</td>\n",
       "      <td>663.774500</td>\n",
       "      <td>Central Electricity Authority</td>\n",
       "      <td>NaN</td>\n",
       "    </tr>\n",
       "    <tr>\n",
       "      <th>4</th>\n",
       "      <td>IND</td>\n",
       "      <td>India</td>\n",
       "      <td>AKALTARA TPP</td>\n",
       "      <td>IND0000002</td>\n",
       "      <td>1800.0</td>\n",
       "      <td>21.9603</td>\n",
       "      <td>82.4091</td>\n",
       "      <td>Coal</td>\n",
       "      <td>Oil</td>\n",
       "      <td>NaN</td>\n",
       "      <td>...</td>\n",
       "      <td>WRI</td>\n",
       "      <td>NaN</td>\n",
       "      <td>2018.0</td>\n",
       "      <td>1668.290000</td>\n",
       "      <td>3035.550000</td>\n",
       "      <td>5916.370</td>\n",
       "      <td>6243.000000</td>\n",
       "      <td>5385.579736</td>\n",
       "      <td>Central Electricity Authority</td>\n",
       "      <td>NaN</td>\n",
       "    </tr>\n",
       "  </tbody>\n",
       "</table>\n",
       "<p>5 rows × 25 columns</p>\n",
       "</div>"
      ],
      "text/plain": [
       "  country country_long                      name   gppd_idnr  capacity_mw  \\\n",
       "0     IND        India          ACME Solar Tower  WRI1020239          2.5   \n",
       "1     IND        India       ADITYA CEMENT WORKS  WRI1019881         98.0   \n",
       "2     IND        India  AES Saurashtra Windfarms  WRI1026669         39.2   \n",
       "3     IND        India               AGARTALA GT  IND0000001        135.0   \n",
       "4     IND        India              AKALTARA TPP  IND0000002       1800.0   \n",
       "\n",
       "   latitude  longitude primary_fuel other_fuel1 other_fuel2  ...  \\\n",
       "0   28.1839    73.2407        Solar         NaN         NaN  ...   \n",
       "1   24.7663    74.6090         Coal         NaN         NaN  ...   \n",
       "2   21.9038    69.3732         Wind         NaN         NaN  ...   \n",
       "3   23.8712    91.3602          Gas         NaN         NaN  ...   \n",
       "4   21.9603    82.4091         Coal         Oil         NaN  ...   \n",
       "\n",
       "                     geolocation_source  wepp_id year_of_capacity_data  \\\n",
       "0  National Renewable Energy Laboratory      NaN                   NaN   \n",
       "1                                   WRI      NaN                   NaN   \n",
       "2                                   WRI      NaN                   NaN   \n",
       "3                                   WRI      NaN                2018.0   \n",
       "4                                   WRI      NaN                2018.0   \n",
       "\n",
       "  generation_gwh_2013 generation_gwh_2014 generation_gwh_2015  \\\n",
       "0                 NaN                 NaN                 NaN   \n",
       "1                 NaN                 NaN                 NaN   \n",
       "2                 NaN                 NaN                 NaN   \n",
       "3          631.777928          617.789264             843.747   \n",
       "4         1668.290000         3035.550000            5916.370   \n",
       "\n",
       "   generation_gwh_2016  generation_gwh_2017         generation_data_source  \\\n",
       "0                  NaN                  NaN                            NaN   \n",
       "1                  NaN                  NaN                            NaN   \n",
       "2                  NaN                  NaN                            NaN   \n",
       "3           886.004428           663.774500  Central Electricity Authority   \n",
       "4          6243.000000          5385.579736  Central Electricity Authority   \n",
       "\n",
       "   estimated_generation_gwh  \n",
       "0                       NaN  \n",
       "1                       NaN  \n",
       "2                       NaN  \n",
       "3                       NaN  \n",
       "4                       NaN  \n",
       "\n",
       "[5 rows x 25 columns]"
      ]
     },
     "execution_count": 2,
     "metadata": {},
     "output_type": "execute_result"
    }
   ],
   "source": [
    "df=pd.read_csv('https://raw.githubusercontent.com/dsrscientist/dataset3/refs/heads/main/global_Power_plant_database.csv')\n",
    "df.head()"
   ]
  },
  {
   "cell_type": "code",
   "execution_count": 3,
   "id": "8501cddf",
   "metadata": {},
   "outputs": [
    {
     "data": {
      "text/html": [
       "<div>\n",
       "<style scoped>\n",
       "    .dataframe tbody tr th:only-of-type {\n",
       "        vertical-align: middle;\n",
       "    }\n",
       "\n",
       "    .dataframe tbody tr th {\n",
       "        vertical-align: top;\n",
       "    }\n",
       "\n",
       "    .dataframe thead th {\n",
       "        text-align: right;\n",
       "    }\n",
       "</style>\n",
       "<table border=\"1\" class=\"dataframe\">\n",
       "  <thead>\n",
       "    <tr style=\"text-align: right;\">\n",
       "      <th></th>\n",
       "      <th>country</th>\n",
       "      <th>country_long</th>\n",
       "      <th>name</th>\n",
       "      <th>gppd_idnr</th>\n",
       "      <th>capacity_mw</th>\n",
       "      <th>latitude</th>\n",
       "      <th>longitude</th>\n",
       "      <th>primary_fuel</th>\n",
       "      <th>other_fuel1</th>\n",
       "      <th>other_fuel2</th>\n",
       "      <th>...</th>\n",
       "      <th>geolocation_source</th>\n",
       "      <th>wepp_id</th>\n",
       "      <th>year_of_capacity_data</th>\n",
       "      <th>generation_gwh_2013</th>\n",
       "      <th>generation_gwh_2014</th>\n",
       "      <th>generation_gwh_2015</th>\n",
       "      <th>generation_gwh_2016</th>\n",
       "      <th>generation_gwh_2017</th>\n",
       "      <th>generation_data_source</th>\n",
       "      <th>estimated_generation_gwh</th>\n",
       "    </tr>\n",
       "  </thead>\n",
       "  <tbody>\n",
       "    <tr>\n",
       "      <th>903</th>\n",
       "      <td>IND</td>\n",
       "      <td>India</td>\n",
       "      <td>YERMARUS TPP</td>\n",
       "      <td>IND0000513</td>\n",
       "      <td>1600.0</td>\n",
       "      <td>16.2949</td>\n",
       "      <td>77.3568</td>\n",
       "      <td>Coal</td>\n",
       "      <td>Oil</td>\n",
       "      <td>NaN</td>\n",
       "      <td>...</td>\n",
       "      <td>WRI</td>\n",
       "      <td>NaN</td>\n",
       "      <td>2018.0</td>\n",
       "      <td>NaN</td>\n",
       "      <td>NaN</td>\n",
       "      <td>0.994875</td>\n",
       "      <td>233.59665</td>\n",
       "      <td>865.4</td>\n",
       "      <td>Central Electricity Authority</td>\n",
       "      <td>NaN</td>\n",
       "    </tr>\n",
       "    <tr>\n",
       "      <th>904</th>\n",
       "      <td>IND</td>\n",
       "      <td>India</td>\n",
       "      <td>Yelesandra Solar Power Plant</td>\n",
       "      <td>WRI1026222</td>\n",
       "      <td>3.0</td>\n",
       "      <td>12.8932</td>\n",
       "      <td>78.1654</td>\n",
       "      <td>Solar</td>\n",
       "      <td>NaN</td>\n",
       "      <td>NaN</td>\n",
       "      <td>...</td>\n",
       "      <td>Industry About</td>\n",
       "      <td>NaN</td>\n",
       "      <td>NaN</td>\n",
       "      <td>NaN</td>\n",
       "      <td>NaN</td>\n",
       "      <td>NaN</td>\n",
       "      <td>NaN</td>\n",
       "      <td>NaN</td>\n",
       "      <td>NaN</td>\n",
       "      <td>NaN</td>\n",
       "    </tr>\n",
       "    <tr>\n",
       "      <th>905</th>\n",
       "      <td>IND</td>\n",
       "      <td>India</td>\n",
       "      <td>Yelisirur wind power project</td>\n",
       "      <td>WRI1026776</td>\n",
       "      <td>25.5</td>\n",
       "      <td>15.2758</td>\n",
       "      <td>75.5811</td>\n",
       "      <td>Wind</td>\n",
       "      <td>NaN</td>\n",
       "      <td>NaN</td>\n",
       "      <td>...</td>\n",
       "      <td>WRI</td>\n",
       "      <td>NaN</td>\n",
       "      <td>NaN</td>\n",
       "      <td>NaN</td>\n",
       "      <td>NaN</td>\n",
       "      <td>NaN</td>\n",
       "      <td>NaN</td>\n",
       "      <td>NaN</td>\n",
       "      <td>NaN</td>\n",
       "      <td>NaN</td>\n",
       "    </tr>\n",
       "    <tr>\n",
       "      <th>906</th>\n",
       "      <td>IND</td>\n",
       "      <td>India</td>\n",
       "      <td>ZAWAR MINES</td>\n",
       "      <td>WRI1019901</td>\n",
       "      <td>80.0</td>\n",
       "      <td>24.3500</td>\n",
       "      <td>73.7477</td>\n",
       "      <td>Coal</td>\n",
       "      <td>NaN</td>\n",
       "      <td>NaN</td>\n",
       "      <td>...</td>\n",
       "      <td>WRI</td>\n",
       "      <td>NaN</td>\n",
       "      <td>NaN</td>\n",
       "      <td>NaN</td>\n",
       "      <td>NaN</td>\n",
       "      <td>NaN</td>\n",
       "      <td>NaN</td>\n",
       "      <td>NaN</td>\n",
       "      <td>NaN</td>\n",
       "      <td>NaN</td>\n",
       "    </tr>\n",
       "    <tr>\n",
       "      <th>907</th>\n",
       "      <td>IND</td>\n",
       "      <td>India</td>\n",
       "      <td>iEnergy Theni Wind Farm</td>\n",
       "      <td>WRI1026761</td>\n",
       "      <td>16.5</td>\n",
       "      <td>9.9344</td>\n",
       "      <td>77.4768</td>\n",
       "      <td>Wind</td>\n",
       "      <td>NaN</td>\n",
       "      <td>NaN</td>\n",
       "      <td>...</td>\n",
       "      <td>WRI</td>\n",
       "      <td>NaN</td>\n",
       "      <td>NaN</td>\n",
       "      <td>NaN</td>\n",
       "      <td>NaN</td>\n",
       "      <td>NaN</td>\n",
       "      <td>NaN</td>\n",
       "      <td>NaN</td>\n",
       "      <td>NaN</td>\n",
       "      <td>NaN</td>\n",
       "    </tr>\n",
       "  </tbody>\n",
       "</table>\n",
       "<p>5 rows × 25 columns</p>\n",
       "</div>"
      ],
      "text/plain": [
       "    country country_long                          name   gppd_idnr  \\\n",
       "903     IND        India                  YERMARUS TPP  IND0000513   \n",
       "904     IND        India  Yelesandra Solar Power Plant  WRI1026222   \n",
       "905     IND        India  Yelisirur wind power project  WRI1026776   \n",
       "906     IND        India                   ZAWAR MINES  WRI1019901   \n",
       "907     IND        India       iEnergy Theni Wind Farm  WRI1026761   \n",
       "\n",
       "     capacity_mw  latitude  longitude primary_fuel other_fuel1 other_fuel2  \\\n",
       "903       1600.0   16.2949    77.3568         Coal         Oil         NaN   \n",
       "904          3.0   12.8932    78.1654        Solar         NaN         NaN   \n",
       "905         25.5   15.2758    75.5811         Wind         NaN         NaN   \n",
       "906         80.0   24.3500    73.7477         Coal         NaN         NaN   \n",
       "907         16.5    9.9344    77.4768         Wind         NaN         NaN   \n",
       "\n",
       "     ...  geolocation_source  wepp_id year_of_capacity_data  \\\n",
       "903  ...                 WRI      NaN                2018.0   \n",
       "904  ...      Industry About      NaN                   NaN   \n",
       "905  ...                 WRI      NaN                   NaN   \n",
       "906  ...                 WRI      NaN                   NaN   \n",
       "907  ...                 WRI      NaN                   NaN   \n",
       "\n",
       "    generation_gwh_2013 generation_gwh_2014 generation_gwh_2015  \\\n",
       "903                 NaN                 NaN            0.994875   \n",
       "904                 NaN                 NaN                 NaN   \n",
       "905                 NaN                 NaN                 NaN   \n",
       "906                 NaN                 NaN                 NaN   \n",
       "907                 NaN                 NaN                 NaN   \n",
       "\n",
       "     generation_gwh_2016  generation_gwh_2017         generation_data_source  \\\n",
       "903            233.59665                865.4  Central Electricity Authority   \n",
       "904                  NaN                  NaN                            NaN   \n",
       "905                  NaN                  NaN                            NaN   \n",
       "906                  NaN                  NaN                            NaN   \n",
       "907                  NaN                  NaN                            NaN   \n",
       "\n",
       "     estimated_generation_gwh  \n",
       "903                       NaN  \n",
       "904                       NaN  \n",
       "905                       NaN  \n",
       "906                       NaN  \n",
       "907                       NaN  \n",
       "\n",
       "[5 rows x 25 columns]"
      ]
     },
     "execution_count": 3,
     "metadata": {},
     "output_type": "execute_result"
    }
   ],
   "source": [
    "df.tail()"
   ]
  },
  {
   "cell_type": "code",
   "execution_count": 4,
   "id": "7aaf7c1d",
   "metadata": {},
   "outputs": [
    {
     "data": {
      "text/plain": [
       "(908, 25)"
      ]
     },
     "execution_count": 4,
     "metadata": {},
     "output_type": "execute_result"
    }
   ],
   "source": [
    "#checking the Total No of Rows and Columns\n",
    "df.shape"
   ]
  },
  {
   "cell_type": "code",
   "execution_count": 5,
   "id": "d394f0f5",
   "metadata": {},
   "outputs": [
    {
     "data": {
      "text/plain": [
       "country                       0\n",
       "country_long                  0\n",
       "name                          0\n",
       "gppd_idnr                     0\n",
       "capacity_mw                   0\n",
       "latitude                     46\n",
       "longitude                    46\n",
       "primary_fuel                  0\n",
       "other_fuel1                 709\n",
       "other_fuel2                 907\n",
       "other_fuel3                 908\n",
       "commissioning_year          380\n",
       "owner                       566\n",
       "source                        0\n",
       "url                           0\n",
       "geolocation_source           19\n",
       "wepp_id                     908\n",
       "year_of_capacity_data       388\n",
       "generation_gwh_2013         524\n",
       "generation_gwh_2014         507\n",
       "generation_gwh_2015         483\n",
       "generation_gwh_2016         471\n",
       "generation_gwh_2017         465\n",
       "generation_data_source      458\n",
       "estimated_generation_gwh    908\n",
       "dtype: int64"
      ]
     },
     "execution_count": 5,
     "metadata": {},
     "output_type": "execute_result"
    }
   ],
   "source": [
    "#checking for null values\n",
    "df.isnull().sum()"
   ]
  },
  {
   "cell_type": "code",
   "execution_count": 6,
   "id": "7aa48f50",
   "metadata": {},
   "outputs": [
    {
     "data": {
      "text/plain": [
       "'In this dataset contains total 908 rows while checking null values we can see in columns other_fuel2-:907,other_fuel1:-709\\nother_fuel3:-908,wepp_id:-908,estimated_generation_gwh:-908 values are null. therefore we are dropping this columns.If we\\nfill these values then prediction will not correct'"
      ]
     },
     "execution_count": 6,
     "metadata": {},
     "output_type": "execute_result"
    }
   ],
   "source": [
    "\"\"\"In this dataset contains total 908 rows while checking null values we can see in columns other_fuel2-:907,other_fuel1:-709\n",
    "other_fuel3:-908,wepp_id:-908,estimated_generation_gwh:-908 values are null. therefore we are dropping this columns.If we\n",
    "fill these values then prediction will not correct\"\"\""
   ]
  },
  {
   "cell_type": "code",
   "execution_count": 7,
   "id": "fc362cfd",
   "metadata": {},
   "outputs": [],
   "source": [
    "df.drop(['other_fuel1','other_fuel2','other_fuel3','estimated_generation_gwh','wepp_id'],axis=1,inplace=True)"
   ]
  },
  {
   "cell_type": "code",
   "execution_count": 8,
   "id": "aa5a190a",
   "metadata": {},
   "outputs": [
    {
     "data": {
      "text/plain": [
       "country                     0\n",
       "country_long                0\n",
       "name                        0\n",
       "gppd_idnr                   0\n",
       "capacity_mw                 0\n",
       "latitude                   46\n",
       "longitude                  46\n",
       "primary_fuel                0\n",
       "commissioning_year        380\n",
       "owner                     566\n",
       "source                      0\n",
       "url                         0\n",
       "geolocation_source         19\n",
       "year_of_capacity_data     388\n",
       "generation_gwh_2013       524\n",
       "generation_gwh_2014       507\n",
       "generation_gwh_2015       483\n",
       "generation_gwh_2016       471\n",
       "generation_gwh_2017       465\n",
       "generation_data_source    458\n",
       "dtype: int64"
      ]
     },
     "execution_count": 8,
     "metadata": {},
     "output_type": "execute_result"
    }
   ],
   "source": [
    "#again checking for null values\n",
    "df.isnull().sum()"
   ]
  },
  {
   "cell_type": "code",
   "execution_count": 9,
   "id": "533ee813",
   "metadata": {},
   "outputs": [
    {
     "data": {
      "text/plain": [
       "country                    object\n",
       "country_long               object\n",
       "name                       object\n",
       "gppd_idnr                  object\n",
       "capacity_mw               float64\n",
       "latitude                  float64\n",
       "longitude                 float64\n",
       "primary_fuel               object\n",
       "commissioning_year        float64\n",
       "owner                      object\n",
       "source                     object\n",
       "url                        object\n",
       "geolocation_source         object\n",
       "year_of_capacity_data     float64\n",
       "generation_gwh_2013       float64\n",
       "generation_gwh_2014       float64\n",
       "generation_gwh_2015       float64\n",
       "generation_gwh_2016       float64\n",
       "generation_gwh_2017       float64\n",
       "generation_data_source     object\n",
       "dtype: object"
      ]
     },
     "execution_count": 9,
     "metadata": {},
     "output_type": "execute_result"
    }
   ],
   "source": [
    "df.dtypes"
   ]
  },
  {
   "cell_type": "code",
   "execution_count": 10,
   "id": "6157ec78",
   "metadata": {},
   "outputs": [],
   "source": [
    "#Fill null values Using mean method in contineous data \n",
    "for i in df.columns:\n",
    "    if df.dtypes[i]==\"float64\":\n",
    "        df[i]=df[i].fillna(df[i].mean())"
   ]
  },
  {
   "cell_type": "code",
   "execution_count": 11,
   "id": "8ebb869a",
   "metadata": {},
   "outputs": [
    {
     "data": {
      "text/plain": [
       "country                     0\n",
       "country_long                0\n",
       "name                        0\n",
       "gppd_idnr                   0\n",
       "capacity_mw                 0\n",
       "latitude                    0\n",
       "longitude                   0\n",
       "primary_fuel                0\n",
       "commissioning_year          0\n",
       "owner                     566\n",
       "source                      0\n",
       "url                         0\n",
       "geolocation_source         19\n",
       "year_of_capacity_data       0\n",
       "generation_gwh_2013         0\n",
       "generation_gwh_2014         0\n",
       "generation_gwh_2015         0\n",
       "generation_gwh_2016         0\n",
       "generation_gwh_2017         0\n",
       "generation_data_source    458\n",
       "dtype: int64"
      ]
     },
     "execution_count": 11,
     "metadata": {},
     "output_type": "execute_result"
    }
   ],
   "source": [
    "#again checking null values\n",
    "df.isnull().sum()"
   ]
  },
  {
   "cell_type": "code",
   "execution_count": 12,
   "id": "9601f1cb",
   "metadata": {},
   "outputs": [],
   "source": [
    "#Remove Null values using mode method for categorical data\n",
    "for i in df.columns:\n",
    "    if df.dtypes[i]==\"object\":\n",
    "        df[i]=df[i].fillna(df[i].mode()[0])"
   ]
  },
  {
   "cell_type": "code",
   "execution_count": 13,
   "id": "79c00915",
   "metadata": {},
   "outputs": [
    {
     "data": {
      "text/plain": [
       "country                   0\n",
       "country_long              0\n",
       "name                      0\n",
       "gppd_idnr                 0\n",
       "capacity_mw               0\n",
       "latitude                  0\n",
       "longitude                 0\n",
       "primary_fuel              0\n",
       "commissioning_year        0\n",
       "owner                     0\n",
       "source                    0\n",
       "url                       0\n",
       "geolocation_source        0\n",
       "year_of_capacity_data     0\n",
       "generation_gwh_2013       0\n",
       "generation_gwh_2014       0\n",
       "generation_gwh_2015       0\n",
       "generation_gwh_2016       0\n",
       "generation_gwh_2017       0\n",
       "generation_data_source    0\n",
       "dtype: int64"
      ]
     },
     "execution_count": 13,
     "metadata": {},
     "output_type": "execute_result"
    }
   ],
   "source": [
    "#again checking null values\n",
    "df.isnull().sum()"
   ]
  },
  {
   "cell_type": "code",
   "execution_count": 14,
   "id": "fcb1064c",
   "metadata": {},
   "outputs": [
    {
     "data": {
      "text/plain": [
       "'Now No Null values'"
      ]
     },
     "execution_count": 14,
     "metadata": {},
     "output_type": "execute_result"
    }
   ],
   "source": [
    "\"\"\"Now No Null values\"\"\""
   ]
  },
  {
   "cell_type": "code",
   "execution_count": 15,
   "id": "aa2856bc",
   "metadata": {},
   "outputs": [
    {
     "data": {
      "text/plain": [
       "0"
      ]
     },
     "execution_count": 15,
     "metadata": {},
     "output_type": "execute_result"
    }
   ],
   "source": [
    "#checking for duplicated value\n",
    "df.duplicated().sum()"
   ]
  },
  {
   "cell_type": "code",
   "execution_count": 16,
   "id": "5249aa8f",
   "metadata": {},
   "outputs": [
    {
     "name": "stdout",
     "output_type": "stream",
     "text": [
      "<class 'pandas.core.frame.DataFrame'>\n",
      "RangeIndex: 908 entries, 0 to 907\n",
      "Data columns (total 20 columns):\n",
      " #   Column                  Non-Null Count  Dtype  \n",
      "---  ------                  --------------  -----  \n",
      " 0   country                 908 non-null    object \n",
      " 1   country_long            908 non-null    object \n",
      " 2   name                    908 non-null    object \n",
      " 3   gppd_idnr               908 non-null    object \n",
      " 4   capacity_mw             908 non-null    float64\n",
      " 5   latitude                908 non-null    float64\n",
      " 6   longitude               908 non-null    float64\n",
      " 7   primary_fuel            908 non-null    object \n",
      " 8   commissioning_year      908 non-null    float64\n",
      " 9   owner                   908 non-null    object \n",
      " 10  source                  908 non-null    object \n",
      " 11  url                     908 non-null    object \n",
      " 12  geolocation_source      908 non-null    object \n",
      " 13  year_of_capacity_data   908 non-null    float64\n",
      " 14  generation_gwh_2013     908 non-null    float64\n",
      " 15  generation_gwh_2014     908 non-null    float64\n",
      " 16  generation_gwh_2015     908 non-null    float64\n",
      " 17  generation_gwh_2016     908 non-null    float64\n",
      " 18  generation_gwh_2017     908 non-null    float64\n",
      " 19  generation_data_source  908 non-null    object \n",
      "dtypes: float64(10), object(10)\n",
      "memory usage: 142.0+ KB\n"
     ]
    }
   ],
   "source": [
    "df.info()"
   ]
  },
  {
   "cell_type": "code",
   "execution_count": 17,
   "id": "c9f6ee3d",
   "metadata": {},
   "outputs": [
    {
     "data": {
      "text/plain": [
       "'In this dataset 2 types of data are present float64 and object with memory usage.'"
      ]
     },
     "execution_count": 17,
     "metadata": {},
     "output_type": "execute_result"
    }
   ],
   "source": [
    "\"\"\"In this dataset 2 types of data are present float64 and object with memory usage.\"\"\""
   ]
  },
  {
   "cell_type": "code",
   "execution_count": 18,
   "id": "e60b05bf",
   "metadata": {},
   "outputs": [
    {
     "name": "stdout",
     "output_type": "stream",
     "text": [
      "country\n",
      "IND    908\n",
      "Name: count, dtype: int64\n",
      "\n",
      "\n",
      "country_long\n",
      "India    908\n",
      "Name: count, dtype: int64\n",
      "\n",
      "\n",
      "name\n",
      "ACME Solar Tower           1\n",
      "RAICHUR                    1\n",
      "PRYAGRAJ (BARA) TPP        1\n",
      "PULICHINTALA               1\n",
      "PUNE MILL                  1\n",
      "                          ..\n",
      "KADAMPARI                  1\n",
      "KADANA                     1\n",
      "KADRA                      1\n",
      "KAHALGAON                  1\n",
      "iEnergy Theni Wind Farm    1\n",
      "Name: count, Length: 908, dtype: int64\n",
      "\n",
      "\n",
      "gppd_idnr\n",
      "WRI1020239    1\n",
      "IND0000356    1\n",
      "IND0000346    1\n",
      "IND0000523    1\n",
      "WRI1019978    1\n",
      "             ..\n",
      "IND0000166    1\n",
      "IND0000167    1\n",
      "IND0000168    1\n",
      "IND0000169    1\n",
      "WRI1026761    1\n",
      "Name: count, Length: 908, dtype: int64\n",
      "\n",
      "\n",
      "capacity_mw\n",
      "5.0       39\n",
      "10.0      22\n",
      "600.0     21\n",
      "15.0      20\n",
      "1200.0    19\n",
      "          ..\n",
      "645.0      1\n",
      "41.4       1\n",
      "17.5       1\n",
      "445.0      1\n",
      "106.6      1\n",
      "Name: count, Length: 365, dtype: int64\n",
      "\n",
      "\n",
      "latitude\n",
      "21.196189    46\n",
      "19.000400     3\n",
      "24.191700     3\n",
      "31.268000     2\n",
      "14.235200     2\n",
      "             ..\n",
      "22.755400     1\n",
      "27.159800     1\n",
      "17.297000     1\n",
      "20.877200     1\n",
      "9.934400      1\n",
      "Name: count, Length: 838, dtype: int64\n",
      "\n",
      "\n",
      "longitude\n",
      "77.447848    46\n",
      "71.691700     4\n",
      "71.691800     3\n",
      "72.898300     3\n",
      "81.287500     3\n",
      "             ..\n",
      "72.762900     1\n",
      "70.396100     1\n",
      "74.239300     1\n",
      "77.043500     1\n",
      "77.476800     1\n",
      "Name: count, Length: 829, dtype: int64\n",
      "\n",
      "\n",
      "primary_fuel\n",
      "Coal       259\n",
      "Hydro      250\n",
      "Solar      127\n",
      "Wind       123\n",
      "Gas         69\n",
      "Biomass     50\n",
      "Oil         21\n",
      "Nuclear      9\n",
      "Name: count, dtype: int64\n",
      "\n",
      "\n",
      "commissioning_year\n",
      "1996.876894    380\n",
      "2013.000000     28\n",
      "2015.000000     26\n",
      "2012.000000     23\n",
      "2016.000000     21\n",
      "              ... \n",
      "1946.000000      1\n",
      "1956.000000      1\n",
      "1937.000000      1\n",
      "1959.000000      1\n",
      "1953.000000      1\n",
      "Name: count, Length: 74, dtype: int64\n",
      "\n",
      "\n",
      "owner\n",
      "Acc Acc ltd                                                    570\n",
      "Sterling Agro Industries ltd.                                    4\n",
      "Jk Cement ltd                                                    4\n",
      "Maharashtra State Power Generation Co Ltd (MAHAGENCO)            3\n",
      "Karnataka Power Corporation Limited                              3\n",
      "                                                              ... \n",
      "Sunkon Energy Private Limited                                    1\n",
      "West Bengal Energy Development Corporation Limited (WBEDCL)      1\n",
      "Energy Infratech Private Limited                                 1\n",
      "K. N. Ram                                                        1\n",
      "iEnergy Wind Farms                                               1\n",
      "Name: count, Length: 280, dtype: int64\n",
      "\n",
      "\n",
      "source\n",
      "Central Electricity Authority                                  520\n",
      "CDM                                                            124\n",
      "Lancosola                                                       10\n",
      "National Renewable Energy Laboratory                             8\n",
      "National Thermal Power Corporation (NTPC)                        6\n",
      "                                                              ... \n",
      "Harsha Engineers Limited                                         1\n",
      "Godawari Energy ltd                                              1\n",
      "Sunkon Energy Private Limited                                    1\n",
      "West Bengal Energy Development Corporation Limited (WBEDCL)      1\n",
      "Yashwantrao Krishna ssk                                          1\n",
      "Name: count, Length: 191, dtype: int64\n",
      "\n",
      "\n",
      "url\n",
      "http://www.cea.nic.in/                                                              520\n",
      "http://www.lancosolar.com/pdfs/rajasthan-pv-project-details.pdf                       7\n",
      "http://www.ntpc.co.in                                                                 6\n",
      "http://viainfotech.biz/Biomass/theme5/document/green_market/REC-project-list.pdf      5\n",
      "http://www.mahaurja.com/PDF/PG2_GridConnSPPCommissioned.pdf                           4\n",
      "                                                                                   ... \n",
      "https://cdm.unfccc.int/Projects/DB/LRQA%20Ltd1346322352.66/view                       1\n",
      "https://cdm.unfccc.int/Projects/DB/DNV-CUK1351166669.28/view                          1\n",
      "http://harshaengineers.com                                                            1\n",
      "http://hiragroup.com/companies/godawari-green-energy-limited/                         1\n",
      "https://cdm.unfccc.int/Projects/DB/RWTUV1345031355.85/view                            1\n",
      "Name: count, Length: 304, dtype: int64\n",
      "\n",
      "\n",
      "geolocation_source\n",
      "WRI                                     785\n",
      "Industry About                          119\n",
      "National Renewable Energy Laboratory      4\n",
      "Name: count, dtype: int64\n",
      "\n",
      "\n",
      "year_of_capacity_data\n",
      "2018.0    908\n",
      "Name: count, dtype: int64\n",
      "\n",
      "\n",
      "generation_gwh_2013\n",
      "2304.059202    524\n",
      "0.000000        21\n",
      "605.533700       1\n",
      "8801.420000      1\n",
      "507.897750       1\n",
      "              ... \n",
      "2999.023000      1\n",
      "246.421700       1\n",
      "2942.810000      1\n",
      "5937.970000      1\n",
      "20.900000        1\n",
      "Name: count, Length: 365, dtype: int64\n",
      "\n",
      "\n",
      "generation_gwh_2014\n",
      "2420.393316    507\n",
      "0.000000        28\n",
      "20.242750        1\n",
      "9983.018000      1\n",
      "11.472450        1\n",
      "              ... \n",
      "451.053400       1\n",
      "3239.142900      1\n",
      "3155.000000      1\n",
      "191.975300       1\n",
      "3194.359820      1\n",
      "Name: count, Length: 375, dtype: int64\n",
      "\n",
      "\n",
      "generation_gwh_2015\n",
      "2414.072373     483\n",
      "0.000000         28\n",
      "1836.114800       1\n",
      "240.799900        1\n",
      "515.509500        1\n",
      "               ... \n",
      "14192.000000      1\n",
      "219.377600        1\n",
      "288.460450        1\n",
      "410.566850        1\n",
      "0.994875          1\n",
      "Name: count, Length: 399, dtype: int64\n",
      "\n",
      "\n",
      "generation_gwh_2016\n",
      "2453.936292     471\n",
      "0.000000         31\n",
      "8470.570000       2\n",
      "1511.000000       2\n",
      "74.913550         1\n",
      "               ... \n",
      "6130.019928       1\n",
      "5931.490000       1\n",
      "14834.800000      1\n",
      "175.537900        1\n",
      "233.596650        1\n",
      "Name: count, Length: 406, dtype: int64\n",
      "\n",
      "\n",
      "generation_gwh_2017\n",
      "2531.754458     465\n",
      "0.000000         33\n",
      "170.085300        2\n",
      "35.511550         1\n",
      "0.975100          1\n",
      "               ... \n",
      "15177.000000      1\n",
      "191.945450        1\n",
      "307.375400        1\n",
      "382.438200        1\n",
      "865.400000        1\n",
      "Name: count, Length: 411, dtype: int64\n",
      "\n",
      "\n",
      "generation_data_source\n",
      "Central Electricity Authority    908\n",
      "Name: count, dtype: int64\n",
      "\n",
      "\n"
     ]
    }
   ],
   "source": [
    "#checking the value counts of each column\n",
    "for i in df.columns:\n",
    "    print(df[i].value_counts())\n",
    "    print(\"\\n\")"
   ]
  },
  {
   "cell_type": "code",
   "execution_count": 19,
   "id": "c1141318",
   "metadata": {},
   "outputs": [
    {
     "data": {
      "text/html": [
       "<div>\n",
       "<style scoped>\n",
       "    .dataframe tbody tr th:only-of-type {\n",
       "        vertical-align: middle;\n",
       "    }\n",
       "\n",
       "    .dataframe tbody tr th {\n",
       "        vertical-align: top;\n",
       "    }\n",
       "\n",
       "    .dataframe thead th {\n",
       "        text-align: right;\n",
       "    }\n",
       "</style>\n",
       "<table border=\"1\" class=\"dataframe\">\n",
       "  <thead>\n",
       "    <tr style=\"text-align: right;\">\n",
       "      <th></th>\n",
       "      <th>No of unique values</th>\n",
       "    </tr>\n",
       "  </thead>\n",
       "  <tbody>\n",
       "    <tr>\n",
       "      <th>country</th>\n",
       "      <td>1</td>\n",
       "    </tr>\n",
       "    <tr>\n",
       "      <th>country_long</th>\n",
       "      <td>1</td>\n",
       "    </tr>\n",
       "    <tr>\n",
       "      <th>name</th>\n",
       "      <td>908</td>\n",
       "    </tr>\n",
       "    <tr>\n",
       "      <th>gppd_idnr</th>\n",
       "      <td>908</td>\n",
       "    </tr>\n",
       "    <tr>\n",
       "      <th>capacity_mw</th>\n",
       "      <td>365</td>\n",
       "    </tr>\n",
       "    <tr>\n",
       "      <th>latitude</th>\n",
       "      <td>838</td>\n",
       "    </tr>\n",
       "    <tr>\n",
       "      <th>longitude</th>\n",
       "      <td>829</td>\n",
       "    </tr>\n",
       "    <tr>\n",
       "      <th>primary_fuel</th>\n",
       "      <td>8</td>\n",
       "    </tr>\n",
       "    <tr>\n",
       "      <th>commissioning_year</th>\n",
       "      <td>74</td>\n",
       "    </tr>\n",
       "    <tr>\n",
       "      <th>owner</th>\n",
       "      <td>280</td>\n",
       "    </tr>\n",
       "    <tr>\n",
       "      <th>source</th>\n",
       "      <td>191</td>\n",
       "    </tr>\n",
       "    <tr>\n",
       "      <th>url</th>\n",
       "      <td>304</td>\n",
       "    </tr>\n",
       "    <tr>\n",
       "      <th>geolocation_source</th>\n",
       "      <td>3</td>\n",
       "    </tr>\n",
       "    <tr>\n",
       "      <th>year_of_capacity_data</th>\n",
       "      <td>1</td>\n",
       "    </tr>\n",
       "    <tr>\n",
       "      <th>generation_gwh_2013</th>\n",
       "      <td>365</td>\n",
       "    </tr>\n",
       "    <tr>\n",
       "      <th>generation_gwh_2014</th>\n",
       "      <td>375</td>\n",
       "    </tr>\n",
       "    <tr>\n",
       "      <th>generation_gwh_2015</th>\n",
       "      <td>399</td>\n",
       "    </tr>\n",
       "    <tr>\n",
       "      <th>generation_gwh_2016</th>\n",
       "      <td>406</td>\n",
       "    </tr>\n",
       "    <tr>\n",
       "      <th>generation_gwh_2017</th>\n",
       "      <td>411</td>\n",
       "    </tr>\n",
       "    <tr>\n",
       "      <th>generation_data_source</th>\n",
       "      <td>1</td>\n",
       "    </tr>\n",
       "  </tbody>\n",
       "</table>\n",
       "</div>"
      ],
      "text/plain": [
       "                        No of unique values\n",
       "country                                   1\n",
       "country_long                              1\n",
       "name                                    908\n",
       "gppd_idnr                               908\n",
       "capacity_mw                             365\n",
       "latitude                                838\n",
       "longitude                               829\n",
       "primary_fuel                              8\n",
       "commissioning_year                       74\n",
       "owner                                   280\n",
       "source                                  191\n",
       "url                                     304\n",
       "geolocation_source                        3\n",
       "year_of_capacity_data                     1\n",
       "generation_gwh_2013                     365\n",
       "generation_gwh_2014                     375\n",
       "generation_gwh_2015                     399\n",
       "generation_gwh_2016                     406\n",
       "generation_gwh_2017                     411\n",
       "generation_data_source                    1"
      ]
     },
     "execution_count": 19,
     "metadata": {},
     "output_type": "execute_result"
    }
   ],
   "source": [
    "#checking no of unique values in each col\n",
    "df.nunique().to_frame(\"No of unique values\")"
   ]
  },
  {
   "cell_type": "code",
   "execution_count": 20,
   "id": "18b4bc1e",
   "metadata": {},
   "outputs": [],
   "source": [
    "# removing column year_of_capacity_data,country,country_long,generation_data_source because it having one unique value\n",
    "df.drop(['year_of_capacity_data','country','country_long','generation_data_source'],axis=1,inplace=True)"
   ]
  },
  {
   "cell_type": "code",
   "execution_count": 21,
   "id": "13383776",
   "metadata": {},
   "outputs": [
    {
     "data": {
      "text/plain": [
       "(908, 16)"
      ]
     },
     "execution_count": 21,
     "metadata": {},
     "output_type": "execute_result"
    }
   ],
   "source": [
    "df.shape"
   ]
  },
  {
   "cell_type": "code",
   "execution_count": 22,
   "id": "3d394006",
   "metadata": {},
   "outputs": [
    {
     "data": {
      "text/html": [
       "<div>\n",
       "<style scoped>\n",
       "    .dataframe tbody tr th:only-of-type {\n",
       "        vertical-align: middle;\n",
       "    }\n",
       "\n",
       "    .dataframe tbody tr th {\n",
       "        vertical-align: top;\n",
       "    }\n",
       "\n",
       "    .dataframe thead th {\n",
       "        text-align: right;\n",
       "    }\n",
       "</style>\n",
       "<table border=\"1\" class=\"dataframe\">\n",
       "  <thead>\n",
       "    <tr style=\"text-align: right;\">\n",
       "      <th></th>\n",
       "      <th>capacity_mw</th>\n",
       "      <th>latitude</th>\n",
       "      <th>longitude</th>\n",
       "      <th>commissioning_year</th>\n",
       "      <th>generation_gwh_2013</th>\n",
       "      <th>generation_gwh_2014</th>\n",
       "      <th>generation_gwh_2015</th>\n",
       "      <th>generation_gwh_2016</th>\n",
       "      <th>generation_gwh_2017</th>\n",
       "    </tr>\n",
       "  </thead>\n",
       "  <tbody>\n",
       "    <tr>\n",
       "      <th>count</th>\n",
       "      <td>908.000000</td>\n",
       "      <td>908.000000</td>\n",
       "      <td>908.000000</td>\n",
       "      <td>908.000000</td>\n",
       "      <td>908.000000</td>\n",
       "      <td>908.000000</td>\n",
       "      <td>908.000000</td>\n",
       "      <td>908.000000</td>\n",
       "      <td>908.000000</td>\n",
       "    </tr>\n",
       "    <tr>\n",
       "      <th>mean</th>\n",
       "      <td>321.046378</td>\n",
       "      <td>21.196189</td>\n",
       "      <td>77.447848</td>\n",
       "      <td>1996.876894</td>\n",
       "      <td>2304.059202</td>\n",
       "      <td>2420.393316</td>\n",
       "      <td>2414.072373</td>\n",
       "      <td>2453.936292</td>\n",
       "      <td>2531.754458</td>\n",
       "    </tr>\n",
       "    <tr>\n",
       "      <th>std</th>\n",
       "      <td>580.221767</td>\n",
       "      <td>6.088110</td>\n",
       "      <td>4.781201</td>\n",
       "      <td>12.994825</td>\n",
       "      <td>2465.930970</td>\n",
       "      <td>2665.360236</td>\n",
       "      <td>2860.146282</td>\n",
       "      <td>2878.730064</td>\n",
       "      <td>2923.041411</td>\n",
       "    </tr>\n",
       "    <tr>\n",
       "      <th>min</th>\n",
       "      <td>0.000000</td>\n",
       "      <td>8.168900</td>\n",
       "      <td>68.644700</td>\n",
       "      <td>1927.000000</td>\n",
       "      <td>0.000000</td>\n",
       "      <td>0.000000</td>\n",
       "      <td>0.000000</td>\n",
       "      <td>0.000000</td>\n",
       "      <td>0.000000</td>\n",
       "    </tr>\n",
       "    <tr>\n",
       "      <th>25%</th>\n",
       "      <td>16.837500</td>\n",
       "      <td>17.057825</td>\n",
       "      <td>74.390250</td>\n",
       "      <td>1996.876894</td>\n",
       "      <td>1332.538825</td>\n",
       "      <td>1175.264825</td>\n",
       "      <td>874.205000</td>\n",
       "      <td>826.629750</td>\n",
       "      <td>852.438887</td>\n",
       "    </tr>\n",
       "    <tr>\n",
       "      <th>50%</th>\n",
       "      <td>60.000000</td>\n",
       "      <td>21.278850</td>\n",
       "      <td>76.978950</td>\n",
       "      <td>1996.876894</td>\n",
       "      <td>2304.059202</td>\n",
       "      <td>2420.393316</td>\n",
       "      <td>2414.072373</td>\n",
       "      <td>2453.936292</td>\n",
       "      <td>2531.754458</td>\n",
       "    </tr>\n",
       "    <tr>\n",
       "      <th>75%</th>\n",
       "      <td>388.125000</td>\n",
       "      <td>25.183775</td>\n",
       "      <td>79.211600</td>\n",
       "      <td>2003.000000</td>\n",
       "      <td>2304.059202</td>\n",
       "      <td>2420.393316</td>\n",
       "      <td>2414.072373</td>\n",
       "      <td>2453.936292</td>\n",
       "      <td>2531.754458</td>\n",
       "    </tr>\n",
       "    <tr>\n",
       "      <th>max</th>\n",
       "      <td>4760.000000</td>\n",
       "      <td>34.649000</td>\n",
       "      <td>95.408000</td>\n",
       "      <td>2018.000000</td>\n",
       "      <td>27586.200000</td>\n",
       "      <td>28127.000000</td>\n",
       "      <td>30539.000000</td>\n",
       "      <td>30015.000000</td>\n",
       "      <td>35116.000000</td>\n",
       "    </tr>\n",
       "  </tbody>\n",
       "</table>\n",
       "</div>"
      ],
      "text/plain": [
       "       capacity_mw    latitude   longitude  commissioning_year  \\\n",
       "count   908.000000  908.000000  908.000000          908.000000   \n",
       "mean    321.046378   21.196189   77.447848         1996.876894   \n",
       "std     580.221767    6.088110    4.781201           12.994825   \n",
       "min       0.000000    8.168900   68.644700         1927.000000   \n",
       "25%      16.837500   17.057825   74.390250         1996.876894   \n",
       "50%      60.000000   21.278850   76.978950         1996.876894   \n",
       "75%     388.125000   25.183775   79.211600         2003.000000   \n",
       "max    4760.000000   34.649000   95.408000         2018.000000   \n",
       "\n",
       "       generation_gwh_2013  generation_gwh_2014  generation_gwh_2015  \\\n",
       "count           908.000000           908.000000           908.000000   \n",
       "mean           2304.059202          2420.393316          2414.072373   \n",
       "std            2465.930970          2665.360236          2860.146282   \n",
       "min               0.000000             0.000000             0.000000   \n",
       "25%            1332.538825          1175.264825           874.205000   \n",
       "50%            2304.059202          2420.393316          2414.072373   \n",
       "75%            2304.059202          2420.393316          2414.072373   \n",
       "max           27586.200000         28127.000000         30539.000000   \n",
       "\n",
       "       generation_gwh_2016  generation_gwh_2017  \n",
       "count           908.000000           908.000000  \n",
       "mean           2453.936292          2531.754458  \n",
       "std            2878.730064          2923.041411  \n",
       "min               0.000000             0.000000  \n",
       "25%             826.629750           852.438887  \n",
       "50%            2453.936292          2531.754458  \n",
       "75%            2453.936292          2531.754458  \n",
       "max           30015.000000         35116.000000  "
      ]
     },
     "execution_count": 22,
     "metadata": {},
     "output_type": "execute_result"
    }
   ],
   "source": [
    "#statistical summary of numerical col\n",
    "df.describe()"
   ]
  },
  {
   "cell_type": "code",
   "execution_count": 23,
   "id": "6b58ff0f",
   "metadata": {},
   "outputs": [
    {
     "name": "stdout",
     "output_type": "stream",
     "text": [
      "primary_fuel\n",
      "Coal       259\n",
      "Hydro      250\n",
      "Solar      127\n",
      "Wind       123\n",
      "Gas         69\n",
      "Biomass     50\n",
      "Oil         21\n",
      "Nuclear      9\n",
      "Name: count, dtype: int64\n"
     ]
    },
    {
     "data": {
      "image/png": "[encoded data removed]",
      "text/plain": [
       "<Figure size 640x480 with 1 Axes>"
      ]
     },
     "metadata": {},
     "output_type": "display_data"
    }
   ],
   "source": [
    "#DATA VISUALIZATION\n",
    "#visualized the Primary fuel\n",
    "ax=sns.countplot(x='primary_fuel',data=df)\n",
    "print(df['primary_fuel'].value_counts())"
   ]
  },
  {
   "cell_type": "code",
   "execution_count": 24,
   "id": "d902db3c",
   "metadata": {},
   "outputs": [
    {
     "data": {
      "text/plain": [
       "'Here we can see Coal and Hydro primary fuel is more used. Oil and Nuclear is very less in used'"
      ]
     },
     "execution_count": 24,
     "metadata": {},
     "output_type": "execute_result"
    }
   ],
   "source": [
    "\"\"\"Here we can see Coal and Hydro primary fuel is more used. Oil and Nuclear is very less in used\"\"\""
   ]
  },
  {
   "cell_type": "code",
   "execution_count": 25,
   "id": "c11967c2",
   "metadata": {},
   "outputs": [
    {
     "data": {
      "text/plain": [
       "<Axes: xlabel='primary_fuel', ylabel='capacity_mw'>"
      ]
     },
     "execution_count": 25,
     "metadata": {},
     "output_type": "execute_result"
    },
    {
     "data": {
      "image/png": "[encoded data removed]",
      "text/plain": [
       "<Figure size 640x480 with 1 Axes>"
      ]
     },
     "metadata": {},
     "output_type": "display_data"
    }
   ],
   "source": [
    "#visualized the capacity of primary fuel\n",
    "sns.scatterplot(x='primary_fuel',y='capacity_mw',data=df,color='r')"
   ]
  },
  {
   "cell_type": "code",
   "execution_count": 26,
   "id": "39972bf8",
   "metadata": {},
   "outputs": [
    {
     "data": {
      "text/plain": [
       "'From above graph capacity of coal is higher than gas and hydro. wind,biomass oil have the least capacity. '"
      ]
     },
     "execution_count": 26,
     "metadata": {},
     "output_type": "execute_result"
    }
   ],
   "source": [
    "\"\"\"From above graph capacity of coal is higher than gas and hydro. wind,biomass oil have the least capacity. \"\"\""
   ]
  },
  {
   "cell_type": "code",
   "execution_count": 27,
   "id": "49708958",
   "metadata": {},
   "outputs": [
    {
     "data": {
      "text/plain": [
       "<Axes: xlabel='capacity_mw', ylabel='generation_gwh_2013'>"
      ]
     },
     "execution_count": 27,
     "metadata": {},
     "output_type": "execute_result"
    },
    {
     "data": {
      "image/png": "[encoded data removed]",
      "text/plain": [
       "<Figure size 640x480 with 1 Axes>"
      ]
     },
     "metadata": {},
     "output_type": "display_data"
    }
   ],
   "source": [
    "#visualized the capacity in generation_gwh_2013\n",
    "sns.scatterplot(x='capacity_mw',y='generation_gwh_2013',data=df,color='r')"
   ]
  },
  {
   "cell_type": "code",
   "execution_count": 28,
   "id": "5bca90cf",
   "metadata": {},
   "outputs": [
    {
     "data": {
      "text/plain": [
       "<Axes: xlabel='capacity_mw', ylabel='generation_gwh_2014'>"
      ]
     },
     "execution_count": 28,
     "metadata": {},
     "output_type": "execute_result"
    },
    {
     "data": {
      "image/png": "[encoded data removed]",
      "text/plain": [
       "<Figure size 640x480 with 1 Axes>"
      ]
     },
     "metadata": {},
     "output_type": "display_data"
    }
   ],
   "source": [
    "#visualized the capacity in generation_gwh_2014\n",
    "sns.scatterplot(x='capacity_mw',y='generation_gwh_2014',data=df,color='r')"
   ]
  },
  {
   "cell_type": "code",
   "execution_count": 29,
   "id": "1f718853",
   "metadata": {},
   "outputs": [
    {
     "data": {
      "text/plain": [
       "<Axes: xlabel='capacity_mw', ylabel='generation_gwh_2015'>"
      ]
     },
     "execution_count": 29,
     "metadata": {},
     "output_type": "execute_result"
    },
    {
     "data": {
      "image/png": "[encoded data removed]",
      "text/plain": [
       "<Figure size 640x480 with 1 Axes>"
      ]
     },
     "metadata": {},
     "output_type": "display_data"
    }
   ],
   "source": [
    "#visualized the capacity in generation_gwh_2015\n",
    "sns.scatterplot(x='capacity_mw',y='generation_gwh_2015',data=df,color='r')"
   ]
  },
  {
   "cell_type": "code",
   "execution_count": 30,
   "id": "c2d584bc",
   "metadata": {},
   "outputs": [
    {
     "data": {
      "text/plain": [
       "<Axes: xlabel='capacity_mw', ylabel='generation_gwh_2016'>"
      ]
     },
     "execution_count": 30,
     "metadata": {},
     "output_type": "execute_result"
    },
    {
     "data": {
      "image/png": "[encoded data removed]",
      "text/plain": [
       "<Figure size 640x480 with 1 Axes>"
      ]
     },
     "metadata": {},
     "output_type": "display_data"
    }
   ],
   "source": [
    "#visualized the capacity in generation_gwh_2016\n",
    "sns.scatterplot(x='capacity_mw',y='generation_gwh_2016',data=df,color='r')"
   ]
  },
  {
   "cell_type": "code",
   "execution_count": 31,
   "id": "303cbfec",
   "metadata": {},
   "outputs": [
    {
     "data": {
      "text/plain": [
       "<Axes: xlabel='capacity_mw', ylabel='generation_gwh_2017'>"
      ]
     },
     "execution_count": 31,
     "metadata": {},
     "output_type": "execute_result"
    },
    {
     "data": {
      "image/png": "[encoded data removed]",
      "text/plain": [
       "<Figure size 640x480 with 1 Axes>"
      ]
     },
     "metadata": {},
     "output_type": "display_data"
    }
   ],
   "source": [
    "#visualized the capacity in generation_gwh_2017\n",
    "sns.scatterplot(x='capacity_mw',y='generation_gwh_2017',data=df,color='r')"
   ]
  },
  {
   "cell_type": "code",
   "execution_count": 32,
   "id": "ef5b8f4b",
   "metadata": {},
   "outputs": [
    {
     "data": {
      "text/plain": [
       "'Here we can see generation_gwh_2013,generation_gwh_2014,generation_gwh_2015,generation_gwh_2016,generation_gwh_2017 are \\nlinearly related to capacity_mw i.e. target column.'"
      ]
     },
     "execution_count": 32,
     "metadata": {},
     "output_type": "execute_result"
    }
   ],
   "source": [
    "\"\"\"Here we can see generation_gwh_2013,generation_gwh_2014,generation_gwh_2015,generation_gwh_2016,generation_gwh_2017 are \n",
    "linearly related to capacity_mw i.e. target column.\"\"\""
   ]
  },
  {
   "cell_type": "code",
   "execution_count": 33,
   "id": "51d2593c",
   "metadata": {},
   "outputs": [
    {
     "name": "stdout",
     "output_type": "stream",
     "text": [
      "Categorical columns:  ['name', 'gppd_idnr', 'primary_fuel', 'owner', 'source', 'url', 'geolocation_source']\n",
      "\n",
      "\n",
      "numerical columns:  ['capacity_mw', 'latitude', 'longitude', 'commissioning_year', 'generation_gwh_2013', 'generation_gwh_2014', 'generation_gwh_2015', 'generation_gwh_2016', 'generation_gwh_2017']\n",
      "\n",
      "\n"
     ]
    }
   ],
   "source": [
    "#separating numerical and categorical columns\n",
    "\n",
    "#checking for categorical column\n",
    "\n",
    "cat=list(df.select_dtypes(include='object'))\n",
    "print(\"Categorical columns: \",cat)\n",
    "print(\"\\n\")\n",
    "\n",
    "#checking for numerical columns\n",
    "num=[]\n",
    "for i in df.dtypes.index:\n",
    "    if df.dtypes[i]!=\"object\":\n",
    "        num.append(i)\n",
    "print(\"numerical columns: \",num)\n",
    "print(\"\\n\")"
   ]
  },
  {
   "cell_type": "code",
   "execution_count": 34,
   "id": "00635ead",
   "metadata": {},
   "outputs": [
    {
     "data": {
      "image/png": "[encoded data removed]",
      "text/plain": [
       "<Figure size 1000x800 with 9 Axes>"
      ]
     },
     "metadata": {},
     "output_type": "display_data"
    }
   ],
   "source": [
    "#checking the outliers using boxplot\n",
    "plt.figure(figsize=(10,8),facecolor=\"Yellow\")\n",
    "plotnumber=1\n",
    "for col in num:\n",
    "    if plotnumber<=9:\n",
    "        ax=plt.subplot(3,3,plotnumber)\n",
    "        sns.boxplot(df[col],palette=\"viridis_r\")\n",
    "        plt.xlabel(col,fontsize=12)\n",
    "        plt.yticks(rotation=0,fontsize=10)\n",
    "    plotnumber+=1\n",
    "plt.tight_layout()"
   ]
  },
  {
   "cell_type": "code",
   "execution_count": 35,
   "id": "5fa74c48",
   "metadata": {},
   "outputs": [
    {
     "data": {
      "text/plain": [
       "'Here only latitude have no outliers remaining all columns have outliers. using zscore and IQR technique we can remove \\noutliers'"
      ]
     },
     "execution_count": 35,
     "metadata": {},
     "output_type": "execute_result"
    }
   ],
   "source": [
    "\"\"\"Here only latitude have no outliers remaining all columns have outliers. using zscore and IQR technique we can remove \n",
    "outliers\"\"\""
   ]
  },
  {
   "cell_type": "code",
   "execution_count": 36,
   "id": "fb1095dd",
   "metadata": {},
   "outputs": [],
   "source": [
    "from scipy.stats import zscore\n",
    "z_score=zscore(df[['capacity_mw','longitude','commissioning_year','generation_gwh_2013','generation_gwh_2014','generation_gwh_2015','generation_gwh_2016','generation_gwh_2017']])\n",
    "abs_z_score=np.abs(z_score)\n",
    "filtering_entry=(abs_z_score<3).all(axis=1)\n",
    "df=df[filtering_entry]"
   ]
  },
  {
   "cell_type": "code",
   "execution_count": 37,
   "id": "2613a82a",
   "metadata": {},
   "outputs": [
    {
     "data": {
      "text/plain": [
       "(850, 16)"
      ]
     },
     "execution_count": 37,
     "metadata": {},
     "output_type": "execute_result"
    }
   ],
   "source": [
    "#after removing outliers\n",
    "df.shape"
   ]
  },
  {
   "cell_type": "code",
   "execution_count": 38,
   "id": "c71eddc9",
   "metadata": {},
   "outputs": [
    {
     "data": {
      "text/plain": [
       "'Dataset contains 850 rows with 16 columns'"
      ]
     },
     "execution_count": 38,
     "metadata": {},
     "output_type": "execute_result"
    }
   ],
   "source": [
    "\"\"\"Dataset contains 850 rows with 16 columns\"\"\""
   ]
  },
  {
   "cell_type": "code",
   "execution_count": 39,
   "id": "a6afaa97",
   "metadata": {},
   "outputs": [
    {
     "data": {
      "text/html": [
       "<div>\n",
       "<style scoped>\n",
       "    .dataframe tbody tr th:only-of-type {\n",
       "        vertical-align: middle;\n",
       "    }\n",
       "\n",
       "    .dataframe tbody tr th {\n",
       "        vertical-align: top;\n",
       "    }\n",
       "\n",
       "    .dataframe thead th {\n",
       "        text-align: right;\n",
       "    }\n",
       "</style>\n",
       "<table border=\"1\" class=\"dataframe\">\n",
       "  <thead>\n",
       "    <tr style=\"text-align: right;\">\n",
       "      <th></th>\n",
       "      <th>name</th>\n",
       "      <th>gppd_idnr</th>\n",
       "      <th>capacity_mw</th>\n",
       "      <th>latitude</th>\n",
       "      <th>longitude</th>\n",
       "      <th>primary_fuel</th>\n",
       "      <th>commissioning_year</th>\n",
       "      <th>owner</th>\n",
       "      <th>source</th>\n",
       "      <th>url</th>\n",
       "      <th>geolocation_source</th>\n",
       "      <th>generation_gwh_2013</th>\n",
       "      <th>generation_gwh_2014</th>\n",
       "      <th>generation_gwh_2015</th>\n",
       "      <th>generation_gwh_2016</th>\n",
       "      <th>generation_gwh_2017</th>\n",
       "    </tr>\n",
       "  </thead>\n",
       "  <tbody>\n",
       "    <tr>\n",
       "      <th>0</th>\n",
       "      <td>0</td>\n",
       "      <td>601</td>\n",
       "      <td>2.5</td>\n",
       "      <td>28.1839</td>\n",
       "      <td>73.2407</td>\n",
       "      <td>6</td>\n",
       "      <td>2011.000000</td>\n",
       "      <td>228</td>\n",
       "      <td>109</td>\n",
       "      <td>128</td>\n",
       "      <td>1</td>\n",
       "      <td>2304.059202</td>\n",
       "      <td>2420.393316</td>\n",
       "      <td>2414.072373</td>\n",
       "      <td>2453.936292</td>\n",
       "      <td>2531.754458</td>\n",
       "    </tr>\n",
       "    <tr>\n",
       "      <th>1</th>\n",
       "      <td>1</td>\n",
       "      <td>463</td>\n",
       "      <td>98.0</td>\n",
       "      <td>24.7663</td>\n",
       "      <td>74.6090</td>\n",
       "      <td>1</td>\n",
       "      <td>1996.876894</td>\n",
       "      <td>257</td>\n",
       "      <td>174</td>\n",
       "      <td>173</td>\n",
       "      <td>2</td>\n",
       "      <td>2304.059202</td>\n",
       "      <td>2420.393316</td>\n",
       "      <td>2414.072373</td>\n",
       "      <td>2453.936292</td>\n",
       "      <td>2531.754458</td>\n",
       "    </tr>\n",
       "    <tr>\n",
       "      <th>2</th>\n",
       "      <td>2</td>\n",
       "      <td>796</td>\n",
       "      <td>39.2</td>\n",
       "      <td>21.9038</td>\n",
       "      <td>69.3732</td>\n",
       "      <td>7</td>\n",
       "      <td>1996.876894</td>\n",
       "      <td>2</td>\n",
       "      <td>21</td>\n",
       "      <td>205</td>\n",
       "      <td>2</td>\n",
       "      <td>2304.059202</td>\n",
       "      <td>2420.393316</td>\n",
       "      <td>2414.072373</td>\n",
       "      <td>2453.936292</td>\n",
       "      <td>2531.754458</td>\n",
       "    </tr>\n",
       "    <tr>\n",
       "      <th>3</th>\n",
       "      <td>3</td>\n",
       "      <td>0</td>\n",
       "      <td>135.0</td>\n",
       "      <td>23.8712</td>\n",
       "      <td>91.3602</td>\n",
       "      <td>2</td>\n",
       "      <td>2004.000000</td>\n",
       "      <td>5</td>\n",
       "      <td>22</td>\n",
       "      <td>58</td>\n",
       "      <td>2</td>\n",
       "      <td>631.777928</td>\n",
       "      <td>617.789264</td>\n",
       "      <td>843.747000</td>\n",
       "      <td>886.004428</td>\n",
       "      <td>663.774500</td>\n",
       "    </tr>\n",
       "    <tr>\n",
       "      <th>4</th>\n",
       "      <td>4</td>\n",
       "      <td>1</td>\n",
       "      <td>1800.0</td>\n",
       "      <td>21.9603</td>\n",
       "      <td>82.4091</td>\n",
       "      <td>1</td>\n",
       "      <td>2015.000000</td>\n",
       "      <td>5</td>\n",
       "      <td>22</td>\n",
       "      <td>58</td>\n",
       "      <td>2</td>\n",
       "      <td>1668.290000</td>\n",
       "      <td>3035.550000</td>\n",
       "      <td>5916.370000</td>\n",
       "      <td>6243.000000</td>\n",
       "      <td>5385.579736</td>\n",
       "    </tr>\n",
       "    <tr>\n",
       "      <th>...</th>\n",
       "      <td>...</td>\n",
       "      <td>...</td>\n",
       "      <td>...</td>\n",
       "      <td>...</td>\n",
       "      <td>...</td>\n",
       "      <td>...</td>\n",
       "      <td>...</td>\n",
       "      <td>...</td>\n",
       "      <td>...</td>\n",
       "      <td>...</td>\n",
       "      <td>...</td>\n",
       "      <td>...</td>\n",
       "      <td>...</td>\n",
       "      <td>...</td>\n",
       "      <td>...</td>\n",
       "      <td>...</td>\n",
       "    </tr>\n",
       "    <tr>\n",
       "      <th>903</th>\n",
       "      <td>845</td>\n",
       "      <td>440</td>\n",
       "      <td>1600.0</td>\n",
       "      <td>16.2949</td>\n",
       "      <td>77.3568</td>\n",
       "      <td>1</td>\n",
       "      <td>2016.000000</td>\n",
       "      <td>5</td>\n",
       "      <td>22</td>\n",
       "      <td>58</td>\n",
       "      <td>2</td>\n",
       "      <td>2304.059202</td>\n",
       "      <td>2420.393316</td>\n",
       "      <td>0.994875</td>\n",
       "      <td>233.596650</td>\n",
       "      <td>865.400000</td>\n",
       "    </tr>\n",
       "    <tr>\n",
       "      <th>904</th>\n",
       "      <td>846</td>\n",
       "      <td>765</td>\n",
       "      <td>3.0</td>\n",
       "      <td>12.8932</td>\n",
       "      <td>78.1654</td>\n",
       "      <td>6</td>\n",
       "      <td>1996.876894</td>\n",
       "      <td>114</td>\n",
       "      <td>77</td>\n",
       "      <td>22</td>\n",
       "      <td>0</td>\n",
       "      <td>2304.059202</td>\n",
       "      <td>2420.393316</td>\n",
       "      <td>2414.072373</td>\n",
       "      <td>2453.936292</td>\n",
       "      <td>2531.754458</td>\n",
       "    </tr>\n",
       "    <tr>\n",
       "      <th>905</th>\n",
       "      <td>847</td>\n",
       "      <td>834</td>\n",
       "      <td>25.5</td>\n",
       "      <td>15.2758</td>\n",
       "      <td>75.5811</td>\n",
       "      <td>7</td>\n",
       "      <td>1996.876894</td>\n",
       "      <td>5</td>\n",
       "      <td>21</td>\n",
       "      <td>260</td>\n",
       "      <td>2</td>\n",
       "      <td>2304.059202</td>\n",
       "      <td>2420.393316</td>\n",
       "      <td>2414.072373</td>\n",
       "      <td>2453.936292</td>\n",
       "      <td>2531.754458</td>\n",
       "    </tr>\n",
       "    <tr>\n",
       "      <th>906</th>\n",
       "      <td>848</td>\n",
       "      <td>483</td>\n",
       "      <td>80.0</td>\n",
       "      <td>24.3500</td>\n",
       "      <td>73.7477</td>\n",
       "      <td>1</td>\n",
       "      <td>1996.876894</td>\n",
       "      <td>91</td>\n",
       "      <td>59</td>\n",
       "      <td>82</td>\n",
       "      <td>2</td>\n",
       "      <td>2304.059202</td>\n",
       "      <td>2420.393316</td>\n",
       "      <td>2414.072373</td>\n",
       "      <td>2453.936292</td>\n",
       "      <td>2531.754458</td>\n",
       "    </tr>\n",
       "    <tr>\n",
       "      <th>907</th>\n",
       "      <td>849</td>\n",
       "      <td>819</td>\n",
       "      <td>16.5</td>\n",
       "      <td>9.9344</td>\n",
       "      <td>77.4768</td>\n",
       "      <td>7</td>\n",
       "      <td>1996.876894</td>\n",
       "      <td>278</td>\n",
       "      <td>21</td>\n",
       "      <td>245</td>\n",
       "      <td>2</td>\n",
       "      <td>2304.059202</td>\n",
       "      <td>2420.393316</td>\n",
       "      <td>2414.072373</td>\n",
       "      <td>2453.936292</td>\n",
       "      <td>2531.754458</td>\n",
       "    </tr>\n",
       "  </tbody>\n",
       "</table>\n",
       "<p>850 rows × 16 columns</p>\n",
       "</div>"
      ],
      "text/plain": [
       "     name  gppd_idnr  capacity_mw  latitude  longitude  primary_fuel  \\\n",
       "0       0        601          2.5   28.1839    73.2407             6   \n",
       "1       1        463         98.0   24.7663    74.6090             1   \n",
       "2       2        796         39.2   21.9038    69.3732             7   \n",
       "3       3          0        135.0   23.8712    91.3602             2   \n",
       "4       4          1       1800.0   21.9603    82.4091             1   \n",
       "..    ...        ...          ...       ...        ...           ...   \n",
       "903   845        440       1600.0   16.2949    77.3568             1   \n",
       "904   846        765          3.0   12.8932    78.1654             6   \n",
       "905   847        834         25.5   15.2758    75.5811             7   \n",
       "906   848        483         80.0   24.3500    73.7477             1   \n",
       "907   849        819         16.5    9.9344    77.4768             7   \n",
       "\n",
       "     commissioning_year  owner  source  url  geolocation_source  \\\n",
       "0           2011.000000    228     109  128                   1   \n",
       "1           1996.876894    257     174  173                   2   \n",
       "2           1996.876894      2      21  205                   2   \n",
       "3           2004.000000      5      22   58                   2   \n",
       "4           2015.000000      5      22   58                   2   \n",
       "..                  ...    ...     ...  ...                 ...   \n",
       "903         2016.000000      5      22   58                   2   \n",
       "904         1996.876894    114      77   22                   0   \n",
       "905         1996.876894      5      21  260                   2   \n",
       "906         1996.876894     91      59   82                   2   \n",
       "907         1996.876894    278      21  245                   2   \n",
       "\n",
       "     generation_gwh_2013  generation_gwh_2014  generation_gwh_2015  \\\n",
       "0            2304.059202          2420.393316          2414.072373   \n",
       "1            2304.059202          2420.393316          2414.072373   \n",
       "2            2304.059202          2420.393316          2414.072373   \n",
       "3             631.777928           617.789264           843.747000   \n",
       "4            1668.290000          3035.550000          5916.370000   \n",
       "..                   ...                  ...                  ...   \n",
       "903          2304.059202          2420.393316             0.994875   \n",
       "904          2304.059202          2420.393316          2414.072373   \n",
       "905          2304.059202          2420.393316          2414.072373   \n",
       "906          2304.059202          2420.393316          2414.072373   \n",
       "907          2304.059202          2420.393316          2414.072373   \n",
       "\n",
       "     generation_gwh_2016  generation_gwh_2017  \n",
       "0            2453.936292          2531.754458  \n",
       "1            2453.936292          2531.754458  \n",
       "2            2453.936292          2531.754458  \n",
       "3             886.004428           663.774500  \n",
       "4            6243.000000          5385.579736  \n",
       "..                   ...                  ...  \n",
       "903           233.596650           865.400000  \n",
       "904          2453.936292          2531.754458  \n",
       "905          2453.936292          2531.754458  \n",
       "906          2453.936292          2531.754458  \n",
       "907          2453.936292          2531.754458  \n",
       "\n",
       "[850 rows x 16 columns]"
      ]
     },
     "execution_count": 39,
     "metadata": {},
     "output_type": "execute_result"
    }
   ],
   "source": [
    "#encoding categorical cols using LabelEncoder\n",
    "\n",
    "from sklearn.preprocessing import LabelEncoder\n",
    "lab_enc=LabelEncoder()\n",
    "for i in df.columns:\n",
    "    if df[i].dtypes=='object':\n",
    "        df[i]=lab_enc.fit_transform(df[i].values.reshape(-1,1))\n",
    "df"
   ]
  },
  {
   "cell_type": "code",
   "execution_count": 40,
   "id": "05b8dcba",
   "metadata": {},
   "outputs": [
    {
     "data": {
      "image/png": "[encoded data removed]",
      "text/plain": [
       "<Figure size 1800x1600 with 16 Axes>"
      ]
     },
     "metadata": {},
     "output_type": "display_data"
    }
   ],
   "source": [
    "#Cheking For Skewness\n",
    "#lets see how data is distributed for every column\n",
    "plt.figure(figsize=(18,16),facecolor='m')\n",
    "p=1\n",
    "for col in df:\n",
    "    if p<=16:\n",
    "        ax=plt.subplot(4,4,p)\n",
    "        sns.distplot(df[col])\n",
    "        plt.xlabel(col,fontsize=10)\n",
    "    p+=1\n",
    "plt.show()"
   ]
  },
  {
   "cell_type": "code",
   "execution_count": 41,
   "id": "f463b1a7",
   "metadata": {},
   "outputs": [
    {
     "data": {
      "text/plain": [
       "name                   0.000000\n",
       "gppd_idnr              0.000000\n",
       "capacity_mw            1.986878\n",
       "latitude              -0.107673\n",
       "longitude              0.868587\n",
       "primary_fuel           0.408911\n",
       "commissioning_year    -0.860664\n",
       "owner                  1.270284\n",
       "source                 1.732385\n",
       "url                    1.412782\n",
       "geolocation_source    -2.064570\n",
       "generation_gwh_2013    1.547085\n",
       "generation_gwh_2014    1.455721\n",
       "generation_gwh_2015    1.335529\n",
       "generation_gwh_2016    1.359881\n",
       "generation_gwh_2017    1.254465\n",
       "dtype: float64"
      ]
     },
     "execution_count": 41,
     "metadata": {},
     "output_type": "execute_result"
    }
   ],
   "source": [
    "\"\"\"we can see almost in all columns data have rightly skewed.  \"\"\"\n",
    "df.skew()"
   ]
  },
  {
   "cell_type": "code",
   "execution_count": 42,
   "id": "fa64b280",
   "metadata": {},
   "outputs": [
    {
     "data": {
      "text/plain": [
       "'the col capacity_mw,commissioning_year,generation_gwh_2013,generation_gwh_2014,generation_gwh_2015,generation_gwh_2016,    \\ngeneration_gwh_2017  have skewness in the data.since, owner,source,url,geolocation_source is \\ncategorical no need to remove skewness.since remaning all is contineous in natures, using cube root method we can\\nremove skewness'"
      ]
     },
     "execution_count": 42,
     "metadata": {},
     "output_type": "execute_result"
    }
   ],
   "source": [
    "\"\"\"the col capacity_mw,commissioning_year,generation_gwh_2013,generation_gwh_2014,generation_gwh_2015,generation_gwh_2016,    \n",
    "generation_gwh_2017  have skewness in the data.since, owner,source,url,geolocation_source is \n",
    "categorical no need to remove skewness.since remaning all is contineous in natures, using cube root method we can\n",
    "remove skewness\"\"\""
   ]
  },
  {
   "cell_type": "code",
   "execution_count": 43,
   "id": "dc4669e8",
   "metadata": {},
   "outputs": [],
   "source": [
    "#Using cube root method we can remove skewness\n",
    "df['capacity_mw']=np.cbrt(df['capacity_mw'])\n",
    "df['commissioning_year']=np.cbrt(df['commissioning_year'])\n",
    "df['generation_gwh_2013']=np.cbrt(df['generation_gwh_2013'])\n",
    "df['generation_gwh_2014']=np.cbrt(df['generation_gwh_2014'])\n",
    "df['generation_gwh_2015']=np.cbrt(df['generation_gwh_2015'])\n",
    "df['generation_gwh_2016']=np.cbrt(df['generation_gwh_2016'])\n",
    "df['generation_gwh_2017']=np.cbrt(df['generation_gwh_2017'])"
   ]
  },
  {
   "cell_type": "code",
   "execution_count": 44,
   "id": "dd9b50db",
   "metadata": {},
   "outputs": [
    {
     "data": {
      "text/plain": [
       "name                   0.000000\n",
       "gppd_idnr              0.000000\n",
       "capacity_mw            0.825511\n",
       "latitude              -0.107673\n",
       "longitude              0.868587\n",
       "primary_fuel           0.408911\n",
       "commissioning_year    -0.877470\n",
       "owner                  1.270284\n",
       "source                 1.732385\n",
       "url                    1.412782\n",
       "geolocation_source    -2.064570\n",
       "generation_gwh_2013   -1.241398\n",
       "generation_gwh_2014   -1.226969\n",
       "generation_gwh_2015   -1.095900\n",
       "generation_gwh_2016   -1.048196\n",
       "generation_gwh_2017   -1.063044\n",
       "dtype: float64"
      ]
     },
     "execution_count": 44,
     "metadata": {},
     "output_type": "execute_result"
    }
   ],
   "source": [
    "#again checking skewness\n",
    "df.skew()"
   ]
  },
  {
   "cell_type": "code",
   "execution_count": 48,
   "id": "94e7b64c",
   "metadata": {},
   "outputs": [],
   "source": [
    "#dropping unnecessary columns\n",
    "df.drop(['name','gppd_idnr','url','owner'],axis=1,inplace=True)"
   ]
  },
  {
   "cell_type": "code",
   "execution_count": 49,
   "id": "f20e5701",
   "metadata": {},
   "outputs": [
    {
     "data": {
      "text/plain": [
       "(850, 12)"
      ]
     },
     "execution_count": 49,
     "metadata": {},
     "output_type": "execute_result"
    }
   ],
   "source": [
    "df.shape"
   ]
  },
  {
   "cell_type": "code",
   "execution_count": 50,
   "id": "17730f4d",
   "metadata": {},
   "outputs": [
    {
     "data": {
      "text/html": [
       "<div>\n",
       "<style scoped>\n",
       "    .dataframe tbody tr th:only-of-type {\n",
       "        vertical-align: middle;\n",
       "    }\n",
       "\n",
       "    .dataframe tbody tr th {\n",
       "        vertical-align: top;\n",
       "    }\n",
       "\n",
       "    .dataframe thead th {\n",
       "        text-align: right;\n",
       "    }\n",
       "</style>\n",
       "<table border=\"1\" class=\"dataframe\">\n",
       "  <thead>\n",
       "    <tr style=\"text-align: right;\">\n",
       "      <th></th>\n",
       "      <th>capacity_mw</th>\n",
       "      <th>latitude</th>\n",
       "      <th>longitude</th>\n",
       "      <th>primary_fuel</th>\n",
       "      <th>commissioning_year</th>\n",
       "      <th>source</th>\n",
       "      <th>geolocation_source</th>\n",
       "      <th>generation_gwh_2013</th>\n",
       "      <th>generation_gwh_2014</th>\n",
       "      <th>generation_gwh_2015</th>\n",
       "      <th>generation_gwh_2016</th>\n",
       "      <th>generation_gwh_2017</th>\n",
       "    </tr>\n",
       "  </thead>\n",
       "  <tbody>\n",
       "    <tr>\n",
       "      <th>capacity_mw</th>\n",
       "      <td>1.000000</td>\n",
       "      <td>0.068195</td>\n",
       "      <td>0.337765</td>\n",
       "      <td>-0.493031</td>\n",
       "      <td>0.280586</td>\n",
       "      <td>-0.370681</td>\n",
       "      <td>0.378122</td>\n",
       "      <td>0.065412</td>\n",
       "      <td>0.047254</td>\n",
       "      <td>0.047556</td>\n",
       "      <td>0.087232</td>\n",
       "      <td>0.080487</td>\n",
       "    </tr>\n",
       "    <tr>\n",
       "      <th>latitude</th>\n",
       "      <td>0.068195</td>\n",
       "      <td>1.000000</td>\n",
       "      <td>-0.025470</td>\n",
       "      <td>-0.005636</td>\n",
       "      <td>0.103580</td>\n",
       "      <td>0.069594</td>\n",
       "      <td>-0.202528</td>\n",
       "      <td>0.034854</td>\n",
       "      <td>0.070214</td>\n",
       "      <td>0.058595</td>\n",
       "      <td>0.074135</td>\n",
       "      <td>0.047274</td>\n",
       "    </tr>\n",
       "    <tr>\n",
       "      <th>longitude</th>\n",
       "      <td>0.337765</td>\n",
       "      <td>-0.025470</td>\n",
       "      <td>1.000000</td>\n",
       "      <td>-0.382389</td>\n",
       "      <td>0.163227</td>\n",
       "      <td>-0.236716</td>\n",
       "      <td>0.267378</td>\n",
       "      <td>-0.103885</td>\n",
       "      <td>-0.132403</td>\n",
       "      <td>-0.157269</td>\n",
       "      <td>-0.106799</td>\n",
       "      <td>-0.119570</td>\n",
       "    </tr>\n",
       "    <tr>\n",
       "      <th>primary_fuel</th>\n",
       "      <td>-0.493031</td>\n",
       "      <td>-0.005636</td>\n",
       "      <td>-0.382389</td>\n",
       "      <td>1.000000</td>\n",
       "      <td>-0.144751</td>\n",
       "      <td>0.037476</td>\n",
       "      <td>-0.477885</td>\n",
       "      <td>0.066661</td>\n",
       "      <td>0.081938</td>\n",
       "      <td>0.084379</td>\n",
       "      <td>0.068901</td>\n",
       "      <td>0.085082</td>\n",
       "    </tr>\n",
       "    <tr>\n",
       "      <th>commissioning_year</th>\n",
       "      <td>0.280586</td>\n",
       "      <td>0.103580</td>\n",
       "      <td>0.163227</td>\n",
       "      <td>-0.144751</td>\n",
       "      <td>1.000000</td>\n",
       "      <td>-0.010903</td>\n",
       "      <td>0.020236</td>\n",
       "      <td>0.081284</td>\n",
       "      <td>0.088384</td>\n",
       "      <td>0.106720</td>\n",
       "      <td>0.154384</td>\n",
       "      <td>0.112206</td>\n",
       "    </tr>\n",
       "    <tr>\n",
       "      <th>source</th>\n",
       "      <td>-0.370681</td>\n",
       "      <td>0.069594</td>\n",
       "      <td>-0.236716</td>\n",
       "      <td>0.037476</td>\n",
       "      <td>-0.010903</td>\n",
       "      <td>1.000000</td>\n",
       "      <td>-0.497774</td>\n",
       "      <td>0.188688</td>\n",
       "      <td>0.198053</td>\n",
       "      <td>0.210396</td>\n",
       "      <td>0.211253</td>\n",
       "      <td>0.210372</td>\n",
       "    </tr>\n",
       "    <tr>\n",
       "      <th>geolocation_source</th>\n",
       "      <td>0.378122</td>\n",
       "      <td>-0.202528</td>\n",
       "      <td>0.267378</td>\n",
       "      <td>-0.477885</td>\n",
       "      <td>0.020236</td>\n",
       "      <td>-0.497774</td>\n",
       "      <td>1.000000</td>\n",
       "      <td>-0.151274</td>\n",
       "      <td>-0.158783</td>\n",
       "      <td>-0.168679</td>\n",
       "      <td>-0.169366</td>\n",
       "      <td>-0.168660</td>\n",
       "    </tr>\n",
       "    <tr>\n",
       "      <th>generation_gwh_2013</th>\n",
       "      <td>0.065412</td>\n",
       "      <td>0.034854</td>\n",
       "      <td>-0.103885</td>\n",
       "      <td>0.066661</td>\n",
       "      <td>0.081284</td>\n",
       "      <td>0.188688</td>\n",
       "      <td>-0.151274</td>\n",
       "      <td>1.000000</td>\n",
       "      <td>0.898483</td>\n",
       "      <td>0.793911</td>\n",
       "      <td>0.775076</td>\n",
       "      <td>0.703625</td>\n",
       "    </tr>\n",
       "    <tr>\n",
       "      <th>generation_gwh_2014</th>\n",
       "      <td>0.047254</td>\n",
       "      <td>0.070214</td>\n",
       "      <td>-0.132403</td>\n",
       "      <td>0.081938</td>\n",
       "      <td>0.088384</td>\n",
       "      <td>0.198053</td>\n",
       "      <td>-0.158783</td>\n",
       "      <td>0.898483</td>\n",
       "      <td>1.000000</td>\n",
       "      <td>0.835095</td>\n",
       "      <td>0.799415</td>\n",
       "      <td>0.717494</td>\n",
       "    </tr>\n",
       "    <tr>\n",
       "      <th>generation_gwh_2015</th>\n",
       "      <td>0.047556</td>\n",
       "      <td>0.058595</td>\n",
       "      <td>-0.157269</td>\n",
       "      <td>0.084379</td>\n",
       "      <td>0.106720</td>\n",
       "      <td>0.210396</td>\n",
       "      <td>-0.168679</td>\n",
       "      <td>0.793911</td>\n",
       "      <td>0.835095</td>\n",
       "      <td>1.000000</td>\n",
       "      <td>0.897826</td>\n",
       "      <td>0.775937</td>\n",
       "    </tr>\n",
       "    <tr>\n",
       "      <th>generation_gwh_2016</th>\n",
       "      <td>0.087232</td>\n",
       "      <td>0.074135</td>\n",
       "      <td>-0.106799</td>\n",
       "      <td>0.068901</td>\n",
       "      <td>0.154384</td>\n",
       "      <td>0.211253</td>\n",
       "      <td>-0.169366</td>\n",
       "      <td>0.775076</td>\n",
       "      <td>0.799415</td>\n",
       "      <td>0.897826</td>\n",
       "      <td>1.000000</td>\n",
       "      <td>0.882371</td>\n",
       "    </tr>\n",
       "    <tr>\n",
       "      <th>generation_gwh_2017</th>\n",
       "      <td>0.080487</td>\n",
       "      <td>0.047274</td>\n",
       "      <td>-0.119570</td>\n",
       "      <td>0.085082</td>\n",
       "      <td>0.112206</td>\n",
       "      <td>0.210372</td>\n",
       "      <td>-0.168660</td>\n",
       "      <td>0.703625</td>\n",
       "      <td>0.717494</td>\n",
       "      <td>0.775937</td>\n",
       "      <td>0.882371</td>\n",
       "      <td>1.000000</td>\n",
       "    </tr>\n",
       "  </tbody>\n",
       "</table>\n",
       "</div>"
      ],
      "text/plain": [
       "                     capacity_mw  latitude  longitude  primary_fuel  \\\n",
       "capacity_mw             1.000000  0.068195   0.337765     -0.493031   \n",
       "latitude                0.068195  1.000000  -0.025470     -0.005636   \n",
       "longitude               0.337765 -0.025470   1.000000     -0.382389   \n",
       "primary_fuel           -0.493031 -0.005636  -0.382389      1.000000   \n",
       "commissioning_year      0.280586  0.103580   0.163227     -0.144751   \n",
       "source                 -0.370681  0.069594  -0.236716      0.037476   \n",
       "geolocation_source      0.378122 -0.202528   0.267378     -0.477885   \n",
       "generation_gwh_2013     0.065412  0.034854  -0.103885      0.066661   \n",
       "generation_gwh_2014     0.047254  0.070214  -0.132403      0.081938   \n",
       "generation_gwh_2015     0.047556  0.058595  -0.157269      0.084379   \n",
       "generation_gwh_2016     0.087232  0.074135  -0.106799      0.068901   \n",
       "generation_gwh_2017     0.080487  0.047274  -0.119570      0.085082   \n",
       "\n",
       "                     commissioning_year    source  geolocation_source  \\\n",
       "capacity_mw                    0.280586 -0.370681            0.378122   \n",
       "latitude                       0.103580  0.069594           -0.202528   \n",
       "longitude                      0.163227 -0.236716            0.267378   \n",
       "primary_fuel                  -0.144751  0.037476           -0.477885   \n",
       "commissioning_year             1.000000 -0.010903            0.020236   \n",
       "source                        -0.010903  1.000000           -0.497774   \n",
       "geolocation_source             0.020236 -0.497774            1.000000   \n",
       "generation_gwh_2013            0.081284  0.188688           -0.151274   \n",
       "generation_gwh_2014            0.088384  0.198053           -0.158783   \n",
       "generation_gwh_2015            0.106720  0.210396           -0.168679   \n",
       "generation_gwh_2016            0.154384  0.211253           -0.169366   \n",
       "generation_gwh_2017            0.112206  0.210372           -0.168660   \n",
       "\n",
       "                     generation_gwh_2013  generation_gwh_2014  \\\n",
       "capacity_mw                     0.065412             0.047254   \n",
       "latitude                        0.034854             0.070214   \n",
       "longitude                      -0.103885            -0.132403   \n",
       "primary_fuel                    0.066661             0.081938   \n",
       "commissioning_year              0.081284             0.088384   \n",
       "source                          0.188688             0.198053   \n",
       "geolocation_source             -0.151274            -0.158783   \n",
       "generation_gwh_2013             1.000000             0.898483   \n",
       "generation_gwh_2014             0.898483             1.000000   \n",
       "generation_gwh_2015             0.793911             0.835095   \n",
       "generation_gwh_2016             0.775076             0.799415   \n",
       "generation_gwh_2017             0.703625             0.717494   \n",
       "\n",
       "                     generation_gwh_2015  generation_gwh_2016  \\\n",
       "capacity_mw                     0.047556             0.087232   \n",
       "latitude                        0.058595             0.074135   \n",
       "longitude                      -0.157269            -0.106799   \n",
       "primary_fuel                    0.084379             0.068901   \n",
       "commissioning_year              0.106720             0.154384   \n",
       "source                          0.210396             0.211253   \n",
       "geolocation_source             -0.168679            -0.169366   \n",
       "generation_gwh_2013             0.793911             0.775076   \n",
       "generation_gwh_2014             0.835095             0.799415   \n",
       "generation_gwh_2015             1.000000             0.897826   \n",
       "generation_gwh_2016             0.897826             1.000000   \n",
       "generation_gwh_2017             0.775937             0.882371   \n",
       "\n",
       "                     generation_gwh_2017  \n",
       "capacity_mw                     0.080487  \n",
       "latitude                        0.047274  \n",
       "longitude                      -0.119570  \n",
       "primary_fuel                    0.085082  \n",
       "commissioning_year              0.112206  \n",
       "source                          0.210372  \n",
       "geolocation_source             -0.168660  \n",
       "generation_gwh_2013             0.703625  \n",
       "generation_gwh_2014             0.717494  \n",
       "generation_gwh_2015             0.775937  \n",
       "generation_gwh_2016             0.882371  \n",
       "generation_gwh_2017             1.000000  "
      ]
     },
     "execution_count": 50,
     "metadata": {},
     "output_type": "execute_result"
    }
   ],
   "source": [
    "#checking the correlation between features and target\n",
    "cor=df.corr()\n",
    "cor"
   ]
  },
  {
   "cell_type": "code",
   "execution_count": 51,
   "id": "99c4bb0f",
   "metadata": {},
   "outputs": [
    {
     "data": {
      "image/png": "[encoded data removed]",
      "text/plain": [
       "<Figure size 1600x1200 with 2 Axes>"
      ]
     },
     "metadata": {},
     "output_type": "display_data"
    }
   ],
   "source": [
    "#visualizing the correlation matrix by plotting heatmap\n",
    "plt.figure(figsize=(16,12))\n",
    "sns.heatmap(df.corr(),linewidths=0.2,fmt=\".1g\",linecolor=\"black\",annot=True)\n",
    "plt.yticks(rotation=0);\n",
    "plt.show()"
   ]
  },
  {
   "cell_type": "code",
   "execution_count": 52,
   "id": "f586332d",
   "metadata": {},
   "outputs": [
    {
     "data": {
      "text/plain": [
       "'From above observation we can see generation_gwh_2013,generation_gwh_2014,generation_gwh_2015,generation_gwh_2016,\\ngeneration_gwh_2017, latitude are positively related to target variable i.e capacity_mw.'"
      ]
     },
     "execution_count": 52,
     "metadata": {},
     "output_type": "execute_result"
    }
   ],
   "source": [
    "\"\"\"From above observation we can see generation_gwh_2013,generation_gwh_2014,generation_gwh_2015,generation_gwh_2016,\n",
    "\\ngeneration_gwh_2017, latitude are positively related to target variable i.e capacity_mw.\"\"\""
   ]
  },
  {
   "cell_type": "code",
   "execution_count": 53,
   "id": "c67b7678",
   "metadata": {},
   "outputs": [
    {
     "data": {
      "text/plain": [
       "capacity_mw            1.000000\n",
       "geolocation_source     0.378122\n",
       "longitude              0.337765\n",
       "commissioning_year     0.280586\n",
       "generation_gwh_2016    0.087232\n",
       "generation_gwh_2017    0.080487\n",
       "latitude               0.068195\n",
       "generation_gwh_2013    0.065412\n",
       "generation_gwh_2015    0.047556\n",
       "generation_gwh_2014    0.047254\n",
       "source                -0.370681\n",
       "primary_fuel          -0.493031\n",
       "Name: capacity_mw, dtype: float64"
      ]
     },
     "execution_count": 53,
     "metadata": {},
     "output_type": "execute_result"
    }
   ],
   "source": [
    "#We can observe the positive and negative correlated features with the target\n",
    "cor['capacity_mw'].sort_values(ascending = False)"
   ]
  },
  {
   "cell_type": "code",
   "execution_count": 54,
   "id": "8ac5b827",
   "metadata": {},
   "outputs": [],
   "source": [
    "#separating features and label for the first Target Variable 'capacity_mw'\n",
    "x=df.drop(\"capacity_mw\",axis=1)\n",
    "y=df[\"capacity_mw\"]"
   ]
  },
  {
   "cell_type": "code",
   "execution_count": 55,
   "id": "518863d0",
   "metadata": {},
   "outputs": [
    {
     "data": {
      "text/html": [
       "<div>\n",
       "<style scoped>\n",
       "    .dataframe tbody tr th:only-of-type {\n",
       "        vertical-align: middle;\n",
       "    }\n",
       "\n",
       "    .dataframe tbody tr th {\n",
       "        vertical-align: top;\n",
       "    }\n",
       "\n",
       "    .dataframe thead th {\n",
       "        text-align: right;\n",
       "    }\n",
       "</style>\n",
       "<table border=\"1\" class=\"dataframe\">\n",
       "  <thead>\n",
       "    <tr style=\"text-align: right;\">\n",
       "      <th></th>\n",
       "      <th>latitude</th>\n",
       "      <th>longitude</th>\n",
       "      <th>primary_fuel</th>\n",
       "      <th>commissioning_year</th>\n",
       "      <th>source</th>\n",
       "      <th>geolocation_source</th>\n",
       "      <th>generation_gwh_2013</th>\n",
       "      <th>generation_gwh_2014</th>\n",
       "      <th>generation_gwh_2015</th>\n",
       "      <th>generation_gwh_2016</th>\n",
       "      <th>generation_gwh_2017</th>\n",
       "    </tr>\n",
       "  </thead>\n",
       "  <tbody>\n",
       "    <tr>\n",
       "      <th>0</th>\n",
       "      <td>1.157754</td>\n",
       "      <td>-0.892193</td>\n",
       "      <td>1.172942</td>\n",
       "      <td>1.182436</td>\n",
       "      <td>1.396744</td>\n",
       "      <td>-1.035536</td>\n",
       "      <td>0.371295</td>\n",
       "      <td>0.389724</td>\n",
       "      <td>0.414013</td>\n",
       "      <td>0.415699</td>\n",
       "      <td>0.413966</td>\n",
       "    </tr>\n",
       "    <tr>\n",
       "      <th>1</th>\n",
       "      <td>0.599221</td>\n",
       "      <td>-0.567093</td>\n",
       "      <td>-0.977620</td>\n",
       "      <td>-0.073182</td>\n",
       "      <td>2.819969</td>\n",
       "      <td>0.407424</td>\n",
       "      <td>0.371295</td>\n",
       "      <td>0.389724</td>\n",
       "      <td>0.414013</td>\n",
       "      <td>0.415699</td>\n",
       "      <td>0.413966</td>\n",
       "    </tr>\n",
       "    <tr>\n",
       "      <th>2</th>\n",
       "      <td>0.131408</td>\n",
       "      <td>-1.811087</td>\n",
       "      <td>1.603054</td>\n",
       "      <td>-0.073182</td>\n",
       "      <td>-0.530084</td>\n",
       "      <td>0.407424</td>\n",
       "      <td>0.371295</td>\n",
       "      <td>0.389724</td>\n",
       "      <td>0.414013</td>\n",
       "      <td>0.415699</td>\n",
       "      <td>0.413966</td>\n",
       "    </tr>\n",
       "    <tr>\n",
       "      <th>3</th>\n",
       "      <td>0.452937</td>\n",
       "      <td>3.412889</td>\n",
       "      <td>-0.547508</td>\n",
       "      <td>0.560837</td>\n",
       "      <td>-0.508188</td>\n",
       "      <td>0.407424</td>\n",
       "      <td>-0.875073</td>\n",
       "      <td>-0.847201</td>\n",
       "      <td>-0.532233</td>\n",
       "      <td>-0.495195</td>\n",
       "      <td>-0.712404</td>\n",
       "    </tr>\n",
       "    <tr>\n",
       "      <th>4</th>\n",
       "      <td>0.140642</td>\n",
       "      <td>1.286163</td>\n",
       "      <td>-0.977620</td>\n",
       "      <td>1.536988</td>\n",
       "      <td>-0.508188</td>\n",
       "      <td>0.407424</td>\n",
       "      <td>0.008288</td>\n",
       "      <td>0.654958</td>\n",
       "      <td>1.528785</td>\n",
       "      <td>1.570860</td>\n",
       "      <td>1.309148</td>\n",
       "    </tr>\n",
       "    <tr>\n",
       "      <th>...</th>\n",
       "      <td>...</td>\n",
       "      <td>...</td>\n",
       "      <td>...</td>\n",
       "      <td>...</td>\n",
       "      <td>...</td>\n",
       "      <td>...</td>\n",
       "      <td>...</td>\n",
       "      <td>...</td>\n",
       "      <td>...</td>\n",
       "      <td>...</td>\n",
       "      <td>...</td>\n",
       "    </tr>\n",
       "    <tr>\n",
       "      <th>845</th>\n",
       "      <td>-0.785245</td>\n",
       "      <td>0.085767</td>\n",
       "      <td>-0.977620</td>\n",
       "      <td>1.625553</td>\n",
       "      <td>-0.508188</td>\n",
       "      <td>0.407424</td>\n",
       "      <td>0.371295</td>\n",
       "      <td>0.389724</td>\n",
       "      <td>-2.548896</td>\n",
       "      <td>-1.303419</td>\n",
       "      <td>-0.527270</td>\n",
       "    </tr>\n",
       "    <tr>\n",
       "      <th>846</th>\n",
       "      <td>-1.341179</td>\n",
       "      <td>0.277886</td>\n",
       "      <td>1.172942</td>\n",
       "      <td>-0.073182</td>\n",
       "      <td>0.696079</td>\n",
       "      <td>-2.478495</td>\n",
       "      <td>0.371295</td>\n",
       "      <td>0.389724</td>\n",
       "      <td>0.414013</td>\n",
       "      <td>0.415699</td>\n",
       "      <td>0.413966</td>\n",
       "    </tr>\n",
       "    <tr>\n",
       "      <th>847</th>\n",
       "      <td>-0.951795</td>\n",
       "      <td>-0.336128</td>\n",
       "      <td>1.603054</td>\n",
       "      <td>-0.073182</td>\n",
       "      <td>-0.530084</td>\n",
       "      <td>0.407424</td>\n",
       "      <td>0.371295</td>\n",
       "      <td>0.389724</td>\n",
       "      <td>0.414013</td>\n",
       "      <td>0.415699</td>\n",
       "      <td>0.413966</td>\n",
       "    </tr>\n",
       "    <tr>\n",
       "      <th>848</th>\n",
       "      <td>0.531186</td>\n",
       "      <td>-0.771733</td>\n",
       "      <td>-0.977620</td>\n",
       "      <td>-0.073182</td>\n",
       "      <td>0.301955</td>\n",
       "      <td>0.407424</td>\n",
       "      <td>0.371295</td>\n",
       "      <td>0.389724</td>\n",
       "      <td>0.414013</td>\n",
       "      <td>0.415699</td>\n",
       "      <td>0.413966</td>\n",
       "    </tr>\n",
       "    <tr>\n",
       "      <th>849</th>\n",
       "      <td>-1.824731</td>\n",
       "      <td>0.114279</td>\n",
       "      <td>1.603054</td>\n",
       "      <td>-0.073182</td>\n",
       "      <td>-0.530084</td>\n",
       "      <td>0.407424</td>\n",
       "      <td>0.371295</td>\n",
       "      <td>0.389724</td>\n",
       "      <td>0.414013</td>\n",
       "      <td>0.415699</td>\n",
       "      <td>0.413966</td>\n",
       "    </tr>\n",
       "  </tbody>\n",
       "</table>\n",
       "<p>850 rows × 11 columns</p>\n",
       "</div>"
      ],
      "text/plain": [
       "     latitude  longitude  primary_fuel  commissioning_year    source  \\\n",
       "0    1.157754  -0.892193      1.172942            1.182436  1.396744   \n",
       "1    0.599221  -0.567093     -0.977620           -0.073182  2.819969   \n",
       "2    0.131408  -1.811087      1.603054           -0.073182 -0.530084   \n",
       "3    0.452937   3.412889     -0.547508            0.560837 -0.508188   \n",
       "4    0.140642   1.286163     -0.977620            1.536988 -0.508188   \n",
       "..        ...        ...           ...                 ...       ...   \n",
       "845 -0.785245   0.085767     -0.977620            1.625553 -0.508188   \n",
       "846 -1.341179   0.277886      1.172942           -0.073182  0.696079   \n",
       "847 -0.951795  -0.336128      1.603054           -0.073182 -0.530084   \n",
       "848  0.531186  -0.771733     -0.977620           -0.073182  0.301955   \n",
       "849 -1.824731   0.114279      1.603054           -0.073182 -0.530084   \n",
       "\n",
       "     geolocation_source  generation_gwh_2013  generation_gwh_2014  \\\n",
       "0             -1.035536             0.371295             0.389724   \n",
       "1              0.407424             0.371295             0.389724   \n",
       "2              0.407424             0.371295             0.389724   \n",
       "3              0.407424            -0.875073            -0.847201   \n",
       "4              0.407424             0.008288             0.654958   \n",
       "..                  ...                  ...                  ...   \n",
       "845            0.407424             0.371295             0.389724   \n",
       "846           -2.478495             0.371295             0.389724   \n",
       "847            0.407424             0.371295             0.389724   \n",
       "848            0.407424             0.371295             0.389724   \n",
       "849            0.407424             0.371295             0.389724   \n",
       "\n",
       "     generation_gwh_2015  generation_gwh_2016  generation_gwh_2017  \n",
       "0               0.414013             0.415699             0.413966  \n",
       "1               0.414013             0.415699             0.413966  \n",
       "2               0.414013             0.415699             0.413966  \n",
       "3              -0.532233            -0.495195            -0.712404  \n",
       "4               1.528785             1.570860             1.309148  \n",
       "..                   ...                  ...                  ...  \n",
       "845            -2.548896            -1.303419            -0.527270  \n",
       "846             0.414013             0.415699             0.413966  \n",
       "847             0.414013             0.415699             0.413966  \n",
       "848             0.414013             0.415699             0.413966  \n",
       "849             0.414013             0.415699             0.413966  \n",
       "\n",
       "[850 rows x 11 columns]"
      ]
     },
     "execution_count": 55,
     "metadata": {},
     "output_type": "execute_result"
    }
   ],
   "source": [
    "#Feature Scaling using Standard Scalarization\n",
    "scaler=StandardScaler()\n",
    "x=pd.DataFrame(scaler.fit_transform(x),columns=x.columns)\n",
    "x"
   ]
  },
  {
   "cell_type": "code",
   "execution_count": 56,
   "id": "889ee47f",
   "metadata": {},
   "outputs": [
    {
     "data": {
      "text/html": [
       "<div>\n",
       "<style scoped>\n",
       "    .dataframe tbody tr th:only-of-type {\n",
       "        vertical-align: middle;\n",
       "    }\n",
       "\n",
       "    .dataframe tbody tr th {\n",
       "        vertical-align: top;\n",
       "    }\n",
       "\n",
       "    .dataframe thead th {\n",
       "        text-align: right;\n",
       "    }\n",
       "</style>\n",
       "<table border=\"1\" class=\"dataframe\">\n",
       "  <thead>\n",
       "    <tr style=\"text-align: right;\">\n",
       "      <th></th>\n",
       "      <th>VIF Values</th>\n",
       "      <th>Features</th>\n",
       "    </tr>\n",
       "  </thead>\n",
       "  <tbody>\n",
       "    <tr>\n",
       "      <th>0</th>\n",
       "      <td>1.083245</td>\n",
       "      <td>latitude</td>\n",
       "    </tr>\n",
       "    <tr>\n",
       "      <th>1</th>\n",
       "      <td>1.289615</td>\n",
       "      <td>longitude</td>\n",
       "    </tr>\n",
       "    <tr>\n",
       "      <th>2</th>\n",
       "      <td>1.632952</td>\n",
       "      <td>primary_fuel</td>\n",
       "    </tr>\n",
       "    <tr>\n",
       "      <th>3</th>\n",
       "      <td>1.087443</td>\n",
       "      <td>commissioning_year</td>\n",
       "    </tr>\n",
       "    <tr>\n",
       "      <th>4</th>\n",
       "      <td>1.545830</td>\n",
       "      <td>source</td>\n",
       "    </tr>\n",
       "    <tr>\n",
       "      <th>5</th>\n",
       "      <td>1.965879</td>\n",
       "      <td>geolocation_source</td>\n",
       "    </tr>\n",
       "    <tr>\n",
       "      <th>6</th>\n",
       "      <td>5.515602</td>\n",
       "      <td>generation_gwh_2013</td>\n",
       "    </tr>\n",
       "    <tr>\n",
       "      <th>7</th>\n",
       "      <td>6.630594</td>\n",
       "      <td>generation_gwh_2014</td>\n",
       "    </tr>\n",
       "    <tr>\n",
       "      <th>8</th>\n",
       "      <td>6.634815</td>\n",
       "      <td>generation_gwh_2015</td>\n",
       "    </tr>\n",
       "    <tr>\n",
       "      <th>9</th>\n",
       "      <td>9.728428</td>\n",
       "      <td>generation_gwh_2016</td>\n",
       "    </tr>\n",
       "    <tr>\n",
       "      <th>10</th>\n",
       "      <td>4.641787</td>\n",
       "      <td>generation_gwh_2017</td>\n",
       "    </tr>\n",
       "  </tbody>\n",
       "</table>\n",
       "</div>"
      ],
      "text/plain": [
       "    VIF Values             Features\n",
       "0     1.083245             latitude\n",
       "1     1.289615            longitude\n",
       "2     1.632952         primary_fuel\n",
       "3     1.087443   commissioning_year\n",
       "4     1.545830               source\n",
       "5     1.965879   geolocation_source\n",
       "6     5.515602  generation_gwh_2013\n",
       "7     6.630594  generation_gwh_2014\n",
       "8     6.634815  generation_gwh_2015\n",
       "9     9.728428  generation_gwh_2016\n",
       "10    4.641787  generation_gwh_2017"
      ]
     },
     "execution_count": 56,
     "metadata": {},
     "output_type": "execute_result"
    }
   ],
   "source": [
    "#Checking Variance Inflation Factor(VIF)\n",
    "#finding variance inflation factor in each scaled col \n",
    "from statsmodels.stats.outliers_influence import variance_inflation_factor\n",
    "vif=pd.DataFrame()\n",
    "vif[\"VIF Values\"]=[variance_inflation_factor(x.values,i) \n",
    "for i in range(len(x.columns))]\n",
    "vif[\"Features\"]=x.columns\n",
    "vif"
   ]
  },
  {
   "cell_type": "code",
   "execution_count": 57,
   "id": "4904bb32",
   "metadata": {},
   "outputs": [
    {
     "data": {
      "text/plain": [
       "'Here we can see No multicolinarity issue. so we can proceed further.'"
      ]
     },
     "execution_count": 57,
     "metadata": {},
     "output_type": "execute_result"
    }
   ],
   "source": [
    "\"\"\"Here we can see No multicolinarity issue. so we can proceed further.\"\"\""
   ]
  },
  {
   "cell_type": "code",
   "execution_count": 58,
   "id": "42c47bd1",
   "metadata": {},
   "outputs": [],
   "source": [
    "# .....FINDING BEST RANDOM STATE\n",
    "from sklearn.model_selection import train_test_split\n",
    "from sklearn.metrics import mean_absolute_error\n",
    "from sklearn.metrics import mean_squared_error\n",
    "from sklearn.metrics import r2_score\n",
    "from sklearn.linear_model import LinearRegression"
   ]
  },
  {
   "cell_type": "code",
   "execution_count": 59,
   "id": "5e356f0c",
   "metadata": {},
   "outputs": [
    {
     "name": "stdout",
     "output_type": "stream",
     "text": [
      "Maximum r2 score is  0.5385649041139138 on Random state 107\n"
     ]
    }
   ],
   "source": [
    "#creating train test split\n",
    "maxAccu=0\n",
    "maxRs=0\n",
    "for i in range(1,200):\n",
    "    x_train,x_test,y_train,y_test=train_test_split(x,y,test_size=.25,random_state=i)\n",
    "    lr=LinearRegression()\n",
    "    lr.fit(x_train,y_train)\n",
    "    pred=lr.predict(x_test)\n",
    "    acc=r2_score(y_test,pred)\n",
    "    if acc>maxAccu:\n",
    "        maxAccu=acc\n",
    "        maxRs=i\n",
    "print(\"Maximum r2 score is \",maxAccu,\"on Random state\",maxRs)"
   ]
  },
  {
   "cell_type": "code",
   "execution_count": 60,
   "id": "5a4bd243",
   "metadata": {},
   "outputs": [],
   "source": [
    "x_train,x_test,y_train,y_test=train_test_split(x,y,test_size=.25,random_state=maxRs)"
   ]
  },
  {
   "cell_type": "code",
   "execution_count": 61,
   "id": "98a85707",
   "metadata": {},
   "outputs": [],
   "source": [
    "from sklearn.linear_model import LinearRegression\n",
    "from sklearn.ensemble import RandomForestRegressor\n",
    "from sklearn.linear_model import Lasso,Ridge"
   ]
  },
  {
   "cell_type": "code",
   "execution_count": 62,
   "id": "65ad6c93",
   "metadata": {},
   "outputs": [
    {
     "name": "stdout",
     "output_type": "stream",
     "text": [
      "R2_score: 0.5385649041139138\n",
      "R2_score on training data: 41.36427727384678\n",
      "Mean Absolute Error: 1.6866072388575575\n",
      "Mean Squared Error: 4.183721444018586\n",
      "Root Mean Squared Error: 1.2986944362926782\n"
     ]
    }
   ],
   "source": [
    "LR=LinearRegression()\n",
    "LR.fit(x_train,y_train)\n",
    "pred_LR=LR.predict(x_test)\n",
    "pred_train=LR.predict(x_train)\n",
    "\n",
    "print('R2_score:',r2_score(y_test,pred_LR))\n",
    "print('R2_score on training data:',r2_score(y_train,pred_train)*100)\n",
    "print('Mean Absolute Error:',mean_absolute_error(y_test,pred_LR))\n",
    "print('Mean Squared Error:',mean_squared_error(y_test,pred_LR))\n",
    "print('Root Mean Squared Error:',np.sqrt(mean_absolute_error(y_test,pred_LR)))"
   ]
  },
  {
   "cell_type": "code",
   "execution_count": 63,
   "id": "dd4e5e4c",
   "metadata": {},
   "outputs": [
    {
     "name": "stdout",
     "output_type": "stream",
     "text": [
      "R2_score: 0.899596146478045\n",
      "R2_score on training data: 97.07642664385806\n",
      "Mean Absolute Error: 0.7104066013053579\n",
      "Mean Squared Error: 0.9103376808286908\n",
      "Root Mean Squared Error: 0.8428562162702236\n"
     ]
    }
   ],
   "source": [
    "RFR=RandomForestRegressor()\n",
    "RFR.fit(x_train,y_train)\n",
    "pred_RFR=RFR.predict(x_test)\n",
    "pred_train=RFR.predict(x_train)\n",
    "\n",
    "print('R2_score:',r2_score(y_test,pred_RFR))\n",
    "print('R2_score on training data:',r2_score(y_train,pred_train)*100)\n",
    "print('Mean Absolute Error:',mean_absolute_error(y_test,pred_RFR))\n",
    "print('Mean Squared Error:',mean_squared_error(y_test,pred_RFR))\n",
    "print('Root Mean Squared Error:',np.sqrt(mean_absolute_error(y_test,pred_RFR)))"
   ]
  },
  {
   "cell_type": "code",
   "execution_count": 64,
   "id": "e73f2078",
   "metadata": {},
   "outputs": [
    {
     "name": "stdout",
     "output_type": "stream",
     "text": [
      "R2_score: 0.12650196122576796\n",
      "R2_score on training data: 12.046061893888538\n",
      "Mean Absolute Error: 2.3521313010792304\n",
      "Mean Squared Error: 7.919797407499551\n",
      "Root Mean Squared Error: 1.533665967894975\n"
     ]
    }
   ],
   "source": [
    "lasso=Lasso()\n",
    "lasso.fit(x_train,y_train)\n",
    "pred_lasso=lasso.predict(x_test)\n",
    "pred_train=lasso.predict(x_train)\n",
    "\n",
    "print('R2_score:',r2_score(y_test,pred_lasso))\n",
    "print('R2_score on training data:',r2_score(y_train,pred_train)*100)\n",
    "print('Mean Absolute Error:',mean_absolute_error(y_test,pred_lasso))\n",
    "print('Mean Squared Error:',mean_squared_error(y_test,pred_lasso))\n",
    "print('Root Mean Squared Error:',np.sqrt(mean_absolute_error(y_test,pred_lasso)))"
   ]
  },
  {
   "cell_type": "code",
   "execution_count": 65,
   "id": "e6365fca",
   "metadata": {},
   "outputs": [
    {
     "name": "stdout",
     "output_type": "stream",
     "text": [
      "R2_score: 0.538456765701999\n",
      "R2_score on training data: 41.36406917760633\n",
      "Mean Absolute Error: 1.6873228028582745\n",
      "Mean Squared Error: 4.184701909086987\n",
      "Root Mean Squared Error: 1.2989699006744824\n"
     ]
    }
   ],
   "source": [
    "rd=Ridge()\n",
    "rd.fit(x_train,y_train)\n",
    "pred_rd=rd.predict(x_test)\n",
    "pred_train=rd.predict(x_train)\n",
    "\n",
    "print('R2_score:',r2_score(y_test,pred_rd))\n",
    "print('R2_score on training data:',r2_score(y_train,pred_train)*100)\n",
    "print('Mean Absolute Error:',mean_absolute_error(y_test,pred_rd))\n",
    "print('Mean Squared Error:',mean_squared_error(y_test,pred_rd))\n",
    "print('Root Mean Squared Error:',np.sqrt(mean_absolute_error(y_test,pred_rd)))"
   ]
  },
  {
   "cell_type": "code",
   "execution_count": 66,
   "id": "665f37e1",
   "metadata": {},
   "outputs": [],
   "source": []
  },
  {
   "cell_type": "code",
   "execution_count": null,
   "id": "a82d3de0",
   "metadata": {},
   "outputs": [],
   "source": []
  },
  {
   "cell_type": "code",
   "execution_count": null,
   "id": "a43d8632",
   "metadata": {},
   "outputs": [],
   "source": []
  },
  {
   "cell_type": "code",
   "execution_count": 69,
   "id": "06d09e7b",
   "metadata": {},
   "outputs": [],
   "source": [
    "from sklearn.model_selection import cross_val_score"
   ]
  },
  {
   "cell_type": "code",
   "execution_count": 70,
   "id": "33930cc7",
   "metadata": {},
   "outputs": [
    {
     "name": "stdout",
     "output_type": "stream",
     "text": [
      "[0.38958751 0.4548746  0.36667102 0.4645469  0.46875138]\n",
      "0.4288862835202103\n",
      "Difference between R2 score and cross validation score is : 10.967862059370347\n"
     ]
    }
   ],
   "source": [
    "score=cross_val_score(LR,x,y,cv=5,scoring='r2')\n",
    "print(score)\n",
    "print(score.mean())\n",
    "print(\"Difference between R2 score and cross validation score is :\",(r2_score(y_test,pred_LR)-score.mean())*100)"
   ]
  },
  {
   "cell_type": "code",
   "execution_count": 71,
   "id": "c0a75871",
   "metadata": {},
   "outputs": [
    {
     "name": "stdout",
     "output_type": "stream",
     "text": [
      "[0.82502441 0.85527937 0.76146401 0.84455156 0.85251637]\n",
      "0.8277671436824268\n",
      "Difference between R2 score and cross validation score is : 7.182900279561821\n"
     ]
    }
   ],
   "source": [
    "score1=cross_val_score(RFR,x,y)\n",
    "print(score1)\n",
    "print(score1.mean())\n",
    "print(\"Difference between R2 score and cross validation score is :\",(r2_score(y_test,pred_RFR)-score1.mean())*100)"
   ]
  },
  {
   "cell_type": "code",
   "execution_count": 72,
   "id": "c6592e4c",
   "metadata": {},
   "outputs": [
    {
     "name": "stdout",
     "output_type": "stream",
     "text": [
      "[0.15727005 0.16832916 0.12744613 0.11554257 0.15722866]\n",
      "0.14516331537272142\n",
      "Difference between R2 score and cross validation score is : -1.8661354146953468\n"
     ]
    }
   ],
   "source": [
    "score2=cross_val_score(lasso,x,y)\n",
    "print(score2)\n",
    "print(score2.mean())\n",
    "print(\"Difference between R2 score and cross validation score is :\",(r2_score(y_test,pred_lasso)-score2.mean())*100)"
   ]
  },
  {
   "cell_type": "code",
   "execution_count": 79,
   "id": "18f5edc1",
   "metadata": {},
   "outputs": [
    {
     "name": "stdout",
     "output_type": "stream",
     "text": [
      "[0.41836407 0.47793564 0.40776408 0.47842794 0.47851719]\n",
      "0.4522017858068727\n",
      "Difference between R2 score and cross validation score is : 9.633662147767335\n"
     ]
    }
   ],
   "source": [
    "score4=cross_val_score(rd,x,y)\n",
    "print(score4)\n",
    "print(score4.mean())\n",
    "print(\"Difference between R2 score and cross validation score is :\",(r2_score(y_test,pred_rd)-score4.mean())*100)"
   ]
  },
  {
   "cell_type": "code",
   "execution_count": 89,
   "id": "5ce69edb",
   "metadata": {},
   "outputs": [
    {
     "data": {
      "text/plain": [
       "'From the difference between both R2 score and cross validation score computed on R2 score we \\ncan conclude that RandomForestRegressor as our best fitting and best performing model'"
      ]
     },
     "execution_count": 89,
     "metadata": {},
     "output_type": "execute_result"
    }
   ],
   "source": [
    "\"\"\"From the difference between both R2 score and cross validation score computed on R2 score we \n",
    "can conclude that RandomForestRegressor as our best fitting and best performing model\"\"\""
   ]
  },
  {
   "cell_type": "code",
   "execution_count": null,
   "id": "3b959ed1",
   "metadata": {},
   "outputs": [],
   "source": []
  },
  {
   "cell_type": "code",
   "execution_count": null,
   "id": "aca665d3",
   "metadata": {},
   "outputs": [],
   "source": []
  },
  {
   "cell_type": "code",
   "execution_count": 76,
   "id": "7aa9f083",
   "metadata": {},
   "outputs": [],
   "source": [
    "#Hyper parameter tunning\n",
    "from sklearn.model_selection import GridSearchCV"
   ]
  },
  {
   "cell_type": "code",
   "execution_count": 81,
   "id": "f17de6c8",
   "metadata": {},
   "outputs": [
    {
     "data": {
      "text/html": [
       "<style>#sk-container-id-2 {color: black;}#sk-container-id-2 pre{padding: 0;}#sk-container-id-2 div.sk-toggleable {background-color: white;}#sk-container-id-2 label.sk-toggleable__label {cursor: pointer;display: block;width: 100%;margin-bottom: 0;padding: 0.3em;box-sizing: border-box;text-align: center;}#sk-container-id-2 label.sk-toggleable__label-arrow:before {content: \"▸\";float: left;margin-right: 0.25em;color: #696969;}#sk-container-id-2 label.sk-toggleable__label-arrow:hover:before {color: black;}#sk-container-id-2 div.sk-estimator:hover label.sk-toggleable__label-arrow:before {color: black;}#sk-container-id-2 div.sk-toggleable__content {max-height: 0;max-width: 0;overflow: hidden;text-align: left;background-color: #f0f8ff;}#sk-container-id-2 div.sk-toggleable__content pre {margin: 0.2em;color: black;border-radius: 0.25em;background-color: #f0f8ff;}#sk-container-id-2 input.sk-toggleable__control:checked~div.sk-toggleable__content {max-height: 200px;max-width: 100%;overflow: auto;}#sk-container-id-2 input.sk-toggleable__control:checked~label.sk-toggleable__label-arrow:before {content: \"▾\";}#sk-container-id-2 div.sk-estimator input.sk-toggleable__control:checked~label.sk-toggleable__label {background-color: #d4ebff;}#sk-container-id-2 div.sk-label input.sk-toggleable__control:checked~label.sk-toggleable__label {background-color: #d4ebff;}#sk-container-id-2 input.sk-hidden--visually {border: 0;clip: rect(1px 1px 1px 1px);clip: rect(1px, 1px, 1px, 1px);height: 1px;margin: -1px;overflow: hidden;padding: 0;position: absolute;width: 1px;}#sk-container-id-2 div.sk-estimator {font-family: monospace;background-color: #f0f8ff;border: 1px dotted black;border-radius: 0.25em;box-sizing: border-box;margin-bottom: 0.5em;}#sk-container-id-2 div.sk-estimator:hover {background-color: #d4ebff;}#sk-container-id-2 div.sk-parallel-item::after {content: \"\";width: 100%;border-bottom: 1px solid gray;flex-grow: 1;}#sk-container-id-2 div.sk-label:hover label.sk-toggleable__label {background-color: #d4ebff;}#sk-container-id-2 div.sk-serial::before {content: \"\";position: absolute;border-left: 1px solid gray;box-sizing: border-box;top: 0;bottom: 0;left: 50%;z-index: 0;}#sk-container-id-2 div.sk-serial {display: flex;flex-direction: column;align-items: center;background-color: white;padding-right: 0.2em;padding-left: 0.2em;position: relative;}#sk-container-id-2 div.sk-item {position: relative;z-index: 1;}#sk-container-id-2 div.sk-parallel {display: flex;align-items: stretch;justify-content: center;background-color: white;position: relative;}#sk-container-id-2 div.sk-item::before, #sk-container-id-2 div.sk-parallel-item::before {content: \"\";position: absolute;border-left: 1px solid gray;box-sizing: border-box;top: 0;bottom: 0;left: 50%;z-index: -1;}#sk-container-id-2 div.sk-parallel-item {display: flex;flex-direction: column;z-index: 1;position: relative;background-color: white;}#sk-container-id-2 div.sk-parallel-item:first-child::after {align-self: flex-end;width: 50%;}#sk-container-id-2 div.sk-parallel-item:last-child::after {align-self: flex-start;width: 50%;}#sk-container-id-2 div.sk-parallel-item:only-child::after {width: 0;}#sk-container-id-2 div.sk-dashed-wrapped {border: 1px dashed gray;margin: 0 0.4em 0.5em 0.4em;box-sizing: border-box;padding-bottom: 0.4em;background-color: white;}#sk-container-id-2 div.sk-label label {font-family: monospace;font-weight: bold;display: inline-block;line-height: 1.2em;}#sk-container-id-2 div.sk-label-container {text-align: center;}#sk-container-id-2 div.sk-container {/* jupyter's `normalize.less` sets `[hidden] { display: none; }` but bootstrap.min.css set `[hidden] { display: none !important; }` so we also need the `!important` here to be able to override the default hidden behavior on the sphinx rendered scikit-learn.org. See: https://github.com/scikit-learn/scikit-learn/issues/21755 */display: inline-block !important;position: relative;}#sk-container-id-2 div.sk-text-repr-fallback {display: none;}</style><div id=\"sk-container-id-2\" class=\"sk-top-container\"><div class=\"sk-text-repr-fallback\"><pre>GridSearchCV(cv=5, estimator=RandomForestRegressor(), n_jobs=-1,\n",
       "             param_grid={&#x27;bootstrap&#x27;: [True, False],\n",
       "                         &#x27;max_features&#x27;: [&#x27;auto&#x27;, &#x27;sqrt&#x27;, &#x27;log2&#x27;],\n",
       "                         &#x27;min_samples_split&#x27;: [2, 4, 8],\n",
       "                         &#x27;n_estimators&#x27;: [10, 20, 30]})</pre><b>In a Jupyter environment, please rerun this cell to show the HTML representation or trust the notebook. <br />On GitHub, the HTML representation is unable to render, please try loading this page with nbviewer.org.</b></div><div class=\"sk-container\" hidden><div class=\"sk-item sk-dashed-wrapped\"><div class=\"sk-label-container\"><div class=\"sk-label sk-toggleable\"><input class=\"sk-toggleable__control sk-hidden--visually\" id=\"sk-estimator-id-4\" type=\"checkbox\" ><label for=\"sk-estimator-id-4\" class=\"sk-toggleable__label sk-toggleable__label-arrow\">GridSearchCV</label><div class=\"sk-toggleable__content\"><pre>GridSearchCV(cv=5, estimator=RandomForestRegressor(), n_jobs=-1,\n",
       "             param_grid={&#x27;bootstrap&#x27;: [True, False],\n",
       "                         &#x27;max_features&#x27;: [&#x27;auto&#x27;, &#x27;sqrt&#x27;, &#x27;log2&#x27;],\n",
       "                         &#x27;min_samples_split&#x27;: [2, 4, 8],\n",
       "                         &#x27;n_estimators&#x27;: [10, 20, 30]})</pre></div></div></div><div class=\"sk-parallel\"><div class=\"sk-parallel-item\"><div class=\"sk-item\"><div class=\"sk-label-container\"><div class=\"sk-label sk-toggleable\"><input class=\"sk-toggleable__control sk-hidden--visually\" id=\"sk-estimator-id-5\" type=\"checkbox\" ><label for=\"sk-estimator-id-5\" class=\"sk-toggleable__label sk-toggleable__label-arrow\">estimator: RandomForestRegressor</label><div class=\"sk-toggleable__content\"><pre>RandomForestRegressor()</pre></div></div></div><div class=\"sk-serial\"><div class=\"sk-item\"><div class=\"sk-estimator sk-toggleable\"><input class=\"sk-toggleable__control sk-hidden--visually\" id=\"sk-estimator-id-6\" type=\"checkbox\" ><label for=\"sk-estimator-id-6\" class=\"sk-toggleable__label sk-toggleable__label-arrow\">RandomForestRegressor</label><div class=\"sk-toggleable__content\"><pre>RandomForestRegressor()</pre></div></div></div></div></div></div></div></div></div></div>"
      ],
      "text/plain": [
       "GridSearchCV(cv=5, estimator=RandomForestRegressor(), n_jobs=-1,\n",
       "             param_grid={'bootstrap': [True, False],\n",
       "                         'max_features': ['auto', 'sqrt', 'log2'],\n",
       "                         'min_samples_split': [2, 4, 8],\n",
       "                         'n_estimators': [10, 20, 30]})"
      ]
     },
     "execution_count": 81,
     "metadata": {},
     "output_type": "execute_result"
    }
   ],
   "source": [
    "param = { \n",
    "            \"n_estimators\"      : [10,20,30],\n",
    "            \"max_features\"      : [\"auto\", \"sqrt\", \"log2\"],\n",
    "            \"min_samples_split\" : [2,4,8],\n",
    "            \"bootstrap\": [True, False],\n",
    "            }\n",
    "\n",
    "gscv=GridSearchCV(RFR,param_grid=param,n_jobs=-1, cv=5)\n",
    "gscv.fit(x_train,y_train)"
   ]
  },
  {
   "cell_type": "code",
   "execution_count": 82,
   "id": "67904796",
   "metadata": {},
   "outputs": [
    {
     "data": {
      "text/plain": [
       "{'bootstrap': True,\n",
       " 'max_features': 'sqrt',\n",
       " 'min_samples_split': 4,\n",
       " 'n_estimators': 30}"
      ]
     },
     "execution_count": 82,
     "metadata": {},
     "output_type": "execute_result"
    }
   ],
   "source": [
    "gscv.best_params_"
   ]
  },
  {
   "cell_type": "code",
   "execution_count": 83,
   "id": "cbc0208f",
   "metadata": {},
   "outputs": [],
   "source": [
    "model=RandomForestRegressor(bootstrap=True,max_features='sqrt',n_estimators=30,min_samples_split=4)"
   ]
  },
  {
   "cell_type": "code",
   "execution_count": 84,
   "id": "a1d3e12f",
   "metadata": {},
   "outputs": [
    {
     "name": "stdout",
     "output_type": "stream",
     "text": [
      "R2_score: 0.9105321465498669\n",
      "Mean Absolute Error: 0.6835251901536409\n",
      "Mean Squared Error: 0.8111835886926962\n",
      "Root Mean Squared Error: 0.8267558225701473\n"
     ]
    }
   ],
   "source": [
    "model.fit(x_train,y_train)\n",
    "pred=model.predict(x_test)\n",
    "print('R2_score:',r2_score(y_test,pred))\n",
    "print('Mean Absolute Error:',mean_absolute_error(y_test,pred))\n",
    "print('Mean Squared Error:',mean_squared_error(y_test,pred))\n",
    "print('Root Mean Squared Error:',np.sqrt(mean_absolute_error(y_test,pred)))"
   ]
  },
  {
   "cell_type": "code",
   "execution_count": 85,
   "id": "7d4301cb",
   "metadata": {},
   "outputs": [],
   "source": [
    "import joblib\n",
    "import pickle\n",
    "filename='global_capacity.pkl'\n",
    "pickle.dump(model,open(filename,'wb'))"
   ]
  },
  {
   "cell_type": "code",
   "execution_count": 86,
   "id": "677dac0e",
   "metadata": {},
   "outputs": [
    {
     "name": "stdout",
     "output_type": "stream",
     "text": [
      "91.05321465498669\n"
     ]
    }
   ],
   "source": [
    "loaded_model=pickle.load(open('global_capacity.pkl','rb'))\n",
    "result=loaded_model.score(x_test,y_test)\n",
    "print(result*100)"
   ]
  },
  {
   "cell_type": "code",
   "execution_count": 88,
   "id": "46676aec",
   "metadata": {},
   "outputs": [
    {
     "data": {
      "text/html": [
       "<div>\n",
       "<style scoped>\n",
       "    .dataframe tbody tr th:only-of-type {\n",
       "        vertical-align: middle;\n",
       "    }\n",
       "\n",
       "    .dataframe tbody tr th {\n",
       "        vertical-align: top;\n",
       "    }\n",
       "\n",
       "    .dataframe thead th {\n",
       "        text-align: right;\n",
       "    }\n",
       "</style>\n",
       "<table border=\"1\" class=\"dataframe\">\n",
       "  <thead>\n",
       "    <tr style=\"text-align: right;\">\n",
       "      <th></th>\n",
       "      <th>0</th>\n",
       "      <th>1</th>\n",
       "      <th>2</th>\n",
       "      <th>3</th>\n",
       "      <th>4</th>\n",
       "      <th>5</th>\n",
       "      <th>6</th>\n",
       "      <th>7</th>\n",
       "      <th>8</th>\n",
       "      <th>9</th>\n",
       "      <th>...</th>\n",
       "      <th>203</th>\n",
       "      <th>204</th>\n",
       "      <th>205</th>\n",
       "      <th>206</th>\n",
       "      <th>207</th>\n",
       "      <th>208</th>\n",
       "      <th>209</th>\n",
       "      <th>210</th>\n",
       "      <th>211</th>\n",
       "      <th>212</th>\n",
       "    </tr>\n",
       "  </thead>\n",
       "  <tbody>\n",
       "    <tr>\n",
       "      <th>Predicted</th>\n",
       "      <td>7.470474</td>\n",
       "      <td>2.520881</td>\n",
       "      <td>1.439978</td>\n",
       "      <td>10.920032</td>\n",
       "      <td>3.782133</td>\n",
       "      <td>5.271336</td>\n",
       "      <td>1.894204</td>\n",
       "      <td>2.02443</td>\n",
       "      <td>4.225415</td>\n",
       "      <td>6.573221</td>\n",
       "      <td>...</td>\n",
       "      <td>10.894801</td>\n",
       "      <td>9.117485</td>\n",
       "      <td>2.691268</td>\n",
       "      <td>7.446855</td>\n",
       "      <td>7.878259</td>\n",
       "      <td>3.294512</td>\n",
       "      <td>1.932391</td>\n",
       "      <td>3.002882</td>\n",
       "      <td>3.701607</td>\n",
       "      <td>2.883807</td>\n",
       "    </tr>\n",
       "    <tr>\n",
       "      <th>Original</th>\n",
       "      <td>7.663094</td>\n",
       "      <td>2.289428</td>\n",
       "      <td>1.000000</td>\n",
       "      <td>11.981453</td>\n",
       "      <td>2.924018</td>\n",
       "      <td>4.932424</td>\n",
       "      <td>1.709976</td>\n",
       "      <td>1.44225</td>\n",
       "      <td>4.641589</td>\n",
       "      <td>5.000000</td>\n",
       "      <td>...</td>\n",
       "      <td>10.000000</td>\n",
       "      <td>10.000000</td>\n",
       "      <td>3.489766</td>\n",
       "      <td>7.605905</td>\n",
       "      <td>9.654894</td>\n",
       "      <td>4.621387</td>\n",
       "      <td>2.466212</td>\n",
       "      <td>1.553616</td>\n",
       "      <td>2.714418</td>\n",
       "      <td>3.277285</td>\n",
       "    </tr>\n",
       "  </tbody>\n",
       "</table>\n",
       "<p>2 rows × 213 columns</p>\n",
       "</div>"
      ],
      "text/plain": [
       "                0         1         2          3         4         5    \\\n",
       "Predicted  7.470474  2.520881  1.439978  10.920032  3.782133  5.271336   \n",
       "Original   7.663094  2.289428  1.000000  11.981453  2.924018  4.932424   \n",
       "\n",
       "                6        7         8         9    ...        203        204  \\\n",
       "Predicted  1.894204  2.02443  4.225415  6.573221  ...  10.894801   9.117485   \n",
       "Original   1.709976  1.44225  4.641589  5.000000  ...  10.000000  10.000000   \n",
       "\n",
       "                205       206       207       208       209       210  \\\n",
       "Predicted  2.691268  7.446855  7.878259  3.294512  1.932391  3.002882   \n",
       "Original   3.489766  7.605905  9.654894  4.621387  2.466212  1.553616   \n",
       "\n",
       "                211       212  \n",
       "Predicted  3.701607  2.883807  \n",
       "Original   2.714418  3.277285  \n",
       "\n",
       "[2 rows x 213 columns]"
      ]
     },
     "execution_count": 88,
     "metadata": {},
     "output_type": "execute_result"
    }
   ],
   "source": [
    "conclusion=pd.DataFrame([loaded_model.predict(x_test)[:],y_test[:]],index=[\"Predicted\",\"Original\"])\n",
    "conclusion"
   ]
  },
  {
   "cell_type": "code",
   "execution_count": 90,
   "id": "d2439e9e",
   "metadata": {},
   "outputs": [
    {
     "data": {
      "text/plain": [
       "\"Now Taking 'Primary_Fuel' as Target.\""
      ]
     },
     "execution_count": 90,
     "metadata": {},
     "output_type": "execute_result"
    }
   ],
   "source": [
    "\"\"\"Now Taking 'Primary_Fuel' as Target.\"\"\""
   ]
  },
  {
   "cell_type": "code",
   "execution_count": 91,
   "id": "bb17025e",
   "metadata": {},
   "outputs": [],
   "source": [
    "#dividing data into x and y\n",
    "#separating features and label\n",
    "x=df.drop(\"primary_fuel\",axis=1)\n",
    "y=df[\"primary_fuel\"]"
   ]
  },
  {
   "cell_type": "code",
   "execution_count": 92,
   "id": "13969793",
   "metadata": {},
   "outputs": [
    {
     "data": {
      "text/html": [
       "<div>\n",
       "<style scoped>\n",
       "    .dataframe tbody tr th:only-of-type {\n",
       "        vertical-align: middle;\n",
       "    }\n",
       "\n",
       "    .dataframe tbody tr th {\n",
       "        vertical-align: top;\n",
       "    }\n",
       "\n",
       "    .dataframe thead th {\n",
       "        text-align: right;\n",
       "    }\n",
       "</style>\n",
       "<table border=\"1\" class=\"dataframe\">\n",
       "  <thead>\n",
       "    <tr style=\"text-align: right;\">\n",
       "      <th></th>\n",
       "      <th>capacity_mw</th>\n",
       "      <th>latitude</th>\n",
       "      <th>longitude</th>\n",
       "      <th>commissioning_year</th>\n",
       "      <th>source</th>\n",
       "      <th>geolocation_source</th>\n",
       "      <th>generation_gwh_2013</th>\n",
       "      <th>generation_gwh_2014</th>\n",
       "      <th>generation_gwh_2015</th>\n",
       "      <th>generation_gwh_2016</th>\n",
       "      <th>generation_gwh_2017</th>\n",
       "    </tr>\n",
       "  </thead>\n",
       "  <tbody>\n",
       "    <tr>\n",
       "      <th>0</th>\n",
       "      <td>-1.169470</td>\n",
       "      <td>1.157754</td>\n",
       "      <td>-0.892193</td>\n",
       "      <td>1.182436</td>\n",
       "      <td>1.396744</td>\n",
       "      <td>-1.035536</td>\n",
       "      <td>0.371295</td>\n",
       "      <td>0.389724</td>\n",
       "      <td>0.414013</td>\n",
       "      <td>0.415699</td>\n",
       "      <td>0.413966</td>\n",
       "    </tr>\n",
       "    <tr>\n",
       "      <th>1</th>\n",
       "      <td>-0.082562</td>\n",
       "      <td>0.599221</td>\n",
       "      <td>-0.567093</td>\n",
       "      <td>-0.073182</td>\n",
       "      <td>2.819969</td>\n",
       "      <td>0.407424</td>\n",
       "      <td>0.371295</td>\n",
       "      <td>0.389724</td>\n",
       "      <td>0.414013</td>\n",
       "      <td>0.415699</td>\n",
       "      <td>0.413966</td>\n",
       "    </tr>\n",
       "    <tr>\n",
       "      <th>2</th>\n",
       "      <td>-0.487973</td>\n",
       "      <td>0.131408</td>\n",
       "      <td>-1.811087</td>\n",
       "      <td>-0.073182</td>\n",
       "      <td>-0.530084</td>\n",
       "      <td>0.407424</td>\n",
       "      <td>0.371295</td>\n",
       "      <td>0.389724</td>\n",
       "      <td>0.414013</td>\n",
       "      <td>0.415699</td>\n",
       "      <td>0.413966</td>\n",
       "    </tr>\n",
       "    <tr>\n",
       "      <th>3</th>\n",
       "      <td>0.091001</td>\n",
       "      <td>0.452937</td>\n",
       "      <td>3.412889</td>\n",
       "      <td>0.560837</td>\n",
       "      <td>-0.508188</td>\n",
       "      <td>0.407424</td>\n",
       "      <td>-0.875073</td>\n",
       "      <td>-0.847201</td>\n",
       "      <td>-0.532233</td>\n",
       "      <td>-0.495195</td>\n",
       "      <td>-0.712404</td>\n",
       "    </tr>\n",
       "    <tr>\n",
       "      <th>4</th>\n",
       "      <td>2.441230</td>\n",
       "      <td>0.140642</td>\n",
       "      <td>1.286163</td>\n",
       "      <td>1.536988</td>\n",
       "      <td>-0.508188</td>\n",
       "      <td>0.407424</td>\n",
       "      <td>0.008288</td>\n",
       "      <td>0.654958</td>\n",
       "      <td>1.528785</td>\n",
       "      <td>1.570860</td>\n",
       "      <td>1.309148</td>\n",
       "    </tr>\n",
       "    <tr>\n",
       "      <th>...</th>\n",
       "      <td>...</td>\n",
       "      <td>...</td>\n",
       "      <td>...</td>\n",
       "      <td>...</td>\n",
       "      <td>...</td>\n",
       "      <td>...</td>\n",
       "      <td>...</td>\n",
       "      <td>...</td>\n",
       "      <td>...</td>\n",
       "      <td>...</td>\n",
       "      <td>...</td>\n",
       "    </tr>\n",
       "    <tr>\n",
       "      <th>845</th>\n",
       "      <td>2.284759</td>\n",
       "      <td>-0.785245</td>\n",
       "      <td>0.085767</td>\n",
       "      <td>1.625553</td>\n",
       "      <td>-0.508188</td>\n",
       "      <td>0.407424</td>\n",
       "      <td>0.371295</td>\n",
       "      <td>0.389724</td>\n",
       "      <td>-2.548896</td>\n",
       "      <td>-1.303419</td>\n",
       "      <td>-0.527270</td>\n",
       "    </tr>\n",
       "    <tr>\n",
       "      <th>846</th>\n",
       "      <td>-1.141058</td>\n",
       "      <td>-1.341179</td>\n",
       "      <td>0.277886</td>\n",
       "      <td>-0.073182</td>\n",
       "      <td>0.696079</td>\n",
       "      <td>-2.478495</td>\n",
       "      <td>0.371295</td>\n",
       "      <td>0.389724</td>\n",
       "      <td>0.414013</td>\n",
       "      <td>0.415699</td>\n",
       "      <td>0.413966</td>\n",
       "    </tr>\n",
       "    <tr>\n",
       "      <th>847</th>\n",
       "      <td>-0.639527</td>\n",
       "      <td>-0.951795</td>\n",
       "      <td>-0.336128</td>\n",
       "      <td>-0.073182</td>\n",
       "      <td>-0.530084</td>\n",
       "      <td>0.407424</td>\n",
       "      <td>0.371295</td>\n",
       "      <td>0.389724</td>\n",
       "      <td>0.414013</td>\n",
       "      <td>0.415699</td>\n",
       "      <td>0.413966</td>\n",
       "    </tr>\n",
       "    <tr>\n",
       "      <th>848</th>\n",
       "      <td>-0.183316</td>\n",
       "      <td>0.531186</td>\n",
       "      <td>-0.771733</td>\n",
       "      <td>-0.073182</td>\n",
       "      <td>0.301955</td>\n",
       "      <td>0.407424</td>\n",
       "      <td>0.371295</td>\n",
       "      <td>0.389724</td>\n",
       "      <td>0.414013</td>\n",
       "      <td>0.415699</td>\n",
       "      <td>0.413966</td>\n",
       "    </tr>\n",
       "    <tr>\n",
       "      <th>849</th>\n",
       "      <td>-0.772353</td>\n",
       "      <td>-1.824731</td>\n",
       "      <td>0.114279</td>\n",
       "      <td>-0.073182</td>\n",
       "      <td>-0.530084</td>\n",
       "      <td>0.407424</td>\n",
       "      <td>0.371295</td>\n",
       "      <td>0.389724</td>\n",
       "      <td>0.414013</td>\n",
       "      <td>0.415699</td>\n",
       "      <td>0.413966</td>\n",
       "    </tr>\n",
       "  </tbody>\n",
       "</table>\n",
       "<p>850 rows × 11 columns</p>\n",
       "</div>"
      ],
      "text/plain": [
       "     capacity_mw  latitude  longitude  commissioning_year    source  \\\n",
       "0      -1.169470  1.157754  -0.892193            1.182436  1.396744   \n",
       "1      -0.082562  0.599221  -0.567093           -0.073182  2.819969   \n",
       "2      -0.487973  0.131408  -1.811087           -0.073182 -0.530084   \n",
       "3       0.091001  0.452937   3.412889            0.560837 -0.508188   \n",
       "4       2.441230  0.140642   1.286163            1.536988 -0.508188   \n",
       "..           ...       ...        ...                 ...       ...   \n",
       "845     2.284759 -0.785245   0.085767            1.625553 -0.508188   \n",
       "846    -1.141058 -1.341179   0.277886           -0.073182  0.696079   \n",
       "847    -0.639527 -0.951795  -0.336128           -0.073182 -0.530084   \n",
       "848    -0.183316  0.531186  -0.771733           -0.073182  0.301955   \n",
       "849    -0.772353 -1.824731   0.114279           -0.073182 -0.530084   \n",
       "\n",
       "     geolocation_source  generation_gwh_2013  generation_gwh_2014  \\\n",
       "0             -1.035536             0.371295             0.389724   \n",
       "1              0.407424             0.371295             0.389724   \n",
       "2              0.407424             0.371295             0.389724   \n",
       "3              0.407424            -0.875073            -0.847201   \n",
       "4              0.407424             0.008288             0.654958   \n",
       "..                  ...                  ...                  ...   \n",
       "845            0.407424             0.371295             0.389724   \n",
       "846           -2.478495             0.371295             0.389724   \n",
       "847            0.407424             0.371295             0.389724   \n",
       "848            0.407424             0.371295             0.389724   \n",
       "849            0.407424             0.371295             0.389724   \n",
       "\n",
       "     generation_gwh_2015  generation_gwh_2016  generation_gwh_2017  \n",
       "0               0.414013             0.415699             0.413966  \n",
       "1               0.414013             0.415699             0.413966  \n",
       "2               0.414013             0.415699             0.413966  \n",
       "3              -0.532233            -0.495195            -0.712404  \n",
       "4               1.528785             1.570860             1.309148  \n",
       "..                   ...                  ...                  ...  \n",
       "845            -2.548896            -1.303419            -0.527270  \n",
       "846             0.414013             0.415699             0.413966  \n",
       "847             0.414013             0.415699             0.413966  \n",
       "848             0.414013             0.415699             0.413966  \n",
       "849             0.414013             0.415699             0.413966  \n",
       "\n",
       "[850 rows x 11 columns]"
      ]
     },
     "execution_count": 92,
     "metadata": {},
     "output_type": "execute_result"
    }
   ],
   "source": [
    "#Feature Scaling using Standard Scalarization\n",
    "scaler=StandardScaler()\n",
    "x=pd.DataFrame(scaler.fit_transform(x),columns=x.columns)\n",
    "x"
   ]
  },
  {
   "cell_type": "code",
   "execution_count": 93,
   "id": "ab72ddd4",
   "metadata": {},
   "outputs": [
    {
     "data": {
      "text/html": [
       "<div>\n",
       "<style scoped>\n",
       "    .dataframe tbody tr th:only-of-type {\n",
       "        vertical-align: middle;\n",
       "    }\n",
       "\n",
       "    .dataframe tbody tr th {\n",
       "        vertical-align: top;\n",
       "    }\n",
       "\n",
       "    .dataframe thead th {\n",
       "        text-align: right;\n",
       "    }\n",
       "</style>\n",
       "<table border=\"1\" class=\"dataframe\">\n",
       "  <thead>\n",
       "    <tr style=\"text-align: right;\">\n",
       "      <th></th>\n",
       "      <th>VIF Values</th>\n",
       "      <th>Features</th>\n",
       "    </tr>\n",
       "  </thead>\n",
       "  <tbody>\n",
       "    <tr>\n",
       "      <th>0</th>\n",
       "      <td>1.502684</td>\n",
       "      <td>capacity_mw</td>\n",
       "    </tr>\n",
       "    <tr>\n",
       "      <th>1</th>\n",
       "      <td>1.085610</td>\n",
       "      <td>latitude</td>\n",
       "    </tr>\n",
       "    <tr>\n",
       "      <th>2</th>\n",
       "      <td>1.213995</td>\n",
       "      <td>longitude</td>\n",
       "    </tr>\n",
       "    <tr>\n",
       "      <th>3</th>\n",
       "      <td>1.140922</td>\n",
       "      <td>commissioning_year</td>\n",
       "    </tr>\n",
       "    <tr>\n",
       "      <th>4</th>\n",
       "      <td>1.468879</td>\n",
       "      <td>source</td>\n",
       "    </tr>\n",
       "    <tr>\n",
       "      <th>5</th>\n",
       "      <td>1.529963</td>\n",
       "      <td>geolocation_source</td>\n",
       "    </tr>\n",
       "    <tr>\n",
       "      <th>6</th>\n",
       "      <td>5.526993</td>\n",
       "      <td>generation_gwh_2013</td>\n",
       "    </tr>\n",
       "    <tr>\n",
       "      <th>7</th>\n",
       "      <td>6.630295</td>\n",
       "      <td>generation_gwh_2014</td>\n",
       "    </tr>\n",
       "    <tr>\n",
       "      <th>8</th>\n",
       "      <td>6.634571</td>\n",
       "      <td>generation_gwh_2015</td>\n",
       "    </tr>\n",
       "    <tr>\n",
       "      <th>9</th>\n",
       "      <td>9.731566</td>\n",
       "      <td>generation_gwh_2016</td>\n",
       "    </tr>\n",
       "    <tr>\n",
       "      <th>10</th>\n",
       "      <td>4.657574</td>\n",
       "      <td>generation_gwh_2017</td>\n",
       "    </tr>\n",
       "  </tbody>\n",
       "</table>\n",
       "</div>"
      ],
      "text/plain": [
       "    VIF Values             Features\n",
       "0     1.502684          capacity_mw\n",
       "1     1.085610             latitude\n",
       "2     1.213995            longitude\n",
       "3     1.140922   commissioning_year\n",
       "4     1.468879               source\n",
       "5     1.529963   geolocation_source\n",
       "6     5.526993  generation_gwh_2013\n",
       "7     6.630295  generation_gwh_2014\n",
       "8     6.634571  generation_gwh_2015\n",
       "9     9.731566  generation_gwh_2016\n",
       "10    4.657574  generation_gwh_2017"
      ]
     },
     "execution_count": 93,
     "metadata": {},
     "output_type": "execute_result"
    }
   ],
   "source": [
    "#Checking Variance Inflation Factor(VIF)\n",
    "#finding variance inflation factor in each scaled col \n",
    "from statsmodels.stats.outliers_influence import variance_inflation_factor\n",
    "vif=pd.DataFrame()\n",
    "vif[\"VIF Values\"]=[variance_inflation_factor(x.values,i) \n",
    "for i in range(len(x.columns))]\n",
    "vif[\"Features\"]=x.columns\n",
    "vif"
   ]
  },
  {
   "cell_type": "code",
   "execution_count": 94,
   "id": "eddc4576",
   "metadata": {},
   "outputs": [
    {
     "data": {
      "text/plain": [
       "'By checking VIF values we can see the no multicollinarity problem. '"
      ]
     },
     "execution_count": 94,
     "metadata": {},
     "output_type": "execute_result"
    }
   ],
   "source": [
    "\"\"\"By checking VIF values we can see the no multicollinarity problem. \"\"\""
   ]
  },
  {
   "cell_type": "code",
   "execution_count": 95,
   "id": "27e404bc",
   "metadata": {},
   "outputs": [
    {
     "data": {
      "text/plain": [
       "primary_fuel\n",
       "1    237\n",
       "3    219\n",
       "6    126\n",
       "7    123\n",
       "2     65\n",
       "0     50\n",
       "5     21\n",
       "4      9\n",
       "Name: count, dtype: int64"
      ]
     },
     "execution_count": 95,
     "metadata": {},
     "output_type": "execute_result"
    }
   ],
   "source": [
    "y.value_counts()"
   ]
  },
  {
   "cell_type": "code",
   "execution_count": 96,
   "id": "f2914c7b",
   "metadata": {},
   "outputs": [
    {
     "data": {
      "text/plain": [
       "\"'Here we can see that the data is not balanced,SO we will balance the data using oversampling method'\""
      ]
     },
     "execution_count": 96,
     "metadata": {},
     "output_type": "execute_result"
    }
   ],
   "source": [
    "\"'Here we can see that the data is not balanced,SO we will balance the data using oversampling method'\""
   ]
  },
  {
   "cell_type": "code",
   "execution_count": 97,
   "id": "38f72966",
   "metadata": {},
   "outputs": [],
   "source": [
    "#OVERSAMPLING\n",
    "from imblearn.over_sampling import SMOTE\n",
    "SM = SMOTE()\n",
    "x1,y1 = SM.fit_resample(x, y)"
   ]
  },
  {
   "cell_type": "code",
   "execution_count": 98,
   "id": "a14ed728",
   "metadata": {},
   "outputs": [
    {
     "data": {
      "text/plain": [
       "primary_fuel\n",
       "1    237\n",
       "3    219\n",
       "6    126\n",
       "7    123\n",
       "2     65\n",
       "0     50\n",
       "5     21\n",
       "4      9\n",
       "Name: count, dtype: int64"
      ]
     },
     "execution_count": 98,
     "metadata": {},
     "output_type": "execute_result"
    }
   ],
   "source": [
    "#checking value count of target col\n",
    "y.value_counts()"
   ]
  },
  {
   "cell_type": "code",
   "execution_count": 99,
   "id": "b4c4c862",
   "metadata": {},
   "outputs": [
    {
     "data": {
      "text/plain": [
       "primary_fuel\n",
       "6    237\n",
       "1    237\n",
       "7    237\n",
       "2    237\n",
       "3    237\n",
       "0    237\n",
       "5    237\n",
       "4    237\n",
       "Name: count, dtype: int64"
      ]
     },
     "execution_count": 99,
     "metadata": {},
     "output_type": "execute_result"
    }
   ],
   "source": [
    "y1.value_counts()"
   ]
  },
  {
   "cell_type": "code",
   "execution_count": 100,
   "id": "93a0a8db",
   "metadata": {},
   "outputs": [
    {
     "data": {
      "image/png": "[encoded data removed]",
      "text/plain": [
       "<Figure size 640x480 with 1 Axes>"
      ]
     },
     "metadata": {},
     "output_type": "display_data"
    }
   ],
   "source": [
    "\"\"\"Now,we can see the data is balanced\"\"\"\n",
    "#checking the count of primary_fuel\n",
    "sns.countplot(data=df,x=y1)\n",
    "plt.show()"
   ]
  },
  {
   "cell_type": "code",
   "execution_count": 101,
   "id": "1b29fddc",
   "metadata": {},
   "outputs": [],
   "source": [
    "#split into train test data set\n",
    "from sklearn.model_selection import train_test_split\n",
    "x_train,x_test,y_train,y_test=train_test_split(x1,y1,test_size=0.25,random_state=95)"
   ]
  },
  {
   "cell_type": "code",
   "execution_count": 102,
   "id": "39a3078f",
   "metadata": {},
   "outputs": [],
   "source": [
    "from sklearn.metrics import confusion_matrix,classification_report,accuracy_score\n",
    "from sklearn.ensemble import RandomForestClassifier\n",
    "\n",
    "def metric_score(clf,x_train,x_test,y_train,y_test, train=True):\n",
    "    if train:\n",
    "        y_pred=clf.predict(x_train)\n",
    "        print(\"\\n----------------Train Result------------------\\n\")\n",
    "        print(f\"Accuracy Score: {accuracy_score(y_train,y_pred)*100:.2f}%\")\n",
    "    elif train==False:\n",
    "        pred=clf.predict(x_test)\n",
    "        print(\"\\n----------------Test Result------------------\\n\")\n",
    "        print(f\"Accuracy Score: {accuracy_score(y_test,pred)*100:.2f}%\")\n",
    "        print('\\n\\n The Classification Report\\n', classification_report(y_test,pred,digits=2))"
   ]
  },
  {
   "cell_type": "code",
   "execution_count": 103,
   "id": "f0a13a65",
   "metadata": {},
   "outputs": [
    {
     "data": {
      "text/html": [
       "<style>#sk-container-id-3 {color: black;}#sk-container-id-3 pre{padding: 0;}#sk-container-id-3 div.sk-toggleable {background-color: white;}#sk-container-id-3 label.sk-toggleable__label {cursor: pointer;display: block;width: 100%;margin-bottom: 0;padding: 0.3em;box-sizing: border-box;text-align: center;}#sk-container-id-3 label.sk-toggleable__label-arrow:before {content: \"▸\";float: left;margin-right: 0.25em;color: #696969;}#sk-container-id-3 label.sk-toggleable__label-arrow:hover:before {color: black;}#sk-container-id-3 div.sk-estimator:hover label.sk-toggleable__label-arrow:before {color: black;}#sk-container-id-3 div.sk-toggleable__content {max-height: 0;max-width: 0;overflow: hidden;text-align: left;background-color: #f0f8ff;}#sk-container-id-3 div.sk-toggleable__content pre {margin: 0.2em;color: black;border-radius: 0.25em;background-color: #f0f8ff;}#sk-container-id-3 input.sk-toggleable__control:checked~div.sk-toggleable__content {max-height: 200px;max-width: 100%;overflow: auto;}#sk-container-id-3 input.sk-toggleable__control:checked~label.sk-toggleable__label-arrow:before {content: \"▾\";}#sk-container-id-3 div.sk-estimator input.sk-toggleable__control:checked~label.sk-toggleable__label {background-color: #d4ebff;}#sk-container-id-3 div.sk-label input.sk-toggleable__control:checked~label.sk-toggleable__label {background-color: #d4ebff;}#sk-container-id-3 input.sk-hidden--visually {border: 0;clip: rect(1px 1px 1px 1px);clip: rect(1px, 1px, 1px, 1px);height: 1px;margin: -1px;overflow: hidden;padding: 0;position: absolute;width: 1px;}#sk-container-id-3 div.sk-estimator {font-family: monospace;background-color: #f0f8ff;border: 1px dotted black;border-radius: 0.25em;box-sizing: border-box;margin-bottom: 0.5em;}#sk-container-id-3 div.sk-estimator:hover {background-color: #d4ebff;}#sk-container-id-3 div.sk-parallel-item::after {content: \"\";width: 100%;border-bottom: 1px solid gray;flex-grow: 1;}#sk-container-id-3 div.sk-label:hover label.sk-toggleable__label {background-color: #d4ebff;}#sk-container-id-3 div.sk-serial::before {content: \"\";position: absolute;border-left: 1px solid gray;box-sizing: border-box;top: 0;bottom: 0;left: 50%;z-index: 0;}#sk-container-id-3 div.sk-serial {display: flex;flex-direction: column;align-items: center;background-color: white;padding-right: 0.2em;padding-left: 0.2em;position: relative;}#sk-container-id-3 div.sk-item {position: relative;z-index: 1;}#sk-container-id-3 div.sk-parallel {display: flex;align-items: stretch;justify-content: center;background-color: white;position: relative;}#sk-container-id-3 div.sk-item::before, #sk-container-id-3 div.sk-parallel-item::before {content: \"\";position: absolute;border-left: 1px solid gray;box-sizing: border-box;top: 0;bottom: 0;left: 50%;z-index: -1;}#sk-container-id-3 div.sk-parallel-item {display: flex;flex-direction: column;z-index: 1;position: relative;background-color: white;}#sk-container-id-3 div.sk-parallel-item:first-child::after {align-self: flex-end;width: 50%;}#sk-container-id-3 div.sk-parallel-item:last-child::after {align-self: flex-start;width: 50%;}#sk-container-id-3 div.sk-parallel-item:only-child::after {width: 0;}#sk-container-id-3 div.sk-dashed-wrapped {border: 1px dashed gray;margin: 0 0.4em 0.5em 0.4em;box-sizing: border-box;padding-bottom: 0.4em;background-color: white;}#sk-container-id-3 div.sk-label label {font-family: monospace;font-weight: bold;display: inline-block;line-height: 1.2em;}#sk-container-id-3 div.sk-label-container {text-align: center;}#sk-container-id-3 div.sk-container {/* jupyter's `normalize.less` sets `[hidden] { display: none; }` but bootstrap.min.css set `[hidden] { display: none !important; }` so we also need the `!important` here to be able to override the default hidden behavior on the sphinx rendered scikit-learn.org. See: https://github.com/scikit-learn/scikit-learn/issues/21755 */display: inline-block !important;position: relative;}#sk-container-id-3 div.sk-text-repr-fallback {display: none;}</style><div id=\"sk-container-id-3\" class=\"sk-top-container\"><div class=\"sk-text-repr-fallback\"><pre>RandomForestClassifier()</pre><b>In a Jupyter environment, please rerun this cell to show the HTML representation or trust the notebook. <br />On GitHub, the HTML representation is unable to render, please try loading this page with nbviewer.org.</b></div><div class=\"sk-container\" hidden><div class=\"sk-item\"><div class=\"sk-estimator sk-toggleable\"><input class=\"sk-toggleable__control sk-hidden--visually\" id=\"sk-estimator-id-7\" type=\"checkbox\" checked><label for=\"sk-estimator-id-7\" class=\"sk-toggleable__label sk-toggleable__label-arrow\">RandomForestClassifier</label><div class=\"sk-toggleable__content\"><pre>RandomForestClassifier()</pre></div></div></div></div></div>"
      ],
      "text/plain": [
       "RandomForestClassifier()"
      ]
     },
     "execution_count": 103,
     "metadata": {},
     "output_type": "execute_result"
    }
   ],
   "source": [
    "random_clf=RandomForestClassifier()\n",
    "random_clf.fit(x_train,y_train)"
   ]
  },
  {
   "cell_type": "code",
   "execution_count": 104,
   "id": "fc41291d",
   "metadata": {},
   "outputs": [
    {
     "name": "stdout",
     "output_type": "stream",
     "text": [
      "\n",
      "----------------Train Result------------------\n",
      "\n",
      "Accuracy Score: 100.00%\n",
      "\n",
      "----------------Test Result------------------\n",
      "\n",
      "Accuracy Score: 88.82%\n",
      "\n",
      "\n",
      " The Classification Report\n",
      "               precision    recall  f1-score   support\n",
      "\n",
      "           0       0.88      0.93      0.90        55\n",
      "           1       0.80      0.59      0.68        66\n",
      "           2       0.83      0.77      0.80        57\n",
      "           3       0.90      0.90      0.90        60\n",
      "           4       0.90      0.97      0.93        59\n",
      "           5       0.82      0.98      0.90        61\n",
      "           6       1.00      1.00      1.00        57\n",
      "           7       0.97      1.00      0.98        59\n",
      "\n",
      "    accuracy                           0.89       474\n",
      "   macro avg       0.89      0.89      0.89       474\n",
      "weighted avg       0.89      0.89      0.88       474\n",
      "\n"
     ]
    }
   ],
   "source": [
    "metric_score(random_clf,x_train,x_test,y_train,y_test,train=True)\n",
    "metric_score(random_clf,x_train,x_test,y_train,y_test,train=False)"
   ]
  },
  {
   "cell_type": "code",
   "execution_count": 105,
   "id": "d59ffe46",
   "metadata": {},
   "outputs": [
    {
     "data": {
      "text/html": [
       "<style>#sk-container-id-4 {color: black;}#sk-container-id-4 pre{padding: 0;}#sk-container-id-4 div.sk-toggleable {background-color: white;}#sk-container-id-4 label.sk-toggleable__label {cursor: pointer;display: block;width: 100%;margin-bottom: 0;padding: 0.3em;box-sizing: border-box;text-align: center;}#sk-container-id-4 label.sk-toggleable__label-arrow:before {content: \"▸\";float: left;margin-right: 0.25em;color: #696969;}#sk-container-id-4 label.sk-toggleable__label-arrow:hover:before {color: black;}#sk-container-id-4 div.sk-estimator:hover label.sk-toggleable__label-arrow:before {color: black;}#sk-container-id-4 div.sk-toggleable__content {max-height: 0;max-width: 0;overflow: hidden;text-align: left;background-color: #f0f8ff;}#sk-container-id-4 div.sk-toggleable__content pre {margin: 0.2em;color: black;border-radius: 0.25em;background-color: #f0f8ff;}#sk-container-id-4 input.sk-toggleable__control:checked~div.sk-toggleable__content {max-height: 200px;max-width: 100%;overflow: auto;}#sk-container-id-4 input.sk-toggleable__control:checked~label.sk-toggleable__label-arrow:before {content: \"▾\";}#sk-container-id-4 div.sk-estimator input.sk-toggleable__control:checked~label.sk-toggleable__label {background-color: #d4ebff;}#sk-container-id-4 div.sk-label input.sk-toggleable__control:checked~label.sk-toggleable__label {background-color: #d4ebff;}#sk-container-id-4 input.sk-hidden--visually {border: 0;clip: rect(1px 1px 1px 1px);clip: rect(1px, 1px, 1px, 1px);height: 1px;margin: -1px;overflow: hidden;padding: 0;position: absolute;width: 1px;}#sk-container-id-4 div.sk-estimator {font-family: monospace;background-color: #f0f8ff;border: 1px dotted black;border-radius: 0.25em;box-sizing: border-box;margin-bottom: 0.5em;}#sk-container-id-4 div.sk-estimator:hover {background-color: #d4ebff;}#sk-container-id-4 div.sk-parallel-item::after {content: \"\";width: 100%;border-bottom: 1px solid gray;flex-grow: 1;}#sk-container-id-4 div.sk-label:hover label.sk-toggleable__label {background-color: #d4ebff;}#sk-container-id-4 div.sk-serial::before {content: \"\";position: absolute;border-left: 1px solid gray;box-sizing: border-box;top: 0;bottom: 0;left: 50%;z-index: 0;}#sk-container-id-4 div.sk-serial {display: flex;flex-direction: column;align-items: center;background-color: white;padding-right: 0.2em;padding-left: 0.2em;position: relative;}#sk-container-id-4 div.sk-item {position: relative;z-index: 1;}#sk-container-id-4 div.sk-parallel {display: flex;align-items: stretch;justify-content: center;background-color: white;position: relative;}#sk-container-id-4 div.sk-item::before, #sk-container-id-4 div.sk-parallel-item::before {content: \"\";position: absolute;border-left: 1px solid gray;box-sizing: border-box;top: 0;bottom: 0;left: 50%;z-index: -1;}#sk-container-id-4 div.sk-parallel-item {display: flex;flex-direction: column;z-index: 1;position: relative;background-color: white;}#sk-container-id-4 div.sk-parallel-item:first-child::after {align-self: flex-end;width: 50%;}#sk-container-id-4 div.sk-parallel-item:last-child::after {align-self: flex-start;width: 50%;}#sk-container-id-4 div.sk-parallel-item:only-child::after {width: 0;}#sk-container-id-4 div.sk-dashed-wrapped {border: 1px dashed gray;margin: 0 0.4em 0.5em 0.4em;box-sizing: border-box;padding-bottom: 0.4em;background-color: white;}#sk-container-id-4 div.sk-label label {font-family: monospace;font-weight: bold;display: inline-block;line-height: 1.2em;}#sk-container-id-4 div.sk-label-container {text-align: center;}#sk-container-id-4 div.sk-container {/* jupyter's `normalize.less` sets `[hidden] { display: none; }` but bootstrap.min.css set `[hidden] { display: none !important; }` so we also need the `!important` here to be able to override the default hidden behavior on the sphinx rendered scikit-learn.org. See: https://github.com/scikit-learn/scikit-learn/issues/21755 */display: inline-block !important;position: relative;}#sk-container-id-4 div.sk-text-repr-fallback {display: none;}</style><div id=\"sk-container-id-4\" class=\"sk-top-container\"><div class=\"sk-text-repr-fallback\"><pre>LogisticRegression()</pre><b>In a Jupyter environment, please rerun this cell to show the HTML representation or trust the notebook. <br />On GitHub, the HTML representation is unable to render, please try loading this page with nbviewer.org.</b></div><div class=\"sk-container\" hidden><div class=\"sk-item\"><div class=\"sk-estimator sk-toggleable\"><input class=\"sk-toggleable__control sk-hidden--visually\" id=\"sk-estimator-id-8\" type=\"checkbox\" checked><label for=\"sk-estimator-id-8\" class=\"sk-toggleable__label sk-toggleable__label-arrow\">LogisticRegression</label><div class=\"sk-toggleable__content\"><pre>LogisticRegression()</pre></div></div></div></div></div>"
      ],
      "text/plain": [
       "LogisticRegression()"
      ]
     },
     "execution_count": 105,
     "metadata": {},
     "output_type": "execute_result"
    }
   ],
   "source": [
    "#Logistic Regression\n",
    "from sklearn.linear_model import LogisticRegression\n",
    "LR=LogisticRegression()\n",
    "LR.fit(x_train,y_train)"
   ]
  },
  {
   "cell_type": "code",
   "execution_count": 106,
   "id": "cc9a3b2c",
   "metadata": {},
   "outputs": [
    {
     "name": "stdout",
     "output_type": "stream",
     "text": [
      "\n",
      "----------------Train Result------------------\n",
      "\n",
      "Accuracy Score: 71.73%\n",
      "\n",
      "----------------Test Result------------------\n",
      "\n",
      "Accuracy Score: 69.20%\n",
      "\n",
      "\n",
      " The Classification Report\n",
      "               precision    recall  f1-score   support\n",
      "\n",
      "           0       0.57      0.80      0.67        55\n",
      "           1       0.44      0.27      0.34        66\n",
      "           2       0.63      0.39      0.48        57\n",
      "           3       0.71      0.57      0.63        60\n",
      "           4       0.76      0.98      0.86        59\n",
      "           5       0.66      0.62      0.64        61\n",
      "           6       1.00      1.00      1.00        57\n",
      "           7       0.70      0.97      0.81        59\n",
      "\n",
      "    accuracy                           0.69       474\n",
      "   macro avg       0.68      0.70      0.68       474\n",
      "weighted avg       0.68      0.69      0.67       474\n",
      "\n"
     ]
    }
   ],
   "source": [
    "metric_score(LR,x_train,x_test,y_train,y_test,train=True)\n",
    "metric_score(LR,x_train,x_test,y_train,y_test,train=False)"
   ]
  },
  {
   "cell_type": "code",
   "execution_count": 107,
   "id": "091774b2",
   "metadata": {},
   "outputs": [
    {
     "data": {
      "text/html": [
       "<style>#sk-container-id-5 {color: black;}#sk-container-id-5 pre{padding: 0;}#sk-container-id-5 div.sk-toggleable {background-color: white;}#sk-container-id-5 label.sk-toggleable__label {cursor: pointer;display: block;width: 100%;margin-bottom: 0;padding: 0.3em;box-sizing: border-box;text-align: center;}#sk-container-id-5 label.sk-toggleable__label-arrow:before {content: \"▸\";float: left;margin-right: 0.25em;color: #696969;}#sk-container-id-5 label.sk-toggleable__label-arrow:hover:before {color: black;}#sk-container-id-5 div.sk-estimator:hover label.sk-toggleable__label-arrow:before {color: black;}#sk-container-id-5 div.sk-toggleable__content {max-height: 0;max-width: 0;overflow: hidden;text-align: left;background-color: #f0f8ff;}#sk-container-id-5 div.sk-toggleable__content pre {margin: 0.2em;color: black;border-radius: 0.25em;background-color: #f0f8ff;}#sk-container-id-5 input.sk-toggleable__control:checked~div.sk-toggleable__content {max-height: 200px;max-width: 100%;overflow: auto;}#sk-container-id-5 input.sk-toggleable__control:checked~label.sk-toggleable__label-arrow:before {content: \"▾\";}#sk-container-id-5 div.sk-estimator input.sk-toggleable__control:checked~label.sk-toggleable__label {background-color: #d4ebff;}#sk-container-id-5 div.sk-label input.sk-toggleable__control:checked~label.sk-toggleable__label {background-color: #d4ebff;}#sk-container-id-5 input.sk-hidden--visually {border: 0;clip: rect(1px 1px 1px 1px);clip: rect(1px, 1px, 1px, 1px);height: 1px;margin: -1px;overflow: hidden;padding: 0;position: absolute;width: 1px;}#sk-container-id-5 div.sk-estimator {font-family: monospace;background-color: #f0f8ff;border: 1px dotted black;border-radius: 0.25em;box-sizing: border-box;margin-bottom: 0.5em;}#sk-container-id-5 div.sk-estimator:hover {background-color: #d4ebff;}#sk-container-id-5 div.sk-parallel-item::after {content: \"\";width: 100%;border-bottom: 1px solid gray;flex-grow: 1;}#sk-container-id-5 div.sk-label:hover label.sk-toggleable__label {background-color: #d4ebff;}#sk-container-id-5 div.sk-serial::before {content: \"\";position: absolute;border-left: 1px solid gray;box-sizing: border-box;top: 0;bottom: 0;left: 50%;z-index: 0;}#sk-container-id-5 div.sk-serial {display: flex;flex-direction: column;align-items: center;background-color: white;padding-right: 0.2em;padding-left: 0.2em;position: relative;}#sk-container-id-5 div.sk-item {position: relative;z-index: 1;}#sk-container-id-5 div.sk-parallel {display: flex;align-items: stretch;justify-content: center;background-color: white;position: relative;}#sk-container-id-5 div.sk-item::before, #sk-container-id-5 div.sk-parallel-item::before {content: \"\";position: absolute;border-left: 1px solid gray;box-sizing: border-box;top: 0;bottom: 0;left: 50%;z-index: -1;}#sk-container-id-5 div.sk-parallel-item {display: flex;flex-direction: column;z-index: 1;position: relative;background-color: white;}#sk-container-id-5 div.sk-parallel-item:first-child::after {align-self: flex-end;width: 50%;}#sk-container-id-5 div.sk-parallel-item:last-child::after {align-self: flex-start;width: 50%;}#sk-container-id-5 div.sk-parallel-item:only-child::after {width: 0;}#sk-container-id-5 div.sk-dashed-wrapped {border: 1px dashed gray;margin: 0 0.4em 0.5em 0.4em;box-sizing: border-box;padding-bottom: 0.4em;background-color: white;}#sk-container-id-5 div.sk-label label {font-family: monospace;font-weight: bold;display: inline-block;line-height: 1.2em;}#sk-container-id-5 div.sk-label-container {text-align: center;}#sk-container-id-5 div.sk-container {/* jupyter's `normalize.less` sets `[hidden] { display: none; }` but bootstrap.min.css set `[hidden] { display: none !important; }` so we also need the `!important` here to be able to override the default hidden behavior on the sphinx rendered scikit-learn.org. See: https://github.com/scikit-learn/scikit-learn/issues/21755 */display: inline-block !important;position: relative;}#sk-container-id-5 div.sk-text-repr-fallback {display: none;}</style><div id=\"sk-container-id-5\" class=\"sk-top-container\"><div class=\"sk-text-repr-fallback\"><pre>ExtraTreesClassifier()</pre><b>In a Jupyter environment, please rerun this cell to show the HTML representation or trust the notebook. <br />On GitHub, the HTML representation is unable to render, please try loading this page with nbviewer.org.</b></div><div class=\"sk-container\" hidden><div class=\"sk-item\"><div class=\"sk-estimator sk-toggleable\"><input class=\"sk-toggleable__control sk-hidden--visually\" id=\"sk-estimator-id-9\" type=\"checkbox\" checked><label for=\"sk-estimator-id-9\" class=\"sk-toggleable__label sk-toggleable__label-arrow\">ExtraTreesClassifier</label><div class=\"sk-toggleable__content\"><pre>ExtraTreesClassifier()</pre></div></div></div></div></div>"
      ],
      "text/plain": [
       "ExtraTreesClassifier()"
      ]
     },
     "execution_count": 107,
     "metadata": {},
     "output_type": "execute_result"
    }
   ],
   "source": [
    "from sklearn.ensemble import ExtraTreesClassifier\n",
    "ETC=ExtraTreesClassifier()\n",
    "ETC.fit(x_train,y_train)"
   ]
  },
  {
   "cell_type": "code",
   "execution_count": 108,
   "id": "05856521",
   "metadata": {},
   "outputs": [
    {
     "name": "stdout",
     "output_type": "stream",
     "text": [
      "\n",
      "----------------Train Result------------------\n",
      "\n",
      "Accuracy Score: 100.00%\n",
      "\n",
      "----------------Test Result------------------\n",
      "\n",
      "Accuracy Score: 91.56%\n",
      "\n",
      "\n",
      " The Classification Report\n",
      "               precision    recall  f1-score   support\n",
      "\n",
      "           0       0.89      0.93      0.91        55\n",
      "           1       0.88      0.64      0.74        66\n",
      "           2       0.89      0.86      0.88        57\n",
      "           3       0.88      0.93      0.90        60\n",
      "           4       0.97      1.00      0.98        59\n",
      "           5       0.91      1.00      0.95        61\n",
      "           6       1.00      1.00      1.00        57\n",
      "           7       0.91      1.00      0.95        59\n",
      "\n",
      "    accuracy                           0.92       474\n",
      "   macro avg       0.92      0.92      0.91       474\n",
      "weighted avg       0.91      0.92      0.91       474\n",
      "\n"
     ]
    }
   ],
   "source": [
    "metric_score(ETC,x_train,x_test,y_train,y_test,train=True)\n",
    "metric_score(ETC,x_train,x_test,y_train,y_test,train=False)"
   ]
  },
  {
   "cell_type": "code",
   "execution_count": 109,
   "id": "c68e3615",
   "metadata": {},
   "outputs": [
    {
     "data": {
      "text/html": [
       "<style>#sk-container-id-6 {color: black;}#sk-container-id-6 pre{padding: 0;}#sk-container-id-6 div.sk-toggleable {background-color: white;}#sk-container-id-6 label.sk-toggleable__label {cursor: pointer;display: block;width: 100%;margin-bottom: 0;padding: 0.3em;box-sizing: border-box;text-align: center;}#sk-container-id-6 label.sk-toggleable__label-arrow:before {content: \"▸\";float: left;margin-right: 0.25em;color: #696969;}#sk-container-id-6 label.sk-toggleable__label-arrow:hover:before {color: black;}#sk-container-id-6 div.sk-estimator:hover label.sk-toggleable__label-arrow:before {color: black;}#sk-container-id-6 div.sk-toggleable__content {max-height: 0;max-width: 0;overflow: hidden;text-align: left;background-color: #f0f8ff;}#sk-container-id-6 div.sk-toggleable__content pre {margin: 0.2em;color: black;border-radius: 0.25em;background-color: #f0f8ff;}#sk-container-id-6 input.sk-toggleable__control:checked~div.sk-toggleable__content {max-height: 200px;max-width: 100%;overflow: auto;}#sk-container-id-6 input.sk-toggleable__control:checked~label.sk-toggleable__label-arrow:before {content: \"▾\";}#sk-container-id-6 div.sk-estimator input.sk-toggleable__control:checked~label.sk-toggleable__label {background-color: #d4ebff;}#sk-container-id-6 div.sk-label input.sk-toggleable__control:checked~label.sk-toggleable__label {background-color: #d4ebff;}#sk-container-id-6 input.sk-hidden--visually {border: 0;clip: rect(1px 1px 1px 1px);clip: rect(1px, 1px, 1px, 1px);height: 1px;margin: -1px;overflow: hidden;padding: 0;position: absolute;width: 1px;}#sk-container-id-6 div.sk-estimator {font-family: monospace;background-color: #f0f8ff;border: 1px dotted black;border-radius: 0.25em;box-sizing: border-box;margin-bottom: 0.5em;}#sk-container-id-6 div.sk-estimator:hover {background-color: #d4ebff;}#sk-container-id-6 div.sk-parallel-item::after {content: \"\";width: 100%;border-bottom: 1px solid gray;flex-grow: 1;}#sk-container-id-6 div.sk-label:hover label.sk-toggleable__label {background-color: #d4ebff;}#sk-container-id-6 div.sk-serial::before {content: \"\";position: absolute;border-left: 1px solid gray;box-sizing: border-box;top: 0;bottom: 0;left: 50%;z-index: 0;}#sk-container-id-6 div.sk-serial {display: flex;flex-direction: column;align-items: center;background-color: white;padding-right: 0.2em;padding-left: 0.2em;position: relative;}#sk-container-id-6 div.sk-item {position: relative;z-index: 1;}#sk-container-id-6 div.sk-parallel {display: flex;align-items: stretch;justify-content: center;background-color: white;position: relative;}#sk-container-id-6 div.sk-item::before, #sk-container-id-6 div.sk-parallel-item::before {content: \"\";position: absolute;border-left: 1px solid gray;box-sizing: border-box;top: 0;bottom: 0;left: 50%;z-index: -1;}#sk-container-id-6 div.sk-parallel-item {display: flex;flex-direction: column;z-index: 1;position: relative;background-color: white;}#sk-container-id-6 div.sk-parallel-item:first-child::after {align-self: flex-end;width: 50%;}#sk-container-id-6 div.sk-parallel-item:last-child::after {align-self: flex-start;width: 50%;}#sk-container-id-6 div.sk-parallel-item:only-child::after {width: 0;}#sk-container-id-6 div.sk-dashed-wrapped {border: 1px dashed gray;margin: 0 0.4em 0.5em 0.4em;box-sizing: border-box;padding-bottom: 0.4em;background-color: white;}#sk-container-id-6 div.sk-label label {font-family: monospace;font-weight: bold;display: inline-block;line-height: 1.2em;}#sk-container-id-6 div.sk-label-container {text-align: center;}#sk-container-id-6 div.sk-container {/* jupyter's `normalize.less` sets `[hidden] { display: none; }` but bootstrap.min.css set `[hidden] { display: none !important; }` so we also need the `!important` here to be able to override the default hidden behavior on the sphinx rendered scikit-learn.org. See: https://github.com/scikit-learn/scikit-learn/issues/21755 */display: inline-block !important;position: relative;}#sk-container-id-6 div.sk-text-repr-fallback {display: none;}</style><div id=\"sk-container-id-6\" class=\"sk-top-container\"><div class=\"sk-text-repr-fallback\"><pre>SVC()</pre><b>In a Jupyter environment, please rerun this cell to show the HTML representation or trust the notebook. <br />On GitHub, the HTML representation is unable to render, please try loading this page with nbviewer.org.</b></div><div class=\"sk-container\" hidden><div class=\"sk-item\"><div class=\"sk-estimator sk-toggleable\"><input class=\"sk-toggleable__control sk-hidden--visually\" id=\"sk-estimator-id-10\" type=\"checkbox\" checked><label for=\"sk-estimator-id-10\" class=\"sk-toggleable__label sk-toggleable__label-arrow\">SVC</label><div class=\"sk-toggleable__content\"><pre>SVC()</pre></div></div></div></div></div>"
      ],
      "text/plain": [
       "SVC()"
      ]
     },
     "execution_count": 109,
     "metadata": {},
     "output_type": "execute_result"
    }
   ],
   "source": [
    "from sklearn.svm import SVC\n",
    "svc=SVC()\n",
    "svc.fit(x_train,y_train)"
   ]
  },
  {
   "cell_type": "code",
   "execution_count": 110,
   "id": "c9df5f3d",
   "metadata": {},
   "outputs": [
    {
     "name": "stdout",
     "output_type": "stream",
     "text": [
      "\n",
      "----------------Train Result------------------\n",
      "\n",
      "Accuracy Score: 83.19%\n",
      "\n",
      "----------------Test Result------------------\n",
      "\n",
      "Accuracy Score: 79.75%\n",
      "\n",
      "\n",
      " The Classification Report\n",
      "               precision    recall  f1-score   support\n",
      "\n",
      "           0       0.70      0.80      0.75        55\n",
      "           1       0.71      0.41      0.52        66\n",
      "           2       0.77      0.63      0.69        57\n",
      "           3       0.88      0.73      0.80        60\n",
      "           4       0.88      1.00      0.94        59\n",
      "           5       0.78      0.85      0.81        61\n",
      "           6       1.00      1.00      1.00        57\n",
      "           7       0.69      1.00      0.82        59\n",
      "\n",
      "    accuracy                           0.80       474\n",
      "   macro avg       0.80      0.80      0.79       474\n",
      "weighted avg       0.80      0.80      0.79       474\n",
      "\n"
     ]
    }
   ],
   "source": [
    "metric_score(svc,x_train,x_test,y_train,y_test,train=True)\n",
    "metric_score(svc,x_train,x_test,y_train,y_test,train=False)"
   ]
  },
  {
   "cell_type": "code",
   "execution_count": 111,
   "id": "27e40150",
   "metadata": {},
   "outputs": [],
   "source": [
    "#..........CROSS VALIDATION SCORE........\n",
    "from sklearn.model_selection import cross_val_score"
   ]
  },
  {
   "cell_type": "code",
   "execution_count": 112,
   "id": "e12f6a69",
   "metadata": {},
   "outputs": [
    {
     "name": "stdout",
     "output_type": "stream",
     "text": [
      "[0.83529412 0.85882353 0.87058824 0.82941176 0.85294118]\n",
      "0.8494117647058823\n",
      "Difference between Accuracy Score and Cross Validation Score: 0.03877388930255654\n"
     ]
    }
   ],
   "source": [
    "#checking cv score for Random Forest Classifier\n",
    "score=cross_val_score(random_clf,x,y)\n",
    "print(score)\n",
    "print(score.mean())\n",
    "\n",
    "#here predicting once again because variables inside the function are local variables\n",
    "pred=random_clf.predict(x_test)\n",
    "acc_score1=accuracy_score(y_test,pred)\n",
    "acc_score1\n",
    "\n",
    "print(\"Difference between Accuracy Score and Cross Validation Score:\",acc_score1-score.mean())"
   ]
  },
  {
   "cell_type": "code",
   "execution_count": 113,
   "id": "85d01ffd",
   "metadata": {},
   "outputs": [
    {
     "name": "stdout",
     "output_type": "stream",
     "text": [
      "[0.71176471 0.72941176 0.68235294 0.71176471 0.72941176]\n",
      "0.7129411764705883\n",
      "Difference between Accuracy Score and Cross Validation Score: -0.020958054107719115\n"
     ]
    }
   ],
   "source": [
    "#checking cv score for Logistic Regression\n",
    "score=cross_val_score(LR,x,y)\n",
    "print(score)\n",
    "print(score.mean())\n",
    "\n",
    "#here predicting once again because variables inside the function are local variables\n",
    "pred=LR.predict(x_test)\n",
    "acc_score2=accuracy_score(y_test,pred)\n",
    "acc_score2\n",
    "\n",
    "print(\"Difference between Accuracy Score and Cross Validation Score:\",acc_score2-score.mean())"
   ]
  },
  {
   "cell_type": "code",
   "execution_count": 114,
   "id": "182bbdef",
   "metadata": {},
   "outputs": [
    {
     "name": "stdout",
     "output_type": "stream",
     "text": [
      "[0.74705882 0.77058824 0.7        0.75294118 0.74117647]\n",
      "0.7423529411764707\n",
      "Difference between Accuracy Score and Cross Validation Score: 0.05511541325390912\n"
     ]
    }
   ],
   "source": [
    "#checking cv score for Support Vector Machine\n",
    "score=cross_val_score(svc,x,y)\n",
    "print(score)\n",
    "print(score.mean())\n",
    "\n",
    "#here predicting once again because variables inside the function are local variables\n",
    "pred=svc.predict(x_test)\n",
    "acc_score3=accuracy_score(y_test,pred)\n",
    "acc_score3\n",
    "\n",
    "print(\"Difference between Accuracy Score and Cross Validation Score:\",acc_score3-score.mean())"
   ]
  },
  {
   "cell_type": "code",
   "execution_count": 115,
   "id": "4efcec20",
   "metadata": {},
   "outputs": [
    {
     "name": "stdout",
     "output_type": "stream",
     "text": [
      "[0.8        0.84705882 0.86470588 0.81764706 0.86470588]\n",
      "0.8388235294117645\n",
      "Difference between Accuracy Score and Cross Validation Score: 0.07678828493422707\n"
     ]
    }
   ],
   "source": [
    "#checking cv score for Extra Trees Classifier\n",
    "score=cross_val_score(ETC,x,y)\n",
    "print(score)\n",
    "print(score.mean())\n",
    "\n",
    "#here predicting once again because variables inside the function are local variables\n",
    "pred=ETC.predict(x_test)\n",
    "acc_score4=accuracy_score(y_test,pred)\n",
    "acc_score4\n",
    "\n",
    "print(\"Difference between Accuracy Score and Cross Validation Score:\",acc_score4-score.mean())"
   ]
  },
  {
   "cell_type": "code",
   "execution_count": 116,
   "id": "53dbead5",
   "metadata": {},
   "outputs": [
    {
     "data": {
      "text/plain": [
       "'Random Forest Classifier is our best model as the difference between accuracy score and cross \\nvalidation score is least\\n\\n...............Random Forest Classifier IS OUR BEST MODEL......'"
      ]
     },
     "execution_count": 116,
     "metadata": {},
     "output_type": "execute_result"
    }
   ],
   "source": [
    "\"\"\"Random Forest Classifier is our best model as the difference between accuracy score and cross \n",
    "validation score is least\n",
    "\n",
    "...............Random Forest Classifier IS OUR BEST MODEL......\"\"\""
   ]
  },
  {
   "cell_type": "code",
   "execution_count": 117,
   "id": "c4119d58",
   "metadata": {},
   "outputs": [
    {
     "data": {
      "text/html": [
       "<style>#sk-container-id-7 {color: black;}#sk-container-id-7 pre{padding: 0;}#sk-container-id-7 div.sk-toggleable {background-color: white;}#sk-container-id-7 label.sk-toggleable__label {cursor: pointer;display: block;width: 100%;margin-bottom: 0;padding: 0.3em;box-sizing: border-box;text-align: center;}#sk-container-id-7 label.sk-toggleable__label-arrow:before {content: \"▸\";float: left;margin-right: 0.25em;color: #696969;}#sk-container-id-7 label.sk-toggleable__label-arrow:hover:before {color: black;}#sk-container-id-7 div.sk-estimator:hover label.sk-toggleable__label-arrow:before {color: black;}#sk-container-id-7 div.sk-toggleable__content {max-height: 0;max-width: 0;overflow: hidden;text-align: left;background-color: #f0f8ff;}#sk-container-id-7 div.sk-toggleable__content pre {margin: 0.2em;color: black;border-radius: 0.25em;background-color: #f0f8ff;}#sk-container-id-7 input.sk-toggleable__control:checked~div.sk-toggleable__content {max-height: 200px;max-width: 100%;overflow: auto;}#sk-container-id-7 input.sk-toggleable__control:checked~label.sk-toggleable__label-arrow:before {content: \"▾\";}#sk-container-id-7 div.sk-estimator input.sk-toggleable__control:checked~label.sk-toggleable__label {background-color: #d4ebff;}#sk-container-id-7 div.sk-label input.sk-toggleable__control:checked~label.sk-toggleable__label {background-color: #d4ebff;}#sk-container-id-7 input.sk-hidden--visually {border: 0;clip: rect(1px 1px 1px 1px);clip: rect(1px, 1px, 1px, 1px);height: 1px;margin: -1px;overflow: hidden;padding: 0;position: absolute;width: 1px;}#sk-container-id-7 div.sk-estimator {font-family: monospace;background-color: #f0f8ff;border: 1px dotted black;border-radius: 0.25em;box-sizing: border-box;margin-bottom: 0.5em;}#sk-container-id-7 div.sk-estimator:hover {background-color: #d4ebff;}#sk-container-id-7 div.sk-parallel-item::after {content: \"\";width: 100%;border-bottom: 1px solid gray;flex-grow: 1;}#sk-container-id-7 div.sk-label:hover label.sk-toggleable__label {background-color: #d4ebff;}#sk-container-id-7 div.sk-serial::before {content: \"\";position: absolute;border-left: 1px solid gray;box-sizing: border-box;top: 0;bottom: 0;left: 50%;z-index: 0;}#sk-container-id-7 div.sk-serial {display: flex;flex-direction: column;align-items: center;background-color: white;padding-right: 0.2em;padding-left: 0.2em;position: relative;}#sk-container-id-7 div.sk-item {position: relative;z-index: 1;}#sk-container-id-7 div.sk-parallel {display: flex;align-items: stretch;justify-content: center;background-color: white;position: relative;}#sk-container-id-7 div.sk-item::before, #sk-container-id-7 div.sk-parallel-item::before {content: \"\";position: absolute;border-left: 1px solid gray;box-sizing: border-box;top: 0;bottom: 0;left: 50%;z-index: -1;}#sk-container-id-7 div.sk-parallel-item {display: flex;flex-direction: column;z-index: 1;position: relative;background-color: white;}#sk-container-id-7 div.sk-parallel-item:first-child::after {align-self: flex-end;width: 50%;}#sk-container-id-7 div.sk-parallel-item:last-child::after {align-self: flex-start;width: 50%;}#sk-container-id-7 div.sk-parallel-item:only-child::after {width: 0;}#sk-container-id-7 div.sk-dashed-wrapped {border: 1px dashed gray;margin: 0 0.4em 0.5em 0.4em;box-sizing: border-box;padding-bottom: 0.4em;background-color: white;}#sk-container-id-7 div.sk-label label {font-family: monospace;font-weight: bold;display: inline-block;line-height: 1.2em;}#sk-container-id-7 div.sk-label-container {text-align: center;}#sk-container-id-7 div.sk-container {/* jupyter's `normalize.less` sets `[hidden] { display: none; }` but bootstrap.min.css set `[hidden] { display: none !important; }` so we also need the `!important` here to be able to override the default hidden behavior on the sphinx rendered scikit-learn.org. See: https://github.com/scikit-learn/scikit-learn/issues/21755 */display: inline-block !important;position: relative;}#sk-container-id-7 div.sk-text-repr-fallback {display: none;}</style><div id=\"sk-container-id-7\" class=\"sk-top-container\"><div class=\"sk-text-repr-fallback\"><pre>GridSearchCV(cv=5, estimator=RandomForestClassifier(), n_jobs=-1,\n",
       "             param_grid={&#x27;criterion&#x27;: [&#x27;gini&#x27;, &#x27;entropy&#x27;],\n",
       "                         &#x27;min_samples_split&#x27;: [2, 3],\n",
       "                         &#x27;n_estimators&#x27;: [50, 80, 150], &#x27;random_state&#x27;: [10]})</pre><b>In a Jupyter environment, please rerun this cell to show the HTML representation or trust the notebook. <br />On GitHub, the HTML representation is unable to render, please try loading this page with nbviewer.org.</b></div><div class=\"sk-container\" hidden><div class=\"sk-item sk-dashed-wrapped\"><div class=\"sk-label-container\"><div class=\"sk-label sk-toggleable\"><input class=\"sk-toggleable__control sk-hidden--visually\" id=\"sk-estimator-id-11\" type=\"checkbox\" ><label for=\"sk-estimator-id-11\" class=\"sk-toggleable__label sk-toggleable__label-arrow\">GridSearchCV</label><div class=\"sk-toggleable__content\"><pre>GridSearchCV(cv=5, estimator=RandomForestClassifier(), n_jobs=-1,\n",
       "             param_grid={&#x27;criterion&#x27;: [&#x27;gini&#x27;, &#x27;entropy&#x27;],\n",
       "                         &#x27;min_samples_split&#x27;: [2, 3],\n",
       "                         &#x27;n_estimators&#x27;: [50, 80, 150], &#x27;random_state&#x27;: [10]})</pre></div></div></div><div class=\"sk-parallel\"><div class=\"sk-parallel-item\"><div class=\"sk-item\"><div class=\"sk-label-container\"><div class=\"sk-label sk-toggleable\"><input class=\"sk-toggleable__control sk-hidden--visually\" id=\"sk-estimator-id-12\" type=\"checkbox\" ><label for=\"sk-estimator-id-12\" class=\"sk-toggleable__label sk-toggleable__label-arrow\">estimator: RandomForestClassifier</label><div class=\"sk-toggleable__content\"><pre>RandomForestClassifier()</pre></div></div></div><div class=\"sk-serial\"><div class=\"sk-item\"><div class=\"sk-estimator sk-toggleable\"><input class=\"sk-toggleable__control sk-hidden--visually\" id=\"sk-estimator-id-13\" type=\"checkbox\" ><label for=\"sk-estimator-id-13\" class=\"sk-toggleable__label sk-toggleable__label-arrow\">RandomForestClassifier</label><div class=\"sk-toggleable__content\"><pre>RandomForestClassifier()</pre></div></div></div></div></div></div></div></div></div></div>"
      ],
      "text/plain": [
       "GridSearchCV(cv=5, estimator=RandomForestClassifier(), n_jobs=-1,\n",
       "             param_grid={'criterion': ['gini', 'entropy'],\n",
       "                         'min_samples_split': [2, 3],\n",
       "                         'n_estimators': [50, 80, 150], 'random_state': [10]})"
      ]
     },
     "execution_count": 117,
     "metadata": {},
     "output_type": "execute_result"
    }
   ],
   "source": [
    "param={\n",
    "    'criterion' : [\"gini\", \"entropy\"],\n",
    "    'n_estimators':[50,80,150],\n",
    "    'min_samples_split':[2,3],\n",
    "     'random_state':[10]              \n",
    "}\n",
    "\n",
    "gscv=GridSearchCV(random_clf,param_grid=param,n_jobs=-1, cv=5)\n",
    "gscv.fit(x_train,y_train)"
   ]
  },
  {
   "cell_type": "code",
   "execution_count": 118,
   "id": "0d5ae2bb",
   "metadata": {},
   "outputs": [
    {
     "data": {
      "text/plain": [
       "{'criterion': 'entropy',\n",
       " 'min_samples_split': 2,\n",
       " 'n_estimators': 50,\n",
       " 'random_state': 10}"
      ]
     },
     "execution_count": 118,
     "metadata": {},
     "output_type": "execute_result"
    }
   ],
   "source": [
    "gscv.best_params_"
   ]
  },
  {
   "cell_type": "code",
   "execution_count": 120,
   "id": "ed672803",
   "metadata": {},
   "outputs": [],
   "source": [
    "model=RandomForestClassifier(criterion='entropy',random_state=10,n_estimators=50,min_samples_split=2)"
   ]
  },
  {
   "cell_type": "code",
   "execution_count": 121,
   "id": "de09f94b",
   "metadata": {},
   "outputs": [
    {
     "name": "stdout",
     "output_type": "stream",
     "text": [
      "89.87341772151899\n"
     ]
    }
   ],
   "source": [
    "model.fit(x_train,y_train)\n",
    "pred=model.predict(x_test)\n",
    "acc=accuracy_score(y_test,pred)\n",
    "print(acc*100)"
   ]
  },
  {
   "cell_type": "code",
   "execution_count": 123,
   "id": "79c0136e",
   "metadata": {},
   "outputs": [
    {
     "data": {
      "text/plain": [
       "['Global_primary_fuel.pkl']"
      ]
     },
     "execution_count": 123,
     "metadata": {},
     "output_type": "execute_result"
    }
   ],
   "source": [
    "#saving model\n",
    "import joblib\n",
    "joblib.dump(model,\"Global_primary_fuel.pkl\")"
   ]
  },
  {
   "cell_type": "code",
   "execution_count": 125,
   "id": "71048baf",
   "metadata": {},
   "outputs": [
    {
     "data": {
      "text/plain": [
       "array([0, 1, 1, 1, 0, 5, 6, 0, 3, 2, 1, 6, 6, 1, 5, 4, 3, 3, 6, 0, 6, 4,\n",
       "       4, 1, 3, 7, 5, 3, 5, 0, 3, 5, 5, 4, 3, 7, 5, 5, 5, 3, 5, 6, 6, 0,\n",
       "       7, 2, 1, 6, 6, 0, 2, 7, 5, 0, 1, 7, 0, 0, 6, 4, 0, 6, 4, 0, 0, 3,\n",
       "       6, 3, 3, 4, 4, 5, 0, 2, 3, 7, 3, 4, 2, 2, 4, 0, 5, 2, 1, 6, 7, 6,\n",
       "       5, 4, 1, 4, 6, 0, 1, 5, 4, 2, 3, 4, 3, 5, 5, 1, 0, 7, 6, 0, 7, 3,\n",
       "       5, 3, 2, 1, 3, 4, 6, 5, 5, 3, 2, 4, 5, 6, 0, 0, 3, 7, 2, 0, 6, 6,\n",
       "       2, 3, 5, 7, 4, 0, 3, 3, 1, 5, 1, 7, 5, 5, 5, 7, 1, 0, 5, 2, 0, 3,\n",
       "       7, 5, 4, 5, 4, 2, 0, 1, 4, 1, 4, 2, 7, 3, 7, 6, 3, 2, 7, 3, 0, 0,\n",
       "       4, 6, 1, 6, 5, 0, 6, 5, 5, 3, 3, 4, 4, 1, 3, 6, 5, 1, 2, 2, 5, 2,\n",
       "       1, 5, 7, 2, 3, 4, 2, 7, 1, 7, 2, 5, 1, 3, 2, 7, 4, 5, 4, 7, 2, 3,\n",
       "       3, 4, 1, 0, 0, 1, 6, 2, 7, 4, 4, 4, 0, 2, 7, 2, 5, 0, 1, 6, 3, 6,\n",
       "       1, 0, 2, 2, 4, 6, 6, 6, 1, 3, 1, 3, 4, 4, 3, 0, 2, 3, 1, 0, 4, 2,\n",
       "       4, 7, 6, 6, 3, 1, 3, 7, 5, 5, 0, 6, 6, 0, 3, 5, 4, 1, 3, 4, 7, 7,\n",
       "       0, 5, 3, 1, 5, 6, 5, 7, 5, 4, 1, 6, 7, 2, 3, 0, 7, 7, 5, 3, 5, 7,\n",
       "       6, 0, 7, 6, 2, 5, 7, 1, 2, 0, 3, 7, 7, 4, 4, 5, 7, 7, 5, 6, 7, 3,\n",
       "       6, 5, 3, 5, 0, 7, 4, 2, 0, 3, 1, 2, 5, 2, 4, 4, 7, 1, 6, 7, 1, 0,\n",
       "       0, 6, 5, 2, 2, 7, 0, 7, 1, 2, 4, 0, 1, 4, 7, 7, 0, 7, 4, 7, 2, 2,\n",
       "       5, 1, 3, 3, 4, 7, 5, 1, 1, 4, 3, 4, 4, 6, 4, 2, 6, 2, 5, 7, 7, 5,\n",
       "       2, 3, 2, 2, 3, 2, 1, 6, 1, 7, 6, 6, 7, 4, 0, 6, 3, 1, 7, 5, 6, 0,\n",
       "       2, 6, 5, 2, 2, 1, 2, 7, 0, 1, 4, 6, 4, 0, 5, 7, 6, 1, 5, 4, 2, 0,\n",
       "       7, 5, 4, 2, 7, 4, 6, 3, 7, 5, 0, 6, 5, 0, 4, 7, 4, 5, 0, 3, 6, 7,\n",
       "       0, 1, 6, 3, 1, 3, 5, 3, 2, 4, 5, 1])"
      ]
     },
     "execution_count": 125,
     "metadata": {},
     "output_type": "execute_result"
    }
   ],
   "source": [
    "model=joblib.load(\"Global_primary_fuel.pkl\")\n",
    "prediction=model.predict(x_test)\n",
    "prediction"
   ]
  },
  {
   "cell_type": "code",
   "execution_count": 126,
   "id": "77ce5f60",
   "metadata": {},
   "outputs": [
    {
     "data": {
      "text/html": [
       "<div>\n",
       "<style scoped>\n",
       "    .dataframe tbody tr th:only-of-type {\n",
       "        vertical-align: middle;\n",
       "    }\n",
       "\n",
       "    .dataframe tbody tr th {\n",
       "        vertical-align: top;\n",
       "    }\n",
       "\n",
       "    .dataframe thead th {\n",
       "        text-align: right;\n",
       "    }\n",
       "</style>\n",
       "<table border=\"1\" class=\"dataframe\">\n",
       "  <thead>\n",
       "    <tr style=\"text-align: right;\">\n",
       "      <th></th>\n",
       "      <th>Predicted</th>\n",
       "      <th>Original</th>\n",
       "    </tr>\n",
       "  </thead>\n",
       "  <tbody>\n",
       "    <tr>\n",
       "      <th>0</th>\n",
       "      <td>0</td>\n",
       "      <td>0</td>\n",
       "    </tr>\n",
       "    <tr>\n",
       "      <th>1</th>\n",
       "      <td>1</td>\n",
       "      <td>1</td>\n",
       "    </tr>\n",
       "    <tr>\n",
       "      <th>2</th>\n",
       "      <td>1</td>\n",
       "      <td>1</td>\n",
       "    </tr>\n",
       "    <tr>\n",
       "      <th>3</th>\n",
       "      <td>1</td>\n",
       "      <td>1</td>\n",
       "    </tr>\n",
       "    <tr>\n",
       "      <th>4</th>\n",
       "      <td>0</td>\n",
       "      <td>0</td>\n",
       "    </tr>\n",
       "    <tr>\n",
       "      <th>...</th>\n",
       "      <td>...</td>\n",
       "      <td>...</td>\n",
       "    </tr>\n",
       "    <tr>\n",
       "      <th>469</th>\n",
       "      <td>3</td>\n",
       "      <td>3</td>\n",
       "    </tr>\n",
       "    <tr>\n",
       "      <th>470</th>\n",
       "      <td>2</td>\n",
       "      <td>2</td>\n",
       "    </tr>\n",
       "    <tr>\n",
       "      <th>471</th>\n",
       "      <td>4</td>\n",
       "      <td>4</td>\n",
       "    </tr>\n",
       "    <tr>\n",
       "      <th>472</th>\n",
       "      <td>5</td>\n",
       "      <td>5</td>\n",
       "    </tr>\n",
       "    <tr>\n",
       "      <th>473</th>\n",
       "      <td>1</td>\n",
       "      <td>1</td>\n",
       "    </tr>\n",
       "  </tbody>\n",
       "</table>\n",
       "<p>474 rows × 2 columns</p>\n",
       "</div>"
      ],
      "text/plain": [
       "     Predicted  Original\n",
       "0            0         0\n",
       "1            1         1\n",
       "2            1         1\n",
       "3            1         1\n",
       "4            0         0\n",
       "..         ...       ...\n",
       "469          3         3\n",
       "470          2         2\n",
       "471          4         4\n",
       "472          5         5\n",
       "473          1         1\n",
       "\n",
       "[474 rows x 2 columns]"
      ]
     },
     "execution_count": 126,
     "metadata": {},
     "output_type": "execute_result"
    }
   ],
   "source": [
    "a=np.array(y_test)\n",
    "df=pd.DataFrame()\n",
    "df[\"Predicted\"]=prediction\n",
    "df[\"Original\"]=a\n",
    "df"
   ]
  },
  {
   "cell_type": "code",
   "execution_count": 128,
   "id": "2962357a",
   "metadata": {},
   "outputs": [],
   "source": [
    ">>From the difference between both R2 score and cross validation score computed on R2 score we can conclude that \n",
    "  Random Forest Regressor is our best fitting and best performing model\n",
    ">>The best score is 91.05% for prediction of capacity of Global power plant.\n",
    "\n",
    "                                AND\n",
    ">>Random Forest Classifier is our best model as the difference between accuracy score and cross \n",
    "  validation score is least.\n",
    ">>The best accuracy score is 89.87% for prediction of Primary_fuel of Global Power Plant."
   ]
  },
  {
   "cell_type": "code",
   "execution_count": null,
   "id": "fc3f7392",
   "metadata": {},
   "outputs": [],
   "source": []
  }
 ],
 "metadata": {
  "kernelspec": {
   "display_name": "Python 3 (ipykernel)",
   "language": "python",
   "name": "python3"
  },
  "language_info": {
   "codemirror_mode": {
    "name": "ipython",
    "version": 3
   },
   "file_extension": ".py",
   "mimetype": "text/x-python",
   "name": "python",
   "nbconvert_exporter": "python",
   "pygments_lexer": "ipython3",
   "version": "3.11.5"
  }
 },
 "nbformat": 4,
 "nbformat_minor": 5
}
